{
 "cells": [
  {
   "cell_type": "code",
   "execution_count": 1,
   "metadata": {},
   "outputs": [],
   "source": [
    "import pandas as pd\n",
    "import matplotlib.pyplot as plt\n",
    "%matplotlib inline\n",
    "import numpy as np\n",
    "import seaborn as sns"
   ]
  },
  {
   "cell_type": "code",
   "execution_count": 2,
   "metadata": {},
   "outputs": [],
   "source": [
    "df=pd.read_csv(\"datasets_180_408_data.csv\")"
   ]
  },
  {
   "cell_type": "code",
   "execution_count": 3,
   "metadata": {},
   "outputs": [
    {
     "data": {
      "text/html": [
       "<div>\n",
       "<style scoped>\n",
       "    .dataframe tbody tr th:only-of-type {\n",
       "        vertical-align: middle;\n",
       "    }\n",
       "\n",
       "    .dataframe tbody tr th {\n",
       "        vertical-align: top;\n",
       "    }\n",
       "\n",
       "    .dataframe thead th {\n",
       "        text-align: right;\n",
       "    }\n",
       "</style>\n",
       "<table border=\"1\" class=\"dataframe\">\n",
       "  <thead>\n",
       "    <tr style=\"text-align: right;\">\n",
       "      <th></th>\n",
       "      <th>id</th>\n",
       "      <th>diagnosis</th>\n",
       "      <th>radius_mean</th>\n",
       "      <th>texture_mean</th>\n",
       "      <th>perimeter_mean</th>\n",
       "      <th>area_mean</th>\n",
       "      <th>smoothness_mean</th>\n",
       "      <th>compactness_mean</th>\n",
       "      <th>concavity_mean</th>\n",
       "      <th>concave points_mean</th>\n",
       "      <th>...</th>\n",
       "      <th>texture_worst</th>\n",
       "      <th>perimeter_worst</th>\n",
       "      <th>area_worst</th>\n",
       "      <th>smoothness_worst</th>\n",
       "      <th>compactness_worst</th>\n",
       "      <th>concavity_worst</th>\n",
       "      <th>concave points_worst</th>\n",
       "      <th>symmetry_worst</th>\n",
       "      <th>fractal_dimension_worst</th>\n",
       "      <th>Unnamed: 32</th>\n",
       "    </tr>\n",
       "  </thead>\n",
       "  <tbody>\n",
       "    <tr>\n",
       "      <th>0</th>\n",
       "      <td>842302</td>\n",
       "      <td>M</td>\n",
       "      <td>17.99</td>\n",
       "      <td>10.38</td>\n",
       "      <td>122.80</td>\n",
       "      <td>1001.0</td>\n",
       "      <td>0.11840</td>\n",
       "      <td>0.27760</td>\n",
       "      <td>0.30010</td>\n",
       "      <td>0.14710</td>\n",
       "      <td>...</td>\n",
       "      <td>17.33</td>\n",
       "      <td>184.60</td>\n",
       "      <td>2019.0</td>\n",
       "      <td>0.1622</td>\n",
       "      <td>0.6656</td>\n",
       "      <td>0.7119</td>\n",
       "      <td>0.26540</td>\n",
       "      <td>0.4601</td>\n",
       "      <td>0.11890</td>\n",
       "      <td>NaN</td>\n",
       "    </tr>\n",
       "    <tr>\n",
       "      <th>1</th>\n",
       "      <td>842517</td>\n",
       "      <td>M</td>\n",
       "      <td>20.57</td>\n",
       "      <td>17.77</td>\n",
       "      <td>132.90</td>\n",
       "      <td>1326.0</td>\n",
       "      <td>0.08474</td>\n",
       "      <td>0.07864</td>\n",
       "      <td>0.08690</td>\n",
       "      <td>0.07017</td>\n",
       "      <td>...</td>\n",
       "      <td>23.41</td>\n",
       "      <td>158.80</td>\n",
       "      <td>1956.0</td>\n",
       "      <td>0.1238</td>\n",
       "      <td>0.1866</td>\n",
       "      <td>0.2416</td>\n",
       "      <td>0.18600</td>\n",
       "      <td>0.2750</td>\n",
       "      <td>0.08902</td>\n",
       "      <td>NaN</td>\n",
       "    </tr>\n",
       "    <tr>\n",
       "      <th>2</th>\n",
       "      <td>84300903</td>\n",
       "      <td>M</td>\n",
       "      <td>19.69</td>\n",
       "      <td>21.25</td>\n",
       "      <td>130.00</td>\n",
       "      <td>1203.0</td>\n",
       "      <td>0.10960</td>\n",
       "      <td>0.15990</td>\n",
       "      <td>0.19740</td>\n",
       "      <td>0.12790</td>\n",
       "      <td>...</td>\n",
       "      <td>25.53</td>\n",
       "      <td>152.50</td>\n",
       "      <td>1709.0</td>\n",
       "      <td>0.1444</td>\n",
       "      <td>0.4245</td>\n",
       "      <td>0.4504</td>\n",
       "      <td>0.24300</td>\n",
       "      <td>0.3613</td>\n",
       "      <td>0.08758</td>\n",
       "      <td>NaN</td>\n",
       "    </tr>\n",
       "    <tr>\n",
       "      <th>3</th>\n",
       "      <td>84348301</td>\n",
       "      <td>M</td>\n",
       "      <td>11.42</td>\n",
       "      <td>20.38</td>\n",
       "      <td>77.58</td>\n",
       "      <td>386.1</td>\n",
       "      <td>0.14250</td>\n",
       "      <td>0.28390</td>\n",
       "      <td>0.24140</td>\n",
       "      <td>0.10520</td>\n",
       "      <td>...</td>\n",
       "      <td>26.50</td>\n",
       "      <td>98.87</td>\n",
       "      <td>567.7</td>\n",
       "      <td>0.2098</td>\n",
       "      <td>0.8663</td>\n",
       "      <td>0.6869</td>\n",
       "      <td>0.25750</td>\n",
       "      <td>0.6638</td>\n",
       "      <td>0.17300</td>\n",
       "      <td>NaN</td>\n",
       "    </tr>\n",
       "    <tr>\n",
       "      <th>4</th>\n",
       "      <td>84358402</td>\n",
       "      <td>M</td>\n",
       "      <td>20.29</td>\n",
       "      <td>14.34</td>\n",
       "      <td>135.10</td>\n",
       "      <td>1297.0</td>\n",
       "      <td>0.10030</td>\n",
       "      <td>0.13280</td>\n",
       "      <td>0.19800</td>\n",
       "      <td>0.10430</td>\n",
       "      <td>...</td>\n",
       "      <td>16.67</td>\n",
       "      <td>152.20</td>\n",
       "      <td>1575.0</td>\n",
       "      <td>0.1374</td>\n",
       "      <td>0.2050</td>\n",
       "      <td>0.4000</td>\n",
       "      <td>0.16250</td>\n",
       "      <td>0.2364</td>\n",
       "      <td>0.07678</td>\n",
       "      <td>NaN</td>\n",
       "    </tr>\n",
       "    <tr>\n",
       "      <th>5</th>\n",
       "      <td>843786</td>\n",
       "      <td>M</td>\n",
       "      <td>12.45</td>\n",
       "      <td>15.70</td>\n",
       "      <td>82.57</td>\n",
       "      <td>477.1</td>\n",
       "      <td>0.12780</td>\n",
       "      <td>0.17000</td>\n",
       "      <td>0.15780</td>\n",
       "      <td>0.08089</td>\n",
       "      <td>...</td>\n",
       "      <td>23.75</td>\n",
       "      <td>103.40</td>\n",
       "      <td>741.6</td>\n",
       "      <td>0.1791</td>\n",
       "      <td>0.5249</td>\n",
       "      <td>0.5355</td>\n",
       "      <td>0.17410</td>\n",
       "      <td>0.3985</td>\n",
       "      <td>0.12440</td>\n",
       "      <td>NaN</td>\n",
       "    </tr>\n",
       "    <tr>\n",
       "      <th>6</th>\n",
       "      <td>844359</td>\n",
       "      <td>M</td>\n",
       "      <td>18.25</td>\n",
       "      <td>19.98</td>\n",
       "      <td>119.60</td>\n",
       "      <td>1040.0</td>\n",
       "      <td>0.09463</td>\n",
       "      <td>0.10900</td>\n",
       "      <td>0.11270</td>\n",
       "      <td>0.07400</td>\n",
       "      <td>...</td>\n",
       "      <td>27.66</td>\n",
       "      <td>153.20</td>\n",
       "      <td>1606.0</td>\n",
       "      <td>0.1442</td>\n",
       "      <td>0.2576</td>\n",
       "      <td>0.3784</td>\n",
       "      <td>0.19320</td>\n",
       "      <td>0.3063</td>\n",
       "      <td>0.08368</td>\n",
       "      <td>NaN</td>\n",
       "    </tr>\n",
       "    <tr>\n",
       "      <th>7</th>\n",
       "      <td>84458202</td>\n",
       "      <td>M</td>\n",
       "      <td>13.71</td>\n",
       "      <td>20.83</td>\n",
       "      <td>90.20</td>\n",
       "      <td>577.9</td>\n",
       "      <td>0.11890</td>\n",
       "      <td>0.16450</td>\n",
       "      <td>0.09366</td>\n",
       "      <td>0.05985</td>\n",
       "      <td>...</td>\n",
       "      <td>28.14</td>\n",
       "      <td>110.60</td>\n",
       "      <td>897.0</td>\n",
       "      <td>0.1654</td>\n",
       "      <td>0.3682</td>\n",
       "      <td>0.2678</td>\n",
       "      <td>0.15560</td>\n",
       "      <td>0.3196</td>\n",
       "      <td>0.11510</td>\n",
       "      <td>NaN</td>\n",
       "    </tr>\n",
       "    <tr>\n",
       "      <th>8</th>\n",
       "      <td>844981</td>\n",
       "      <td>M</td>\n",
       "      <td>13.00</td>\n",
       "      <td>21.82</td>\n",
       "      <td>87.50</td>\n",
       "      <td>519.8</td>\n",
       "      <td>0.12730</td>\n",
       "      <td>0.19320</td>\n",
       "      <td>0.18590</td>\n",
       "      <td>0.09353</td>\n",
       "      <td>...</td>\n",
       "      <td>30.73</td>\n",
       "      <td>106.20</td>\n",
       "      <td>739.3</td>\n",
       "      <td>0.1703</td>\n",
       "      <td>0.5401</td>\n",
       "      <td>0.5390</td>\n",
       "      <td>0.20600</td>\n",
       "      <td>0.4378</td>\n",
       "      <td>0.10720</td>\n",
       "      <td>NaN</td>\n",
       "    </tr>\n",
       "    <tr>\n",
       "      <th>9</th>\n",
       "      <td>84501001</td>\n",
       "      <td>M</td>\n",
       "      <td>12.46</td>\n",
       "      <td>24.04</td>\n",
       "      <td>83.97</td>\n",
       "      <td>475.9</td>\n",
       "      <td>0.11860</td>\n",
       "      <td>0.23960</td>\n",
       "      <td>0.22730</td>\n",
       "      <td>0.08543</td>\n",
       "      <td>...</td>\n",
       "      <td>40.68</td>\n",
       "      <td>97.65</td>\n",
       "      <td>711.4</td>\n",
       "      <td>0.1853</td>\n",
       "      <td>1.0580</td>\n",
       "      <td>1.1050</td>\n",
       "      <td>0.22100</td>\n",
       "      <td>0.4366</td>\n",
       "      <td>0.20750</td>\n",
       "      <td>NaN</td>\n",
       "    </tr>\n",
       "    <tr>\n",
       "      <th>10</th>\n",
       "      <td>845636</td>\n",
       "      <td>M</td>\n",
       "      <td>16.02</td>\n",
       "      <td>23.24</td>\n",
       "      <td>102.70</td>\n",
       "      <td>797.8</td>\n",
       "      <td>0.08206</td>\n",
       "      <td>0.06669</td>\n",
       "      <td>0.03299</td>\n",
       "      <td>0.03323</td>\n",
       "      <td>...</td>\n",
       "      <td>33.88</td>\n",
       "      <td>123.80</td>\n",
       "      <td>1150.0</td>\n",
       "      <td>0.1181</td>\n",
       "      <td>0.1551</td>\n",
       "      <td>0.1459</td>\n",
       "      <td>0.09975</td>\n",
       "      <td>0.2948</td>\n",
       "      <td>0.08452</td>\n",
       "      <td>NaN</td>\n",
       "    </tr>\n",
       "    <tr>\n",
       "      <th>11</th>\n",
       "      <td>84610002</td>\n",
       "      <td>M</td>\n",
       "      <td>15.78</td>\n",
       "      <td>17.89</td>\n",
       "      <td>103.60</td>\n",
       "      <td>781.0</td>\n",
       "      <td>0.09710</td>\n",
       "      <td>0.12920</td>\n",
       "      <td>0.09954</td>\n",
       "      <td>0.06606</td>\n",
       "      <td>...</td>\n",
       "      <td>27.28</td>\n",
       "      <td>136.50</td>\n",
       "      <td>1299.0</td>\n",
       "      <td>0.1396</td>\n",
       "      <td>0.5609</td>\n",
       "      <td>0.3965</td>\n",
       "      <td>0.18100</td>\n",
       "      <td>0.3792</td>\n",
       "      <td>0.10480</td>\n",
       "      <td>NaN</td>\n",
       "    </tr>\n",
       "    <tr>\n",
       "      <th>12</th>\n",
       "      <td>846226</td>\n",
       "      <td>M</td>\n",
       "      <td>19.17</td>\n",
       "      <td>24.80</td>\n",
       "      <td>132.40</td>\n",
       "      <td>1123.0</td>\n",
       "      <td>0.09740</td>\n",
       "      <td>0.24580</td>\n",
       "      <td>0.20650</td>\n",
       "      <td>0.11180</td>\n",
       "      <td>...</td>\n",
       "      <td>29.94</td>\n",
       "      <td>151.70</td>\n",
       "      <td>1332.0</td>\n",
       "      <td>0.1037</td>\n",
       "      <td>0.3903</td>\n",
       "      <td>0.3639</td>\n",
       "      <td>0.17670</td>\n",
       "      <td>0.3176</td>\n",
       "      <td>0.10230</td>\n",
       "      <td>NaN</td>\n",
       "    </tr>\n",
       "    <tr>\n",
       "      <th>13</th>\n",
       "      <td>846381</td>\n",
       "      <td>M</td>\n",
       "      <td>15.85</td>\n",
       "      <td>23.95</td>\n",
       "      <td>103.70</td>\n",
       "      <td>782.7</td>\n",
       "      <td>0.08401</td>\n",
       "      <td>0.10020</td>\n",
       "      <td>0.09938</td>\n",
       "      <td>0.05364</td>\n",
       "      <td>...</td>\n",
       "      <td>27.66</td>\n",
       "      <td>112.00</td>\n",
       "      <td>876.5</td>\n",
       "      <td>0.1131</td>\n",
       "      <td>0.1924</td>\n",
       "      <td>0.2322</td>\n",
       "      <td>0.11190</td>\n",
       "      <td>0.2809</td>\n",
       "      <td>0.06287</td>\n",
       "      <td>NaN</td>\n",
       "    </tr>\n",
       "    <tr>\n",
       "      <th>14</th>\n",
       "      <td>84667401</td>\n",
       "      <td>M</td>\n",
       "      <td>13.73</td>\n",
       "      <td>22.61</td>\n",
       "      <td>93.60</td>\n",
       "      <td>578.3</td>\n",
       "      <td>0.11310</td>\n",
       "      <td>0.22930</td>\n",
       "      <td>0.21280</td>\n",
       "      <td>0.08025</td>\n",
       "      <td>...</td>\n",
       "      <td>32.01</td>\n",
       "      <td>108.80</td>\n",
       "      <td>697.7</td>\n",
       "      <td>0.1651</td>\n",
       "      <td>0.7725</td>\n",
       "      <td>0.6943</td>\n",
       "      <td>0.22080</td>\n",
       "      <td>0.3596</td>\n",
       "      <td>0.14310</td>\n",
       "      <td>NaN</td>\n",
       "    </tr>\n",
       "  </tbody>\n",
       "</table>\n",
       "<p>15 rows × 33 columns</p>\n",
       "</div>"
      ],
      "text/plain": [
       "          id diagnosis  radius_mean  texture_mean  perimeter_mean  area_mean  \\\n",
       "0     842302         M        17.99         10.38          122.80     1001.0   \n",
       "1     842517         M        20.57         17.77          132.90     1326.0   \n",
       "2   84300903         M        19.69         21.25          130.00     1203.0   \n",
       "3   84348301         M        11.42         20.38           77.58      386.1   \n",
       "4   84358402         M        20.29         14.34          135.10     1297.0   \n",
       "5     843786         M        12.45         15.70           82.57      477.1   \n",
       "6     844359         M        18.25         19.98          119.60     1040.0   \n",
       "7   84458202         M        13.71         20.83           90.20      577.9   \n",
       "8     844981         M        13.00         21.82           87.50      519.8   \n",
       "9   84501001         M        12.46         24.04           83.97      475.9   \n",
       "10    845636         M        16.02         23.24          102.70      797.8   \n",
       "11  84610002         M        15.78         17.89          103.60      781.0   \n",
       "12    846226         M        19.17         24.80          132.40     1123.0   \n",
       "13    846381         M        15.85         23.95          103.70      782.7   \n",
       "14  84667401         M        13.73         22.61           93.60      578.3   \n",
       "\n",
       "    smoothness_mean  compactness_mean  concavity_mean  concave points_mean  \\\n",
       "0           0.11840           0.27760         0.30010              0.14710   \n",
       "1           0.08474           0.07864         0.08690              0.07017   \n",
       "2           0.10960           0.15990         0.19740              0.12790   \n",
       "3           0.14250           0.28390         0.24140              0.10520   \n",
       "4           0.10030           0.13280         0.19800              0.10430   \n",
       "5           0.12780           0.17000         0.15780              0.08089   \n",
       "6           0.09463           0.10900         0.11270              0.07400   \n",
       "7           0.11890           0.16450         0.09366              0.05985   \n",
       "8           0.12730           0.19320         0.18590              0.09353   \n",
       "9           0.11860           0.23960         0.22730              0.08543   \n",
       "10          0.08206           0.06669         0.03299              0.03323   \n",
       "11          0.09710           0.12920         0.09954              0.06606   \n",
       "12          0.09740           0.24580         0.20650              0.11180   \n",
       "13          0.08401           0.10020         0.09938              0.05364   \n",
       "14          0.11310           0.22930         0.21280              0.08025   \n",
       "\n",
       "    ...  texture_worst  perimeter_worst  area_worst  smoothness_worst  \\\n",
       "0   ...          17.33           184.60      2019.0            0.1622   \n",
       "1   ...          23.41           158.80      1956.0            0.1238   \n",
       "2   ...          25.53           152.50      1709.0            0.1444   \n",
       "3   ...          26.50            98.87       567.7            0.2098   \n",
       "4   ...          16.67           152.20      1575.0            0.1374   \n",
       "5   ...          23.75           103.40       741.6            0.1791   \n",
       "6   ...          27.66           153.20      1606.0            0.1442   \n",
       "7   ...          28.14           110.60       897.0            0.1654   \n",
       "8   ...          30.73           106.20       739.3            0.1703   \n",
       "9   ...          40.68            97.65       711.4            0.1853   \n",
       "10  ...          33.88           123.80      1150.0            0.1181   \n",
       "11  ...          27.28           136.50      1299.0            0.1396   \n",
       "12  ...          29.94           151.70      1332.0            0.1037   \n",
       "13  ...          27.66           112.00       876.5            0.1131   \n",
       "14  ...          32.01           108.80       697.7            0.1651   \n",
       "\n",
       "    compactness_worst  concavity_worst  concave points_worst  symmetry_worst  \\\n",
       "0              0.6656           0.7119               0.26540          0.4601   \n",
       "1              0.1866           0.2416               0.18600          0.2750   \n",
       "2              0.4245           0.4504               0.24300          0.3613   \n",
       "3              0.8663           0.6869               0.25750          0.6638   \n",
       "4              0.2050           0.4000               0.16250          0.2364   \n",
       "5              0.5249           0.5355               0.17410          0.3985   \n",
       "6              0.2576           0.3784               0.19320          0.3063   \n",
       "7              0.3682           0.2678               0.15560          0.3196   \n",
       "8              0.5401           0.5390               0.20600          0.4378   \n",
       "9              1.0580           1.1050               0.22100          0.4366   \n",
       "10             0.1551           0.1459               0.09975          0.2948   \n",
       "11             0.5609           0.3965               0.18100          0.3792   \n",
       "12             0.3903           0.3639               0.17670          0.3176   \n",
       "13             0.1924           0.2322               0.11190          0.2809   \n",
       "14             0.7725           0.6943               0.22080          0.3596   \n",
       "\n",
       "    fractal_dimension_worst  Unnamed: 32  \n",
       "0                   0.11890          NaN  \n",
       "1                   0.08902          NaN  \n",
       "2                   0.08758          NaN  \n",
       "3                   0.17300          NaN  \n",
       "4                   0.07678          NaN  \n",
       "5                   0.12440          NaN  \n",
       "6                   0.08368          NaN  \n",
       "7                   0.11510          NaN  \n",
       "8                   0.10720          NaN  \n",
       "9                   0.20750          NaN  \n",
       "10                  0.08452          NaN  \n",
       "11                  0.10480          NaN  \n",
       "12                  0.10230          NaN  \n",
       "13                  0.06287          NaN  \n",
       "14                  0.14310          NaN  \n",
       "\n",
       "[15 rows x 33 columns]"
      ]
     },
     "execution_count": 3,
     "metadata": {},
     "output_type": "execute_result"
    }
   ],
   "source": [
    "df.head(15)"
   ]
  },
  {
   "cell_type": "code",
   "execution_count": 4,
   "metadata": {},
   "outputs": [
    {
     "name": "stdout",
     "output_type": "stream",
     "text": [
      "<class 'pandas.core.frame.DataFrame'>\n",
      "RangeIndex: 569 entries, 0 to 568\n",
      "Data columns (total 33 columns):\n",
      " #   Column                   Non-Null Count  Dtype  \n",
      "---  ------                   --------------  -----  \n",
      " 0   id                       569 non-null    int64  \n",
      " 1   diagnosis                569 non-null    object \n",
      " 2   radius_mean              569 non-null    float64\n",
      " 3   texture_mean             569 non-null    float64\n",
      " 4   perimeter_mean           569 non-null    float64\n",
      " 5   area_mean                569 non-null    float64\n",
      " 6   smoothness_mean          569 non-null    float64\n",
      " 7   compactness_mean         569 non-null    float64\n",
      " 8   concavity_mean           569 non-null    float64\n",
      " 9   concave points_mean      569 non-null    float64\n",
      " 10  symmetry_mean            569 non-null    float64\n",
      " 11  fractal_dimension_mean   569 non-null    float64\n",
      " 12  radius_se                569 non-null    float64\n",
      " 13  texture_se               569 non-null    float64\n",
      " 14  perimeter_se             569 non-null    float64\n",
      " 15  area_se                  569 non-null    float64\n",
      " 16  smoothness_se            569 non-null    float64\n",
      " 17  compactness_se           569 non-null    float64\n",
      " 18  concavity_se             569 non-null    float64\n",
      " 19  concave points_se        569 non-null    float64\n",
      " 20  symmetry_se              569 non-null    float64\n",
      " 21  fractal_dimension_se     569 non-null    float64\n",
      " 22  radius_worst             569 non-null    float64\n",
      " 23  texture_worst            569 non-null    float64\n",
      " 24  perimeter_worst          569 non-null    float64\n",
      " 25  area_worst               569 non-null    float64\n",
      " 26  smoothness_worst         569 non-null    float64\n",
      " 27  compactness_worst        569 non-null    float64\n",
      " 28  concavity_worst          569 non-null    float64\n",
      " 29  concave points_worst     569 non-null    float64\n",
      " 30  symmetry_worst           569 non-null    float64\n",
      " 31  fractal_dimension_worst  569 non-null    float64\n",
      " 32  Unnamed: 32              0 non-null      float64\n",
      "dtypes: float64(31), int64(1), object(1)\n",
      "memory usage: 146.8+ KB\n"
     ]
    }
   ],
   "source": [
    "df.info()"
   ]
  },
  {
   "cell_type": "code",
   "execution_count": 5,
   "metadata": {},
   "outputs": [],
   "source": [
    "df.drop([\"Unnamed: 32\"],axis=1,inplace=True)"
   ]
  },
  {
   "cell_type": "code",
   "execution_count": 6,
   "metadata": {},
   "outputs": [
    {
     "name": "stdout",
     "output_type": "stream",
     "text": [
      "<class 'pandas.core.frame.DataFrame'>\n",
      "RangeIndex: 569 entries, 0 to 568\n",
      "Data columns (total 32 columns):\n",
      " #   Column                   Non-Null Count  Dtype  \n",
      "---  ------                   --------------  -----  \n",
      " 0   id                       569 non-null    int64  \n",
      " 1   diagnosis                569 non-null    object \n",
      " 2   radius_mean              569 non-null    float64\n",
      " 3   texture_mean             569 non-null    float64\n",
      " 4   perimeter_mean           569 non-null    float64\n",
      " 5   area_mean                569 non-null    float64\n",
      " 6   smoothness_mean          569 non-null    float64\n",
      " 7   compactness_mean         569 non-null    float64\n",
      " 8   concavity_mean           569 non-null    float64\n",
      " 9   concave points_mean      569 non-null    float64\n",
      " 10  symmetry_mean            569 non-null    float64\n",
      " 11  fractal_dimension_mean   569 non-null    float64\n",
      " 12  radius_se                569 non-null    float64\n",
      " 13  texture_se               569 non-null    float64\n",
      " 14  perimeter_se             569 non-null    float64\n",
      " 15  area_se                  569 non-null    float64\n",
      " 16  smoothness_se            569 non-null    float64\n",
      " 17  compactness_se           569 non-null    float64\n",
      " 18  concavity_se             569 non-null    float64\n",
      " 19  concave points_se        569 non-null    float64\n",
      " 20  symmetry_se              569 non-null    float64\n",
      " 21  fractal_dimension_se     569 non-null    float64\n",
      " 22  radius_worst             569 non-null    float64\n",
      " 23  texture_worst            569 non-null    float64\n",
      " 24  perimeter_worst          569 non-null    float64\n",
      " 25  area_worst               569 non-null    float64\n",
      " 26  smoothness_worst         569 non-null    float64\n",
      " 27  compactness_worst        569 non-null    float64\n",
      " 28  concavity_worst          569 non-null    float64\n",
      " 29  concave points_worst     569 non-null    float64\n",
      " 30  symmetry_worst           569 non-null    float64\n",
      " 31  fractal_dimension_worst  569 non-null    float64\n",
      "dtypes: float64(30), int64(1), object(1)\n",
      "memory usage: 142.4+ KB\n"
     ]
    }
   ],
   "source": [
    "df.info()"
   ]
  },
  {
   "cell_type": "code",
   "execution_count": 7,
   "metadata": {},
   "outputs": [],
   "source": [
    "df1=df"
   ]
  },
  {
   "cell_type": "code",
   "execution_count": 8,
   "metadata": {},
   "outputs": [],
   "source": [
    "df[\"radius\"]=(df[\"radius_worst\" ]-df[\"radius_mean\"])/df[\"radius_se\"]"
   ]
  },
  {
   "cell_type": "code",
   "execution_count": 9,
   "metadata": {},
   "outputs": [],
   "source": [
    "df[\"texture\"]=(df[\"texture_worst\" ]-df[\"texture_mean\"])/df[\"texture_se\"]"
   ]
  },
  {
   "cell_type": "code",
   "execution_count": 10,
   "metadata": {},
   "outputs": [],
   "source": [
    "df[\"perimeter\"]=(df[\"perimeter_worst\" ]-df[\"perimeter_mean\"])/df[\"perimeter_se\"]"
   ]
  },
  {
   "cell_type": "code",
   "execution_count": 11,
   "metadata": {},
   "outputs": [],
   "source": [
    "df[\"area\"]=(df[\"area_worst\" ]-df[\"area_mean\"])/df[\"area_se\"]"
   ]
  },
  {
   "cell_type": "code",
   "execution_count": 12,
   "metadata": {},
   "outputs": [],
   "source": [
    "df[\"smoothness\"]=(df[\"smoothness_worst\" ]-df[\"smoothness_mean\"])/df[\"smoothness_se\"]"
   ]
  },
  {
   "cell_type": "code",
   "execution_count": 13,
   "metadata": {},
   "outputs": [],
   "source": [
    "df[\"compactness\"]=(df[\"compactness_worst\" ]-df[\"compactness_mean\"])/df[\"compactness_se\"]"
   ]
  },
  {
   "cell_type": "code",
   "execution_count": 14,
   "metadata": {},
   "outputs": [],
   "source": [
    "df[\"concavity\"]=(df[\"concavity_worst\" ]-df[\"concavity_mean\"])/df[\"concavity_se\"]"
   ]
  },
  {
   "cell_type": "code",
   "execution_count": 15,
   "metadata": {},
   "outputs": [],
   "source": [
    "df[\"concave points\"]=(df[\"concave points_worst\" ]-df[\"concave points_mean\"])/df[\"concave points_se\"]"
   ]
  },
  {
   "cell_type": "code",
   "execution_count": 16,
   "metadata": {},
   "outputs": [],
   "source": [
    "df[\"symmetry\"]=(df[\"symmetry_worst\" ]-df[\"symmetry_mean\"])/df[\"symmetry_se\"]"
   ]
  },
  {
   "cell_type": "code",
   "execution_count": 17,
   "metadata": {},
   "outputs": [],
   "source": [
    "df[\"fractal_dimensions\"]=(df[\"fractal_dimension_worst\" ]-df[\"fractal_dimension_mean\"])/df[\"fractal_dimension_se\"]"
   ]
  },
  {
   "cell_type": "code",
   "execution_count": 18,
   "metadata": {},
   "outputs": [],
   "source": [
    "df.drop([\"fractal_dimension_se\",\"radius_mean\",\"radius_se\",\"radius_worst\"],axis=1,inplace=True)"
   ]
  },
  {
   "cell_type": "code",
   "execution_count": 19,
   "metadata": {},
   "outputs": [],
   "source": [
    "df.drop([\"texture_mean\",\"texture_se\",\"texture_worst\",\"perimeter_mean\",\"perimeter_worst\",\"perimeter_se\",\"area_mean\",\"area_se\",\"area_worst\",\"smoothness_se\",\"smoothness_worst\",\"smoothness_mean\",\"compactness_mean\",\"compactness_se\",\"compactness_worst\"],axis=1,inplace=True)"
   ]
  },
  {
   "cell_type": "code",
   "execution_count": 20,
   "metadata": {},
   "outputs": [
    {
     "name": "stdout",
     "output_type": "stream",
     "text": [
      "<class 'pandas.core.frame.DataFrame'>\n",
      "RangeIndex: 569 entries, 0 to 568\n",
      "Data columns (total 23 columns):\n",
      " #   Column                   Non-Null Count  Dtype  \n",
      "---  ------                   --------------  -----  \n",
      " 0   id                       569 non-null    int64  \n",
      " 1   diagnosis                569 non-null    object \n",
      " 2   concavity_mean           569 non-null    float64\n",
      " 3   concave points_mean      569 non-null    float64\n",
      " 4   symmetry_mean            569 non-null    float64\n",
      " 5   fractal_dimension_mean   569 non-null    float64\n",
      " 6   concavity_se             569 non-null    float64\n",
      " 7   concave points_se        569 non-null    float64\n",
      " 8   symmetry_se              569 non-null    float64\n",
      " 9   concavity_worst          569 non-null    float64\n",
      " 10  concave points_worst     569 non-null    float64\n",
      " 11  symmetry_worst           569 non-null    float64\n",
      " 12  fractal_dimension_worst  569 non-null    float64\n",
      " 13  radius                   569 non-null    float64\n",
      " 14  texture                  569 non-null    float64\n",
      " 15  perimeter                569 non-null    float64\n",
      " 16  area                     569 non-null    float64\n",
      " 17  smoothness               569 non-null    float64\n",
      " 18  compactness              569 non-null    float64\n",
      " 19  concavity                556 non-null    float64\n",
      " 20  concave points           556 non-null    float64\n",
      " 21  symmetry                 569 non-null    float64\n",
      " 22  fractal_dimensions       569 non-null    float64\n",
      "dtypes: float64(21), int64(1), object(1)\n",
      "memory usage: 102.4+ KB\n"
     ]
    }
   ],
   "source": [
    "df.info()"
   ]
  },
  {
   "cell_type": "code",
   "execution_count": null,
   "metadata": {},
   "outputs": [],
   "source": []
  },
  {
   "cell_type": "code",
   "execution_count": 21,
   "metadata": {},
   "outputs": [],
   "source": [
    "df.drop([\"concavity_mean\",\"concavity_se\",\"concavity_worst\",\"concave points_mean\",\"concave points_se\",\"concave points_worst\"],axis=1,inplace=True)"
   ]
  },
  {
   "cell_type": "code",
   "execution_count": 22,
   "metadata": {},
   "outputs": [],
   "source": [
    "df.drop([\"fractal_dimension_mean\",\"symmetry_mean\",\"symmetry_se\",\"symmetry_worst\",\"fractal_dimension_worst\"],axis=1,inplace=True)"
   ]
  },
  {
   "cell_type": "code",
   "execution_count": 23,
   "metadata": {},
   "outputs": [
    {
     "name": "stdout",
     "output_type": "stream",
     "text": [
      "<class 'pandas.core.frame.DataFrame'>\n",
      "RangeIndex: 569 entries, 0 to 568\n",
      "Data columns (total 12 columns):\n",
      " #   Column              Non-Null Count  Dtype  \n",
      "---  ------              --------------  -----  \n",
      " 0   id                  569 non-null    int64  \n",
      " 1   diagnosis           569 non-null    object \n",
      " 2   radius              569 non-null    float64\n",
      " 3   texture             569 non-null    float64\n",
      " 4   perimeter           569 non-null    float64\n",
      " 5   area                569 non-null    float64\n",
      " 6   smoothness          569 non-null    float64\n",
      " 7   compactness         569 non-null    float64\n",
      " 8   concavity           556 non-null    float64\n",
      " 9   concave points      556 non-null    float64\n",
      " 10  symmetry            569 non-null    float64\n",
      " 11  fractal_dimensions  569 non-null    float64\n",
      "dtypes: float64(10), int64(1), object(1)\n",
      "memory usage: 53.5+ KB\n"
     ]
    }
   ],
   "source": [
    "df.info()"
   ]
  },
  {
   "cell_type": "code",
   "execution_count": 24,
   "metadata": {},
   "outputs": [
    {
     "data": {
      "text/plain": [
       "id                     0\n",
       "diagnosis              0\n",
       "radius                 0\n",
       "texture                0\n",
       "perimeter              0\n",
       "area                   0\n",
       "smoothness             0\n",
       "compactness            0\n",
       "concavity             13\n",
       "concave points        13\n",
       "symmetry               0\n",
       "fractal_dimensions     0\n",
       "dtype: int64"
      ]
     },
     "execution_count": 24,
     "metadata": {},
     "output_type": "execute_result"
    }
   ],
   "source": [
    "df.isna().sum()"
   ]
  },
  {
   "cell_type": "code",
   "execution_count": 25,
   "metadata": {},
   "outputs": [],
   "source": [
    "df.dropna(axis=0,inplace=True)"
   ]
  },
  {
   "cell_type": "code",
   "execution_count": 26,
   "metadata": {},
   "outputs": [
    {
     "data": {
      "text/plain": [
       "(556, 12)"
      ]
     },
     "execution_count": 26,
     "metadata": {},
     "output_type": "execute_result"
    }
   ],
   "source": [
    "df.shape"
   ]
  },
  {
   "cell_type": "code",
   "execution_count": 27,
   "metadata": {},
   "outputs": [],
   "source": [
    "out=pd.get_dummies(df[\"diagnosis\"])"
   ]
  },
  {
   "cell_type": "code",
   "execution_count": 28,
   "metadata": {},
   "outputs": [
    {
     "data": {
      "text/plain": [
       "(556, 2)"
      ]
     },
     "execution_count": 28,
     "metadata": {},
     "output_type": "execute_result"
    }
   ],
   "source": [
    "out.shape"
   ]
  },
  {
   "cell_type": "code",
   "execution_count": 29,
   "metadata": {},
   "outputs": [],
   "source": [
    "X=df.drop([\"diagnosis\"],axis=1)"
   ]
  },
  {
   "cell_type": "code",
   "execution_count": 30,
   "metadata": {},
   "outputs": [],
   "source": [
    "y=df[\"diagnosis\"]\n",
    "y.shape\n",
    "y1=df[\"diagnosis\"]"
   ]
  },
  {
   "cell_type": "code",
   "execution_count": 31,
   "metadata": {},
   "outputs": [
    {
     "data": {
      "text/plain": [
       "0      M\n",
       "1      M\n",
       "2      M\n",
       "3      M\n",
       "4      M\n",
       "      ..\n",
       "563    M\n",
       "564    M\n",
       "565    M\n",
       "566    M\n",
       "567    M\n",
       "Name: diagnosis, Length: 556, dtype: object"
      ]
     },
     "execution_count": 31,
     "metadata": {},
     "output_type": "execute_result"
    }
   ],
   "source": [
    "y1"
   ]
  },
  {
   "cell_type": "code",
   "execution_count": 32,
   "metadata": {},
   "outputs": [],
   "source": [
    "# y=pd.get_dummies(df[\"diagnosis\"])\n",
    "list1=[]\n",
    "for j in y1:\n",
    "    if j==\"M\":\n",
    "        list1.append(1)\n",
    "    elif j==\"B\":\n",
    "        list1.append(0)\n",
    "        "
   ]
  },
  {
   "cell_type": "code",
   "execution_count": 33,
   "metadata": {},
   "outputs": [],
   "source": [
    "df[\"labels\"]=list1"
   ]
  },
  {
   "cell_type": "code",
   "execution_count": 34,
   "metadata": {},
   "outputs": [],
   "source": [
    "y=df[\"labels\"]"
   ]
  },
  {
   "cell_type": "code",
   "execution_count": 35,
   "metadata": {},
   "outputs": [],
   "source": [
    "y=np.array(y)"
   ]
  },
  {
   "cell_type": "code",
   "execution_count": 36,
   "metadata": {},
   "outputs": [],
   "source": [
    "y=np.reshape(y,(-1,1))"
   ]
  },
  {
   "cell_type": "code",
   "execution_count": 37,
   "metadata": {},
   "outputs": [
    {
     "data": {
      "text/plain": [
       "(556, 1)"
      ]
     },
     "execution_count": 37,
     "metadata": {},
     "output_type": "execute_result"
    }
   ],
   "source": [
    "y.shape"
   ]
  },
  {
   "cell_type": "code",
   "execution_count": 38,
   "metadata": {},
   "outputs": [],
   "source": [
    "X.drop([\"id\"],axis=1,inplace=True)"
   ]
  },
  {
   "cell_type": "code",
   "execution_count": 39,
   "metadata": {},
   "outputs": [
    {
     "data": {
      "text/plain": [
       "(556, 10)"
      ]
     },
     "execution_count": 39,
     "metadata": {},
     "output_type": "execute_result"
    }
   ],
   "source": [
    "X.shape"
   ]
  },
  {
   "cell_type": "code",
   "execution_count": 40,
   "metadata": {},
   "outputs": [],
   "source": [
    "from sklearn.model_selection import train_test_split"
   ]
  },
  {
   "cell_type": "code",
   "execution_count": 41,
   "metadata": {},
   "outputs": [],
   "source": [
    "X_train1,X_test,y_train1,y_test=train_test_split(X,y,test_size=0.20,random_state=111)"
   ]
  },
  {
   "cell_type": "code",
   "execution_count": 42,
   "metadata": {},
   "outputs": [],
   "source": [
    "X_train,X_val,y_train,y_val=train_test_split(X_train1,y_train1,test_size=0.20,random_state=111)"
   ]
  },
  {
   "cell_type": "code",
   "execution_count": 43,
   "metadata": {},
   "outputs": [
    {
     "data": {
      "text/plain": [
       "(355, 1)"
      ]
     },
     "execution_count": 43,
     "metadata": {},
     "output_type": "execute_result"
    }
   ],
   "source": [
    "X_train.shape\n",
    "y_train.shape"
   ]
  },
  {
   "cell_type": "code",
   "execution_count": 44,
   "metadata": {},
   "outputs": [
    {
     "data": {
      "text/plain": [
       "(112, 10)"
      ]
     },
     "execution_count": 44,
     "metadata": {},
     "output_type": "execute_result"
    }
   ],
   "source": [
    "X_test.shape"
   ]
  },
  {
   "cell_type": "code",
   "execution_count": 45,
   "metadata": {},
   "outputs": [
    {
     "data": {
      "text/plain": [
       "(89, 10)"
      ]
     },
     "execution_count": 45,
     "metadata": {},
     "output_type": "execute_result"
    }
   ],
   "source": [
    "X_val.shape"
   ]
  },
  {
   "cell_type": "code",
   "execution_count": 46,
   "metadata": {},
   "outputs": [],
   "source": [
    "from sklearn.linear_model import LogisticRegressionCV"
   ]
  },
  {
   "cell_type": "code",
   "execution_count": 47,
   "metadata": {},
   "outputs": [],
   "source": [
    "lr=LogisticRegressionCV()"
   ]
  },
  {
   "cell_type": "code",
   "execution_count": 48,
   "metadata": {},
   "outputs": [
    {
     "name": "stderr",
     "output_type": "stream",
     "text": [
      "/home/aayushma/anaconda3/lib/python3.7/site-packages/sklearn/utils/validation.py:760: DataConversionWarning: A column-vector y was passed when a 1d array was expected. Please change the shape of y to (n_samples, ), for example using ravel().\n",
      "  y = column_or_1d(y, warn=True)\n"
     ]
    },
    {
     "data": {
      "text/plain": [
       "LogisticRegressionCV(Cs=10, class_weight=None, cv=None, dual=False,\n",
       "                     fit_intercept=True, intercept_scaling=1.0, l1_ratios=None,\n",
       "                     max_iter=100, multi_class='auto', n_jobs=None,\n",
       "                     penalty='l2', random_state=None, refit=True, scoring=None,\n",
       "                     solver='lbfgs', tol=0.0001, verbose=0)"
      ]
     },
     "execution_count": 48,
     "metadata": {},
     "output_type": "execute_result"
    }
   ],
   "source": [
    "lr.fit(X_train,y_train)"
   ]
  },
  {
   "cell_type": "code",
   "execution_count": 49,
   "metadata": {},
   "outputs": [
    {
     "data": {
      "text/plain": [
       "array([0, 0, 0, 0, 0, 0, 1, 0, 1, 0, 0, 0, 1, 0, 1, 1, 1, 0, 0, 0, 0, 0,\n",
       "       0, 0, 1, 1, 0, 1, 0, 0, 0, 0, 1, 0, 1, 0, 0, 1, 1, 0, 0, 1, 1, 0,\n",
       "       0, 0, 1, 1, 1, 0, 0, 1, 1, 0, 1, 1, 0, 0, 0, 0, 1, 0, 1, 0, 0, 0,\n",
       "       0, 0, 0, 1, 0, 0, 1, 0, 0, 0, 0, 0, 0, 1, 0, 1, 0, 0, 1, 1, 0, 1,\n",
       "       0, 1, 0, 0, 0, 0, 0, 1, 1, 1, 1, 1, 0, 1, 0, 0, 0, 1, 1, 0, 0, 0,\n",
       "       0, 0])"
      ]
     },
     "execution_count": 49,
     "metadata": {},
     "output_type": "execute_result"
    }
   ],
   "source": [
    "lr.predict(X_test)"
   ]
  },
  {
   "cell_type": "code",
   "execution_count": 50,
   "metadata": {},
   "outputs": [
    {
     "data": {
      "text/plain": [
       "0.7232142857142857"
      ]
     },
     "execution_count": 50,
     "metadata": {},
     "output_type": "execute_result"
    }
   ],
   "source": [
    "lr.score(X_test,y_test)"
   ]
  },
  {
   "cell_type": "code",
   "execution_count": 51,
   "metadata": {},
   "outputs": [
    {
     "data": {
      "text/plain": [
       "0.7380281690140845"
      ]
     },
     "execution_count": 51,
     "metadata": {},
     "output_type": "execute_result"
    }
   ],
   "source": [
    "lr.score(X_train,y_train)"
   ]
  },
  {
   "cell_type": "code",
   "execution_count": 52,
   "metadata": {},
   "outputs": [
    {
     "data": {
      "text/plain": [
       "0.7078651685393258"
      ]
     },
     "execution_count": 52,
     "metadata": {},
     "output_type": "execute_result"
    }
   ],
   "source": [
    "lr.score(X_val,y_val)"
   ]
  },
  {
   "cell_type": "code",
   "execution_count": 53,
   "metadata": {},
   "outputs": [],
   "source": [
    "from sklearn.neighbors import KNeighborsClassifier"
   ]
  },
  {
   "cell_type": "code",
   "execution_count": 54,
   "metadata": {},
   "outputs": [],
   "source": [
    "neigh = KNeighborsClassifier(n_neighbors=15)"
   ]
  },
  {
   "cell_type": "code",
   "execution_count": 55,
   "metadata": {},
   "outputs": [
    {
     "name": "stderr",
     "output_type": "stream",
     "text": [
      "/home/aayushma/anaconda3/lib/python3.7/site-packages/ipykernel_launcher.py:1: DataConversionWarning: A column-vector y was passed when a 1d array was expected. Please change the shape of y to (n_samples, ), for example using ravel().\n",
      "  \"\"\"Entry point for launching an IPython kernel.\n"
     ]
    },
    {
     "data": {
      "text/plain": [
       "KNeighborsClassifier(algorithm='auto', leaf_size=30, metric='minkowski',\n",
       "                     metric_params=None, n_jobs=None, n_neighbors=15, p=2,\n",
       "                     weights='uniform')"
      ]
     },
     "execution_count": 55,
     "metadata": {},
     "output_type": "execute_result"
    }
   ],
   "source": [
    "neigh.fit(X_train,y_train)"
   ]
  },
  {
   "cell_type": "code",
   "execution_count": 56,
   "metadata": {},
   "outputs": [
    {
     "data": {
      "text/plain": [
       "array([0, 0, 0, 0, 0, 0, 1, 0, 1, 0, 0, 0, 1, 0, 1, 1, 1, 0, 0, 0, 0, 0,\n",
       "       0, 0, 1, 1, 1, 1, 0, 0, 0, 0, 1, 0, 0, 1, 0, 0, 0, 0, 0, 1, 1, 0,\n",
       "       0, 0, 1, 1, 1, 0, 0, 1, 1, 0, 1, 1, 0, 0, 0, 0, 1, 0, 0, 0, 0, 0,\n",
       "       0, 0, 0, 1, 0, 0, 0, 0, 0, 0, 0, 0, 0, 1, 0, 1, 0, 0, 1, 1, 0, 1,\n",
       "       0, 1, 0, 0, 0, 0, 0, 0, 1, 0, 0, 1, 0, 1, 0, 0, 1, 1, 0, 1, 0, 0,\n",
       "       0, 0])"
      ]
     },
     "execution_count": 56,
     "metadata": {},
     "output_type": "execute_result"
    }
   ],
   "source": [
    "neigh.predict(X_test)"
   ]
  },
  {
   "cell_type": "code",
   "execution_count": 57,
   "metadata": {},
   "outputs": [
    {
     "data": {
      "text/plain": [
       "0.7191011235955056"
      ]
     },
     "execution_count": 57,
     "metadata": {},
     "output_type": "execute_result"
    }
   ],
   "source": [
    "neigh.score(X_val,y_val)"
   ]
  },
  {
   "cell_type": "code",
   "execution_count": 58,
   "metadata": {},
   "outputs": [
    {
     "data": {
      "text/plain": [
       "0.75"
      ]
     },
     "execution_count": 58,
     "metadata": {},
     "output_type": "execute_result"
    }
   ],
   "source": [
    "neigh.score(X_test,y_test)"
   ]
  },
  {
   "cell_type": "code",
   "execution_count": 59,
   "metadata": {},
   "outputs": [
    {
     "data": {
      "text/plain": [
       "0.7464788732394366"
      ]
     },
     "execution_count": 59,
     "metadata": {},
     "output_type": "execute_result"
    }
   ],
   "source": [
    "neigh.score(X_train,y_train)"
   ]
  },
  {
   "cell_type": "code",
   "execution_count": 60,
   "metadata": {},
   "outputs": [],
   "source": [
    "from sklearn.svm import SVC\n",
    "svc=SVC(degree=7)"
   ]
  },
  {
   "cell_type": "code",
   "execution_count": 61,
   "metadata": {},
   "outputs": [
    {
     "name": "stderr",
     "output_type": "stream",
     "text": [
      "/home/aayushma/anaconda3/lib/python3.7/site-packages/sklearn/utils/validation.py:760: DataConversionWarning: A column-vector y was passed when a 1d array was expected. Please change the shape of y to (n_samples, ), for example using ravel().\n",
      "  y = column_or_1d(y, warn=True)\n"
     ]
    },
    {
     "data": {
      "text/plain": [
       "SVC(C=1.0, break_ties=False, cache_size=200, class_weight=None, coef0=0.0,\n",
       "    decision_function_shape='ovr', degree=7, gamma='scale', kernel='rbf',\n",
       "    max_iter=-1, probability=False, random_state=None, shrinking=True,\n",
       "    tol=0.001, verbose=False)"
      ]
     },
     "execution_count": 61,
     "metadata": {},
     "output_type": "execute_result"
    }
   ],
   "source": [
    "svc.fit(X_train,y_train)"
   ]
  },
  {
   "cell_type": "code",
   "execution_count": 62,
   "metadata": {},
   "outputs": [
    {
     "data": {
      "text/plain": [
       "array([0, 0, 0, 0, 0, 0, 1, 0, 1, 0, 0, 0, 1, 0, 1, 1, 1, 0, 0, 0, 0, 0,\n",
       "       0, 0, 1, 0, 1, 1, 0, 0, 0, 0, 1, 0, 0, 0, 0, 0, 0, 0, 0, 1, 1, 0,\n",
       "       1, 0, 1, 1, 1, 0, 0, 1, 1, 0, 1, 1, 0, 0, 0, 0, 1, 0, 0, 0, 0, 0,\n",
       "       1, 0, 0, 0, 0, 0, 0, 0, 0, 0, 0, 0, 0, 0, 0, 1, 0, 0, 0, 1, 0, 1,\n",
       "       0, 0, 0, 0, 0, 0, 0, 1, 0, 0, 1, 1, 0, 1, 0, 0, 0, 0, 0, 0, 0, 0,\n",
       "       0, 0])"
      ]
     },
     "execution_count": 62,
     "metadata": {},
     "output_type": "execute_result"
    }
   ],
   "source": [
    "svc.predict(X_test)"
   ]
  },
  {
   "cell_type": "code",
   "execution_count": 63,
   "metadata": {},
   "outputs": [
    {
     "data": {
      "text/plain": [
       "0.7678571428571429"
      ]
     },
     "execution_count": 63,
     "metadata": {},
     "output_type": "execute_result"
    }
   ],
   "source": [
    "svc.score(X_test,y_test)"
   ]
  },
  {
   "cell_type": "code",
   "execution_count": 64,
   "metadata": {},
   "outputs": [
    {
     "data": {
      "text/plain": [
       "0.797752808988764"
      ]
     },
     "execution_count": 64,
     "metadata": {},
     "output_type": "execute_result"
    }
   ],
   "source": [
    "svc.score(X_val,y_val)"
   ]
  },
  {
   "cell_type": "code",
   "execution_count": 65,
   "metadata": {},
   "outputs": [
    {
     "data": {
      "text/plain": [
       "0.7492957746478873"
      ]
     },
     "execution_count": 65,
     "metadata": {},
     "output_type": "execute_result"
    }
   ],
   "source": [
    "svc.score(X_train,y_train)"
   ]
  },
  {
   "cell_type": "code",
   "execution_count": 66,
   "metadata": {},
   "outputs": [
    {
     "name": "stderr",
     "output_type": "stream",
     "text": [
      "Using TensorFlow backend.\n"
     ]
    }
   ],
   "source": [
    "from keras.models import Sequential\n",
    "from keras.layers.core import Dropout,Dense\n",
    "from keras.optimizers import Adam"
   ]
  },
  {
   "cell_type": "code",
   "execution_count": 67,
   "metadata": {},
   "outputs": [
    {
     "data": {
      "text/plain": [
       "(556, 10)"
      ]
     },
     "execution_count": 67,
     "metadata": {},
     "output_type": "execute_result"
    }
   ],
   "source": [
    "X1=np.array(X)\n",
    "\n",
    "X1.shape"
   ]
  },
  {
   "cell_type": "code",
   "execution_count": 68,
   "metadata": {},
   "outputs": [
    {
     "data": {
      "text/plain": [
       "(556, 1)"
      ]
     },
     "execution_count": 68,
     "metadata": {},
     "output_type": "execute_result"
    }
   ],
   "source": [
    "y1=np.array(y)\n",
    "\n",
    "y.shape"
   ]
  },
  {
   "cell_type": "code",
   "execution_count": 69,
   "metadata": {},
   "outputs": [],
   "source": [
    "X_train1,X_test,y_train1,y_test=train_test_split(X1,y1,test_size=0.20,random_state=111)"
   ]
  },
  {
   "cell_type": "code",
   "execution_count": 70,
   "metadata": {},
   "outputs": [],
   "source": [
    "model=Sequential()"
   ]
  },
  {
   "cell_type": "code",
   "execution_count": 71,
   "metadata": {},
   "outputs": [
    {
     "data": {
      "text/plain": [
       "10"
      ]
     },
     "execution_count": 71,
     "metadata": {},
     "output_type": "execute_result"
    }
   ],
   "source": [
    "X_train1.shape[1]"
   ]
  },
  {
   "cell_type": "code",
   "execution_count": 72,
   "metadata": {
    "scrolled": false
   },
   "outputs": [],
   "source": [
    "model.add(Dense(128,activation=\"relu\",input_shape=(X_train1.shape[1],)))"
   ]
  },
  {
   "cell_type": "code",
   "execution_count": 73,
   "metadata": {},
   "outputs": [],
   "source": [
    "model.add(Dropout(0.2))\n",
    "model.add(Dense(64,activation=\"relu\"))\n",
    "model.add(Dropout(0.1))\n",
    "model.add(Dense(1,activation=\"sigmoid\"))\n",
    "adam=Adam(learning_rate=0.0008)\n",
    "model.compile(optimizer=adam,loss=\"binary_crossentropy\",metrics=[\"accuracy\"])"
   ]
  },
  {
   "cell_type": "code",
   "execution_count": 74,
   "metadata": {},
   "outputs": [
    {
     "name": "stdout",
     "output_type": "stream",
     "text": [
      "Train on 355 samples, validate on 89 samples\n",
      "Epoch 1/500\n",
      "355/355 [==============================] - 0s 815us/step - loss: 1.1217 - accuracy: 0.5465 - val_loss: 0.7793 - val_accuracy: 0.6180\n",
      "Epoch 2/500\n",
      "355/355 [==============================] - 0s 87us/step - loss: 0.8343 - accuracy: 0.5183 - val_loss: 0.7007 - val_accuracy: 0.6180\n",
      "Epoch 3/500\n",
      "355/355 [==============================] - 0s 75us/step - loss: 0.9129 - accuracy: 0.5324 - val_loss: 0.7094 - val_accuracy: 0.6180\n",
      "Epoch 4/500\n",
      "355/355 [==============================] - 0s 89us/step - loss: 0.7572 - accuracy: 0.5831 - val_loss: 0.6729 - val_accuracy: 0.6517\n",
      "Epoch 5/500\n",
      "355/355 [==============================] - 0s 75us/step - loss: 0.8067 - accuracy: 0.4986 - val_loss: 0.6756 - val_accuracy: 0.6180\n",
      "Epoch 6/500\n",
      "355/355 [==============================] - 0s 80us/step - loss: 0.7840 - accuracy: 0.5408 - val_loss: 0.6551 - val_accuracy: 0.6854\n",
      "Epoch 7/500\n",
      "355/355 [==============================] - 0s 92us/step - loss: 0.7149 - accuracy: 0.5634 - val_loss: 0.6646 - val_accuracy: 0.6180\n",
      "Epoch 8/500\n",
      "355/355 [==============================] - 0s 106us/step - loss: 0.7171 - accuracy: 0.5831 - val_loss: 0.6362 - val_accuracy: 0.6854\n",
      "Epoch 9/500\n",
      "355/355 [==============================] - 0s 87us/step - loss: 0.7155 - accuracy: 0.5803 - val_loss: 0.6323 - val_accuracy: 0.6629\n",
      "Epoch 10/500\n",
      "355/355 [==============================] - 0s 79us/step - loss: 0.7343 - accuracy: 0.5775 - val_loss: 0.6328 - val_accuracy: 0.6517\n",
      "Epoch 11/500\n",
      "355/355 [==============================] - 0s 68us/step - loss: 0.6501 - accuracy: 0.6451 - val_loss: 0.6189 - val_accuracy: 0.7191\n",
      "Epoch 12/500\n",
      "355/355 [==============================] - 0s 94us/step - loss: 0.6345 - accuracy: 0.6338 - val_loss: 0.6613 - val_accuracy: 0.6180\n",
      "Epoch 13/500\n",
      "355/355 [==============================] - 0s 99us/step - loss: 0.6510 - accuracy: 0.6817 - val_loss: 0.5980 - val_accuracy: 0.7303\n",
      "Epoch 14/500\n",
      "355/355 [==============================] - 0s 85us/step - loss: 0.6618 - accuracy: 0.6225 - val_loss: 0.5973 - val_accuracy: 0.7079\n",
      "Epoch 15/500\n",
      "355/355 [==============================] - 0s 75us/step - loss: 0.6661 - accuracy: 0.6338 - val_loss: 0.5802 - val_accuracy: 0.7528\n",
      "Epoch 16/500\n",
      "355/355 [==============================] - 0s 87us/step - loss: 0.6337 - accuracy: 0.6423 - val_loss: 0.5771 - val_accuracy: 0.7640\n",
      "Epoch 17/500\n",
      "355/355 [==============================] - 0s 101us/step - loss: 0.6433 - accuracy: 0.6592 - val_loss: 0.5683 - val_accuracy: 0.7416\n",
      "Epoch 18/500\n",
      "355/355 [==============================] - 0s 87us/step - loss: 0.6175 - accuracy: 0.6535 - val_loss: 0.5718 - val_accuracy: 0.7416\n",
      "Epoch 19/500\n",
      "355/355 [==============================] - 0s 92us/step - loss: 0.6238 - accuracy: 0.6620 - val_loss: 0.5591 - val_accuracy: 0.7753\n",
      "Epoch 20/500\n",
      "355/355 [==============================] - 0s 74us/step - loss: 0.6114 - accuracy: 0.6732 - val_loss: 0.5572 - val_accuracy: 0.7303\n",
      "Epoch 21/500\n",
      "355/355 [==============================] - 0s 91us/step - loss: 0.6138 - accuracy: 0.6901 - val_loss: 0.5467 - val_accuracy: 0.7528\n",
      "Epoch 22/500\n",
      "355/355 [==============================] - 0s 85us/step - loss: 0.6149 - accuracy: 0.6676 - val_loss: 0.5426 - val_accuracy: 0.7640\n",
      "Epoch 23/500\n",
      "355/355 [==============================] - 0s 83us/step - loss: 0.6201 - accuracy: 0.6789 - val_loss: 0.5389 - val_accuracy: 0.7416\n",
      "Epoch 24/500\n",
      "355/355 [==============================] - 0s 94us/step - loss: 0.6044 - accuracy: 0.6986 - val_loss: 0.5533 - val_accuracy: 0.7416\n",
      "Epoch 25/500\n",
      "355/355 [==============================] - 0s 108us/step - loss: 0.6379 - accuracy: 0.6451 - val_loss: 0.5478 - val_accuracy: 0.7303\n",
      "Epoch 26/500\n",
      "355/355 [==============================] - 0s 86us/step - loss: 0.5613 - accuracy: 0.7183 - val_loss: 0.5336 - val_accuracy: 0.7865\n",
      "Epoch 27/500\n",
      "355/355 [==============================] - 0s 83us/step - loss: 0.5939 - accuracy: 0.6592 - val_loss: 0.5291 - val_accuracy: 0.7640\n",
      "Epoch 28/500\n",
      "355/355 [==============================] - 0s 85us/step - loss: 0.5650 - accuracy: 0.6986 - val_loss: 0.5325 - val_accuracy: 0.7753\n",
      "Epoch 29/500\n",
      "355/355 [==============================] - 0s 88us/step - loss: 0.5444 - accuracy: 0.7183 - val_loss: 0.5309 - val_accuracy: 0.7865\n",
      "Epoch 30/500\n",
      "355/355 [==============================] - 0s 72us/step - loss: 0.5876 - accuracy: 0.7042 - val_loss: 0.5245 - val_accuracy: 0.7753\n",
      "Epoch 31/500\n",
      "355/355 [==============================] - 0s 89us/step - loss: 0.5662 - accuracy: 0.7070 - val_loss: 0.5216 - val_accuracy: 0.7753\n",
      "Epoch 32/500\n",
      "355/355 [==============================] - 0s 79us/step - loss: 0.5557 - accuracy: 0.7155 - val_loss: 0.5212 - val_accuracy: 0.7640\n",
      "Epoch 33/500\n",
      "355/355 [==============================] - 0s 92us/step - loss: 0.5421 - accuracy: 0.7155 - val_loss: 0.5178 - val_accuracy: 0.7640\n",
      "Epoch 34/500\n",
      "355/355 [==============================] - 0s 89us/step - loss: 0.5399 - accuracy: 0.7268 - val_loss: 0.5165 - val_accuracy: 0.7640\n",
      "Epoch 35/500\n",
      "355/355 [==============================] - 0s 99us/step - loss: 0.5430 - accuracy: 0.7211 - val_loss: 0.5150 - val_accuracy: 0.7640\n",
      "Epoch 36/500\n",
      "355/355 [==============================] - 0s 93us/step - loss: 0.5450 - accuracy: 0.7296 - val_loss: 0.5136 - val_accuracy: 0.7753\n",
      "Epoch 37/500\n",
      "355/355 [==============================] - 0s 106us/step - loss: 0.5531 - accuracy: 0.7099 - val_loss: 0.5183 - val_accuracy: 0.7416\n",
      "Epoch 38/500\n",
      "355/355 [==============================] - 0s 95us/step - loss: 0.5432 - accuracy: 0.7239 - val_loss: 0.5079 - val_accuracy: 0.7753\n",
      "Epoch 39/500\n",
      "355/355 [==============================] - 0s 90us/step - loss: 0.5177 - accuracy: 0.7549 - val_loss: 0.5119 - val_accuracy: 0.7640\n",
      "Epoch 40/500\n",
      "355/355 [==============================] - 0s 107us/step - loss: 0.5430 - accuracy: 0.7324 - val_loss: 0.5025 - val_accuracy: 0.7753\n",
      "Epoch 41/500\n",
      "355/355 [==============================] - 0s 98us/step - loss: 0.5240 - accuracy: 0.7549 - val_loss: 0.5017 - val_accuracy: 0.7528\n",
      "Epoch 42/500\n",
      "355/355 [==============================] - 0s 96us/step - loss: 0.5206 - accuracy: 0.7380 - val_loss: 0.5044 - val_accuracy: 0.7753\n",
      "Epoch 43/500\n",
      "355/355 [==============================] - 0s 73us/step - loss: 0.5009 - accuracy: 0.7690 - val_loss: 0.5043 - val_accuracy: 0.7528\n",
      "Epoch 44/500\n",
      "355/355 [==============================] - 0s 125us/step - loss: 0.5210 - accuracy: 0.7577 - val_loss: 0.5375 - val_accuracy: 0.7416\n",
      "Epoch 45/500\n",
      "355/355 [==============================] - 0s 75us/step - loss: 0.5545 - accuracy: 0.7183 - val_loss: 0.5128 - val_accuracy: 0.7753\n",
      "Epoch 46/500\n",
      "355/355 [==============================] - 0s 73us/step - loss: 0.5329 - accuracy: 0.7324 - val_loss: 0.5061 - val_accuracy: 0.7528\n",
      "Epoch 47/500\n",
      "355/355 [==============================] - 0s 83us/step - loss: 0.5100 - accuracy: 0.7577 - val_loss: 0.5062 - val_accuracy: 0.7640\n",
      "Epoch 48/500\n",
      "355/355 [==============================] - 0s 110us/step - loss: 0.4940 - accuracy: 0.7549 - val_loss: 0.5085 - val_accuracy: 0.7416\n",
      "Epoch 49/500\n",
      "355/355 [==============================] - 0s 69us/step - loss: 0.5203 - accuracy: 0.7408 - val_loss: 0.5180 - val_accuracy: 0.7640\n",
      "Epoch 50/500\n",
      "355/355 [==============================] - 0s 81us/step - loss: 0.5169 - accuracy: 0.7268 - val_loss: 0.5031 - val_accuracy: 0.7640\n",
      "Epoch 51/500\n",
      "355/355 [==============================] - 0s 95us/step - loss: 0.4990 - accuracy: 0.7746 - val_loss: 0.5003 - val_accuracy: 0.7528\n",
      "Epoch 52/500\n",
      "355/355 [==============================] - 0s 80us/step - loss: 0.5116 - accuracy: 0.7352 - val_loss: 0.5050 - val_accuracy: 0.7416\n",
      "Epoch 53/500\n",
      "355/355 [==============================] - 0s 103us/step - loss: 0.5008 - accuracy: 0.7746 - val_loss: 0.5045 - val_accuracy: 0.7528\n",
      "Epoch 54/500\n",
      "355/355 [==============================] - 0s 80us/step - loss: 0.4851 - accuracy: 0.7549 - val_loss: 0.5090 - val_accuracy: 0.7303\n",
      "Epoch 55/500\n",
      "355/355 [==============================] - 0s 77us/step - loss: 0.4696 - accuracy: 0.7690 - val_loss: 0.5207 - val_accuracy: 0.7640\n",
      "Epoch 56/500\n",
      "355/355 [==============================] - 0s 88us/step - loss: 0.4927 - accuracy: 0.7521 - val_loss: 0.5599 - val_accuracy: 0.7191\n",
      "Epoch 57/500\n"
     ]
    },
    {
     "name": "stdout",
     "output_type": "stream",
     "text": [
      "355/355 [==============================] - 0s 69us/step - loss: 0.4965 - accuracy: 0.7549 - val_loss: 0.5818 - val_accuracy: 0.7303\n",
      "Epoch 58/500\n",
      "355/355 [==============================] - 0s 84us/step - loss: 0.5945 - accuracy: 0.6817 - val_loss: 0.5480 - val_accuracy: 0.7303\n",
      "Epoch 59/500\n",
      "355/355 [==============================] - 0s 109us/step - loss: 0.5238 - accuracy: 0.7380 - val_loss: 0.5057 - val_accuracy: 0.7303\n",
      "Epoch 60/500\n",
      "355/355 [==============================] - 0s 103us/step - loss: 0.5046 - accuracy: 0.7521 - val_loss: 0.5067 - val_accuracy: 0.7303\n",
      "Epoch 61/500\n",
      "355/355 [==============================] - 0s 87us/step - loss: 0.4913 - accuracy: 0.7549 - val_loss: 0.5013 - val_accuracy: 0.7753\n",
      "Epoch 62/500\n",
      "355/355 [==============================] - 0s 102us/step - loss: 0.4847 - accuracy: 0.7690 - val_loss: 0.5021 - val_accuracy: 0.7640\n",
      "Epoch 63/500\n",
      "355/355 [==============================] - 0s 107us/step - loss: 0.4912 - accuracy: 0.7662 - val_loss: 0.5033 - val_accuracy: 0.7640\n",
      "Epoch 64/500\n",
      "355/355 [==============================] - 0s 77us/step - loss: 0.4874 - accuracy: 0.7606 - val_loss: 0.5025 - val_accuracy: 0.7753\n",
      "Epoch 65/500\n",
      "355/355 [==============================] - 0s 115us/step - loss: 0.4938 - accuracy: 0.7549 - val_loss: 0.5151 - val_accuracy: 0.7303\n",
      "Epoch 66/500\n",
      "355/355 [==============================] - 0s 87us/step - loss: 0.4990 - accuracy: 0.7493 - val_loss: 0.4986 - val_accuracy: 0.7640\n",
      "Epoch 67/500\n",
      "355/355 [==============================] - 0s 93us/step - loss: 0.5016 - accuracy: 0.7268 - val_loss: 0.5086 - val_accuracy: 0.7416\n",
      "Epoch 68/500\n",
      "355/355 [==============================] - 0s 72us/step - loss: 0.5084 - accuracy: 0.7268 - val_loss: 0.4973 - val_accuracy: 0.7416\n",
      "Epoch 69/500\n",
      "355/355 [==============================] - 0s 76us/step - loss: 0.5216 - accuracy: 0.7437 - val_loss: 0.4997 - val_accuracy: 0.7416\n",
      "Epoch 70/500\n",
      "355/355 [==============================] - 0s 75us/step - loss: 0.5142 - accuracy: 0.7549 - val_loss: 0.5056 - val_accuracy: 0.7528\n",
      "Epoch 71/500\n",
      "355/355 [==============================] - 0s 99us/step - loss: 0.4762 - accuracy: 0.7577 - val_loss: 0.5022 - val_accuracy: 0.7303\n",
      "Epoch 72/500\n",
      "355/355 [==============================] - 0s 81us/step - loss: 0.5117 - accuracy: 0.7324 - val_loss: 0.4880 - val_accuracy: 0.7640\n",
      "Epoch 73/500\n",
      "355/355 [==============================] - 0s 71us/step - loss: 0.4924 - accuracy: 0.7380 - val_loss: 0.4901 - val_accuracy: 0.7528\n",
      "Epoch 74/500\n",
      "355/355 [==============================] - 0s 113us/step - loss: 0.4767 - accuracy: 0.7690 - val_loss: 0.4975 - val_accuracy: 0.7416\n",
      "Epoch 75/500\n",
      "355/355 [==============================] - 0s 102us/step - loss: 0.4810 - accuracy: 0.7577 - val_loss: 0.4969 - val_accuracy: 0.7640\n",
      "Epoch 76/500\n",
      "355/355 [==============================] - 0s 98us/step - loss: 0.4593 - accuracy: 0.7634 - val_loss: 0.4954 - val_accuracy: 0.7753\n",
      "Epoch 77/500\n",
      "355/355 [==============================] - 0s 90us/step - loss: 0.4724 - accuracy: 0.7549 - val_loss: 0.5064 - val_accuracy: 0.7303\n",
      "Epoch 78/500\n",
      "355/355 [==============================] - 0s 108us/step - loss: 0.4691 - accuracy: 0.7662 - val_loss: 0.4956 - val_accuracy: 0.7640\n",
      "Epoch 79/500\n",
      "355/355 [==============================] - 0s 68us/step - loss: 0.4690 - accuracy: 0.7606 - val_loss: 0.5001 - val_accuracy: 0.7640\n",
      "Epoch 80/500\n",
      "355/355 [==============================] - 0s 121us/step - loss: 0.4782 - accuracy: 0.7718 - val_loss: 0.4954 - val_accuracy: 0.7416\n",
      "Epoch 81/500\n",
      "355/355 [==============================] - 0s 75us/step - loss: 0.4802 - accuracy: 0.7549 - val_loss: 0.4933 - val_accuracy: 0.7640\n",
      "Epoch 82/500\n",
      "355/355 [==============================] - 0s 74us/step - loss: 0.4924 - accuracy: 0.7577 - val_loss: 0.4988 - val_accuracy: 0.7416\n",
      "Epoch 83/500\n",
      "355/355 [==============================] - 0s 90us/step - loss: 0.4655 - accuracy: 0.7634 - val_loss: 0.4955 - val_accuracy: 0.7753\n",
      "Epoch 84/500\n",
      "355/355 [==============================] - 0s 98us/step - loss: 0.4778 - accuracy: 0.7662 - val_loss: 0.4991 - val_accuracy: 0.7528\n",
      "Epoch 85/500\n",
      "355/355 [==============================] - 0s 87us/step - loss: 0.4715 - accuracy: 0.7662 - val_loss: 0.4852 - val_accuracy: 0.7753\n",
      "Epoch 86/500\n",
      "355/355 [==============================] - 0s 102us/step - loss: 0.4926 - accuracy: 0.7380 - val_loss: 0.5094 - val_accuracy: 0.7640\n",
      "Epoch 87/500\n",
      "355/355 [==============================] - 0s 95us/step - loss: 0.4855 - accuracy: 0.7549 - val_loss: 0.4957 - val_accuracy: 0.7416\n",
      "Epoch 88/500\n",
      "355/355 [==============================] - 0s 86us/step - loss: 0.4648 - accuracy: 0.7746 - val_loss: 0.4894 - val_accuracy: 0.7640\n",
      "Epoch 89/500\n",
      "355/355 [==============================] - 0s 96us/step - loss: 0.4681 - accuracy: 0.7803 - val_loss: 0.4915 - val_accuracy: 0.7416\n",
      "Epoch 90/500\n",
      "355/355 [==============================] - 0s 128us/step - loss: 0.4637 - accuracy: 0.7690 - val_loss: 0.5046 - val_accuracy: 0.7640\n",
      "Epoch 91/500\n",
      "355/355 [==============================] - 0s 100us/step - loss: 0.4777 - accuracy: 0.7634 - val_loss: 0.4918 - val_accuracy: 0.7416\n",
      "Epoch 92/500\n",
      "355/355 [==============================] - 0s 95us/step - loss: 0.4800 - accuracy: 0.7549 - val_loss: 0.5072 - val_accuracy: 0.7416\n",
      "Epoch 93/500\n",
      "355/355 [==============================] - 0s 111us/step - loss: 0.4677 - accuracy: 0.7577 - val_loss: 0.4946 - val_accuracy: 0.7416\n",
      "Epoch 94/500\n",
      "355/355 [==============================] - 0s 85us/step - loss: 0.4841 - accuracy: 0.7296 - val_loss: 0.4912 - val_accuracy: 0.7640\n",
      "Epoch 95/500\n",
      "355/355 [==============================] - 0s 69us/step - loss: 0.4726 - accuracy: 0.7803 - val_loss: 0.4964 - val_accuracy: 0.7416\n",
      "Epoch 96/500\n",
      "355/355 [==============================] - 0s 73us/step - loss: 0.4683 - accuracy: 0.7718 - val_loss: 0.4920 - val_accuracy: 0.7640\n",
      "Epoch 97/500\n",
      "355/355 [==============================] - 0s 100us/step - loss: 0.4705 - accuracy: 0.7521 - val_loss: 0.4907 - val_accuracy: 0.7528\n",
      "Epoch 98/500\n",
      "355/355 [==============================] - 0s 117us/step - loss: 0.4714 - accuracy: 0.7634 - val_loss: 0.4953 - val_accuracy: 0.7528\n",
      "Epoch 99/500\n",
      "355/355 [==============================] - 0s 99us/step - loss: 0.4565 - accuracy: 0.7606 - val_loss: 0.4950 - val_accuracy: 0.7753\n",
      "Epoch 100/500\n",
      "355/355 [==============================] - 0s 101us/step - loss: 0.4676 - accuracy: 0.7662 - val_loss: 0.4922 - val_accuracy: 0.7753\n",
      "Epoch 101/500\n",
      "355/355 [==============================] - 0s 87us/step - loss: 0.4570 - accuracy: 0.7662 - val_loss: 0.4957 - val_accuracy: 0.7528\n",
      "Epoch 102/500\n",
      "355/355 [==============================] - 0s 95us/step - loss: 0.4733 - accuracy: 0.7690 - val_loss: 0.4881 - val_accuracy: 0.7528\n",
      "Epoch 103/500\n",
      "355/355 [==============================] - 0s 97us/step - loss: 0.4652 - accuracy: 0.7634 - val_loss: 0.4945 - val_accuracy: 0.7528\n",
      "Epoch 104/500\n",
      "355/355 [==============================] - 0s 108us/step - loss: 0.4537 - accuracy: 0.7775 - val_loss: 0.4942 - val_accuracy: 0.7416\n",
      "Epoch 105/500\n",
      "355/355 [==============================] - 0s 98us/step - loss: 0.4526 - accuracy: 0.7746 - val_loss: 0.4975 - val_accuracy: 0.7416\n",
      "Epoch 106/500\n",
      "355/355 [==============================] - 0s 95us/step - loss: 0.4764 - accuracy: 0.7662 - val_loss: 0.5097 - val_accuracy: 0.7416\n",
      "Epoch 107/500\n",
      "355/355 [==============================] - 0s 93us/step - loss: 0.4685 - accuracy: 0.7634 - val_loss: 0.4883 - val_accuracy: 0.7528\n",
      "Epoch 108/500\n",
      "355/355 [==============================] - 0s 95us/step - loss: 0.4738 - accuracy: 0.7887 - val_loss: 0.4888 - val_accuracy: 0.7528\n",
      "Epoch 109/500\n",
      "355/355 [==============================] - 0s 70us/step - loss: 0.4571 - accuracy: 0.7831 - val_loss: 0.4941 - val_accuracy: 0.7528\n",
      "Epoch 110/500\n",
      "355/355 [==============================] - 0s 76us/step - loss: 0.4395 - accuracy: 0.7746 - val_loss: 0.5034 - val_accuracy: 0.7416\n",
      "Epoch 111/500\n",
      "355/355 [==============================] - 0s 78us/step - loss: 0.4703 - accuracy: 0.7465 - val_loss: 0.4906 - val_accuracy: 0.7528\n",
      "Epoch 112/500\n",
      "355/355 [==============================] - 0s 136us/step - loss: 0.4488 - accuracy: 0.7775 - val_loss: 0.4911 - val_accuracy: 0.7416\n",
      "Epoch 113/500\n"
     ]
    },
    {
     "name": "stdout",
     "output_type": "stream",
     "text": [
      "355/355 [==============================] - 0s 156us/step - loss: 0.4550 - accuracy: 0.7634 - val_loss: 0.4889 - val_accuracy: 0.7416\n",
      "Epoch 114/500\n",
      "355/355 [==============================] - 0s 147us/step - loss: 0.4746 - accuracy: 0.7521 - val_loss: 0.4997 - val_accuracy: 0.7303\n",
      "Epoch 115/500\n",
      "355/355 [==============================] - 0s 133us/step - loss: 0.4572 - accuracy: 0.7634 - val_loss: 0.5000 - val_accuracy: 0.7191\n",
      "Epoch 116/500\n",
      "355/355 [==============================] - 0s 122us/step - loss: 0.4621 - accuracy: 0.7606 - val_loss: 0.4908 - val_accuracy: 0.7303\n",
      "Epoch 117/500\n",
      "355/355 [==============================] - 0s 122us/step - loss: 0.4536 - accuracy: 0.7549 - val_loss: 0.4935 - val_accuracy: 0.7640\n",
      "Epoch 118/500\n",
      "355/355 [==============================] - 0s 110us/step - loss: 0.4620 - accuracy: 0.7775 - val_loss: 0.4935 - val_accuracy: 0.7416\n",
      "Epoch 119/500\n",
      "355/355 [==============================] - 0s 112us/step - loss: 0.4921 - accuracy: 0.7352 - val_loss: 0.4926 - val_accuracy: 0.7303\n",
      "Epoch 120/500\n",
      "355/355 [==============================] - 0s 125us/step - loss: 0.4472 - accuracy: 0.7915 - val_loss: 0.4899 - val_accuracy: 0.7528\n",
      "Epoch 121/500\n",
      "355/355 [==============================] - 0s 102us/step - loss: 0.4418 - accuracy: 0.7887 - val_loss: 0.4913 - val_accuracy: 0.7416\n",
      "Epoch 122/500\n",
      "355/355 [==============================] - 0s 113us/step - loss: 0.4628 - accuracy: 0.7577 - val_loss: 0.5023 - val_accuracy: 0.7191\n",
      "Epoch 123/500\n",
      "355/355 [==============================] - 0s 115us/step - loss: 0.4543 - accuracy: 0.7549 - val_loss: 0.4883 - val_accuracy: 0.7416\n",
      "Epoch 124/500\n",
      "355/355 [==============================] - 0s 109us/step - loss: 0.4679 - accuracy: 0.7549 - val_loss: 0.4895 - val_accuracy: 0.7528\n",
      "Epoch 125/500\n",
      "355/355 [==============================] - 0s 110us/step - loss: 0.4355 - accuracy: 0.7972 - val_loss: 0.5075 - val_accuracy: 0.7191\n",
      "Epoch 126/500\n",
      "355/355 [==============================] - 0s 141us/step - loss: 0.4514 - accuracy: 0.7831 - val_loss: 0.4913 - val_accuracy: 0.7303\n",
      "Epoch 127/500\n",
      "355/355 [==============================] - 0s 132us/step - loss: 0.4392 - accuracy: 0.8000 - val_loss: 0.4836 - val_accuracy: 0.7528\n",
      "Epoch 128/500\n",
      "355/355 [==============================] - 0s 130us/step - loss: 0.4463 - accuracy: 0.7887 - val_loss: 0.4936 - val_accuracy: 0.7416\n",
      "Epoch 129/500\n",
      "355/355 [==============================] - 0s 137us/step - loss: 0.4567 - accuracy: 0.7775 - val_loss: 0.4909 - val_accuracy: 0.7640\n",
      "Epoch 130/500\n",
      "355/355 [==============================] - 0s 160us/step - loss: 0.4618 - accuracy: 0.7718 - val_loss: 0.5023 - val_accuracy: 0.7416\n",
      "Epoch 131/500\n",
      "355/355 [==============================] - 0s 130us/step - loss: 0.4367 - accuracy: 0.7690 - val_loss: 0.5003 - val_accuracy: 0.7303\n",
      "Epoch 132/500\n",
      "355/355 [==============================] - 0s 86us/step - loss: 0.4623 - accuracy: 0.7718 - val_loss: 0.4929 - val_accuracy: 0.7303\n",
      "Epoch 133/500\n",
      "355/355 [==============================] - 0s 95us/step - loss: 0.4463 - accuracy: 0.7831 - val_loss: 0.4863 - val_accuracy: 0.7528\n",
      "Epoch 134/500\n",
      "355/355 [==============================] - 0s 107us/step - loss: 0.4636 - accuracy: 0.7662 - val_loss: 0.4946 - val_accuracy: 0.7416\n",
      "Epoch 135/500\n",
      "355/355 [==============================] - 0s 72us/step - loss: 0.4455 - accuracy: 0.7803 - val_loss: 0.4909 - val_accuracy: 0.7416\n",
      "Epoch 136/500\n",
      "355/355 [==============================] - 0s 73us/step - loss: 0.4412 - accuracy: 0.7775 - val_loss: 0.4895 - val_accuracy: 0.7416\n",
      "Epoch 137/500\n",
      "355/355 [==============================] - 0s 75us/step - loss: 0.4601 - accuracy: 0.7775 - val_loss: 0.4873 - val_accuracy: 0.7640\n",
      "Epoch 138/500\n",
      "355/355 [==============================] - 0s 82us/step - loss: 0.4418 - accuracy: 0.7634 - val_loss: 0.4980 - val_accuracy: 0.7528\n",
      "Epoch 139/500\n",
      "355/355 [==============================] - 0s 82us/step - loss: 0.4557 - accuracy: 0.7662 - val_loss: 0.4977 - val_accuracy: 0.7416\n",
      "Epoch 140/500\n",
      "355/355 [==============================] - 0s 78us/step - loss: 0.4645 - accuracy: 0.7465 - val_loss: 0.4953 - val_accuracy: 0.7416\n",
      "Epoch 141/500\n",
      "355/355 [==============================] - 0s 78us/step - loss: 0.4581 - accuracy: 0.7577 - val_loss: 0.4932 - val_accuracy: 0.7303\n",
      "Epoch 142/500\n",
      "355/355 [==============================] - 0s 95us/step - loss: 0.4385 - accuracy: 0.7859 - val_loss: 0.4847 - val_accuracy: 0.7528\n",
      "Epoch 143/500\n",
      "355/355 [==============================] - 0s 86us/step - loss: 0.4406 - accuracy: 0.7577 - val_loss: 0.4877 - val_accuracy: 0.7528\n",
      "Epoch 144/500\n",
      "355/355 [==============================] - 0s 85us/step - loss: 0.4195 - accuracy: 0.7831 - val_loss: 0.4936 - val_accuracy: 0.7416\n",
      "Epoch 145/500\n",
      "355/355 [==============================] - 0s 105us/step - loss: 0.4609 - accuracy: 0.7803 - val_loss: 0.4892 - val_accuracy: 0.7528\n",
      "Epoch 146/500\n",
      "355/355 [==============================] - 0s 119us/step - loss: 0.4559 - accuracy: 0.7775 - val_loss: 0.5001 - val_accuracy: 0.7528\n",
      "Epoch 147/500\n",
      "355/355 [==============================] - 0s 97us/step - loss: 0.4388 - accuracy: 0.8085 - val_loss: 0.4928 - val_accuracy: 0.7528\n",
      "Epoch 148/500\n",
      "355/355 [==============================] - 0s 102us/step - loss: 0.4489 - accuracy: 0.7718 - val_loss: 0.4943 - val_accuracy: 0.7528\n",
      "Epoch 149/500\n",
      "355/355 [==============================] - 0s 123us/step - loss: 0.4576 - accuracy: 0.7690 - val_loss: 0.4926 - val_accuracy: 0.7528\n",
      "Epoch 150/500\n",
      "355/355 [==============================] - 0s 90us/step - loss: 0.4494 - accuracy: 0.7521 - val_loss: 0.4855 - val_accuracy: 0.7528\n",
      "Epoch 151/500\n",
      "355/355 [==============================] - 0s 87us/step - loss: 0.4367 - accuracy: 0.7634 - val_loss: 0.4859 - val_accuracy: 0.7416\n",
      "Epoch 152/500\n",
      "355/355 [==============================] - 0s 95us/step - loss: 0.4514 - accuracy: 0.7887 - val_loss: 0.4919 - val_accuracy: 0.7303\n",
      "Epoch 153/500\n",
      "355/355 [==============================] - 0s 92us/step - loss: 0.4571 - accuracy: 0.7718 - val_loss: 0.4949 - val_accuracy: 0.7528\n",
      "Epoch 154/500\n",
      "355/355 [==============================] - 0s 70us/step - loss: 0.4342 - accuracy: 0.7803 - val_loss: 0.4927 - val_accuracy: 0.7303\n",
      "Epoch 155/500\n",
      "355/355 [==============================] - 0s 78us/step - loss: 0.4482 - accuracy: 0.7746 - val_loss: 0.4833 - val_accuracy: 0.7528\n",
      "Epoch 156/500\n",
      "355/355 [==============================] - 0s 74us/step - loss: 0.4396 - accuracy: 0.7718 - val_loss: 0.4897 - val_accuracy: 0.7416\n",
      "Epoch 157/500\n",
      "355/355 [==============================] - 0s 72us/step - loss: 0.4529 - accuracy: 0.7775 - val_loss: 0.4981 - val_accuracy: 0.7303\n",
      "Epoch 158/500\n",
      "355/355 [==============================] - 0s 84us/step - loss: 0.4401 - accuracy: 0.7803 - val_loss: 0.4986 - val_accuracy: 0.7416\n",
      "Epoch 159/500\n",
      "355/355 [==============================] - 0s 83us/step - loss: 0.4450 - accuracy: 0.7606 - val_loss: 0.5060 - val_accuracy: 0.7416\n",
      "Epoch 160/500\n",
      "355/355 [==============================] - 0s 77us/step - loss: 0.4406 - accuracy: 0.7746 - val_loss: 0.4996 - val_accuracy: 0.7416\n",
      "Epoch 161/500\n",
      "355/355 [==============================] - 0s 79us/step - loss: 0.4696 - accuracy: 0.7606 - val_loss: 0.4845 - val_accuracy: 0.7640\n",
      "Epoch 162/500\n",
      "355/355 [==============================] - 0s 93us/step - loss: 0.4387 - accuracy: 0.7887 - val_loss: 0.4863 - val_accuracy: 0.7865\n",
      "Epoch 163/500\n",
      "355/355 [==============================] - 0s 84us/step - loss: 0.4594 - accuracy: 0.7549 - val_loss: 0.4890 - val_accuracy: 0.7191\n",
      "Epoch 164/500\n",
      "355/355 [==============================] - 0s 94us/step - loss: 0.4427 - accuracy: 0.7746 - val_loss: 0.4843 - val_accuracy: 0.7528\n",
      "Epoch 165/500\n",
      "355/355 [==============================] - 0s 134us/step - loss: 0.4407 - accuracy: 0.7803 - val_loss: 0.4840 - val_accuracy: 0.7528\n",
      "Epoch 166/500\n",
      "355/355 [==============================] - 0s 102us/step - loss: 0.4407 - accuracy: 0.7775 - val_loss: 0.4957 - val_accuracy: 0.7416\n",
      "Epoch 167/500\n",
      "355/355 [==============================] - 0s 115us/step - loss: 0.4330 - accuracy: 0.7915 - val_loss: 0.5028 - val_accuracy: 0.7416\n",
      "Epoch 168/500\n",
      "355/355 [==============================] - 0s 111us/step - loss: 0.4396 - accuracy: 0.7803 - val_loss: 0.4931 - val_accuracy: 0.7640\n",
      "Epoch 169/500\n"
     ]
    },
    {
     "name": "stdout",
     "output_type": "stream",
     "text": [
      "355/355 [==============================] - 0s 120us/step - loss: 0.4392 - accuracy: 0.7887 - val_loss: 0.4851 - val_accuracy: 0.7640\n",
      "Epoch 170/500\n",
      "355/355 [==============================] - 0s 108us/step - loss: 0.4429 - accuracy: 0.7662 - val_loss: 0.4905 - val_accuracy: 0.7416\n",
      "Epoch 171/500\n",
      "355/355 [==============================] - 0s 93us/step - loss: 0.4342 - accuracy: 0.7634 - val_loss: 0.4844 - val_accuracy: 0.7528\n",
      "Epoch 172/500\n",
      "355/355 [==============================] - 0s 80us/step - loss: 0.4403 - accuracy: 0.7718 - val_loss: 0.4851 - val_accuracy: 0.7528\n",
      "Epoch 173/500\n",
      "355/355 [==============================] - 0s 84us/step - loss: 0.4267 - accuracy: 0.7718 - val_loss: 0.4853 - val_accuracy: 0.7640\n",
      "Epoch 174/500\n",
      "355/355 [==============================] - 0s 74us/step - loss: 0.4257 - accuracy: 0.7887 - val_loss: 0.4909 - val_accuracy: 0.7528\n",
      "Epoch 175/500\n",
      "355/355 [==============================] - 0s 91us/step - loss: 0.4464 - accuracy: 0.7775 - val_loss: 0.4947 - val_accuracy: 0.7416\n",
      "Epoch 176/500\n",
      "355/355 [==============================] - 0s 84us/step - loss: 0.4408 - accuracy: 0.7690 - val_loss: 0.4886 - val_accuracy: 0.7640\n",
      "Epoch 177/500\n",
      "355/355 [==============================] - 0s 74us/step - loss: 0.4256 - accuracy: 0.7887 - val_loss: 0.4888 - val_accuracy: 0.7416\n",
      "Epoch 178/500\n",
      "355/355 [==============================] - 0s 79us/step - loss: 0.4145 - accuracy: 0.7972 - val_loss: 0.4900 - val_accuracy: 0.7753\n",
      "Epoch 179/500\n",
      "355/355 [==============================] - 0s 92us/step - loss: 0.4295 - accuracy: 0.7662 - val_loss: 0.4947 - val_accuracy: 0.7528\n",
      "Epoch 180/500\n",
      "355/355 [==============================] - 0s 72us/step - loss: 0.4637 - accuracy: 0.7606 - val_loss: 0.4891 - val_accuracy: 0.7416\n",
      "Epoch 181/500\n",
      "355/355 [==============================] - 0s 81us/step - loss: 0.4390 - accuracy: 0.7662 - val_loss: 0.4999 - val_accuracy: 0.7416\n",
      "Epoch 182/500\n",
      "355/355 [==============================] - 0s 80us/step - loss: 0.4522 - accuracy: 0.7718 - val_loss: 0.4888 - val_accuracy: 0.7528\n",
      "Epoch 183/500\n",
      "355/355 [==============================] - 0s 113us/step - loss: 0.4444 - accuracy: 0.7549 - val_loss: 0.4953 - val_accuracy: 0.7416\n",
      "Epoch 184/500\n",
      "355/355 [==============================] - 0s 126us/step - loss: 0.4489 - accuracy: 0.7775 - val_loss: 0.4904 - val_accuracy: 0.7416\n",
      "Epoch 185/500\n",
      "355/355 [==============================] - 0s 104us/step - loss: 0.4506 - accuracy: 0.7718 - val_loss: 0.5160 - val_accuracy: 0.7191\n",
      "Epoch 186/500\n",
      "355/355 [==============================] - 0s 127us/step - loss: 0.4386 - accuracy: 0.7831 - val_loss: 0.5069 - val_accuracy: 0.7191\n",
      "Epoch 187/500\n",
      "355/355 [==============================] - 0s 100us/step - loss: 0.4358 - accuracy: 0.7775 - val_loss: 0.5039 - val_accuracy: 0.7416\n",
      "Epoch 188/500\n",
      "355/355 [==============================] - 0s 97us/step - loss: 0.4324 - accuracy: 0.7746 - val_loss: 0.4889 - val_accuracy: 0.7753\n",
      "Epoch 189/500\n",
      "355/355 [==============================] - 0s 87us/step - loss: 0.4336 - accuracy: 0.7690 - val_loss: 0.4888 - val_accuracy: 0.7640\n",
      "Epoch 190/500\n",
      "355/355 [==============================] - 0s 98us/step - loss: 0.4358 - accuracy: 0.7944 - val_loss: 0.5140 - val_accuracy: 0.7416\n",
      "Epoch 191/500\n",
      "355/355 [==============================] - 0s 91us/step - loss: 0.4196 - accuracy: 0.7887 - val_loss: 0.5031 - val_accuracy: 0.7416\n",
      "Epoch 192/500\n",
      "355/355 [==============================] - 0s 89us/step - loss: 0.4205 - accuracy: 0.8000 - val_loss: 0.5001 - val_accuracy: 0.7303\n",
      "Epoch 193/500\n",
      "355/355 [==============================] - 0s 80us/step - loss: 0.4551 - accuracy: 0.7493 - val_loss: 0.4891 - val_accuracy: 0.7528\n",
      "Epoch 194/500\n",
      "355/355 [==============================] - 0s 83us/step - loss: 0.4288 - accuracy: 0.7831 - val_loss: 0.4896 - val_accuracy: 0.7416\n",
      "Epoch 195/500\n",
      "355/355 [==============================] - 0s 73us/step - loss: 0.4315 - accuracy: 0.7944 - val_loss: 0.4907 - val_accuracy: 0.7303\n",
      "Epoch 196/500\n",
      "355/355 [==============================] - 0s 86us/step - loss: 0.4332 - accuracy: 0.7718 - val_loss: 0.4971 - val_accuracy: 0.7416\n",
      "Epoch 197/500\n",
      "355/355 [==============================] - 0s 82us/step - loss: 0.4337 - accuracy: 0.7887 - val_loss: 0.4958 - val_accuracy: 0.7303\n",
      "Epoch 198/500\n",
      "355/355 [==============================] - 0s 107us/step - loss: 0.4230 - accuracy: 0.7859 - val_loss: 0.4947 - val_accuracy: 0.7416\n",
      "Epoch 199/500\n",
      "355/355 [==============================] - 0s 87us/step - loss: 0.4178 - accuracy: 0.7803 - val_loss: 0.4955 - val_accuracy: 0.7528\n",
      "Epoch 200/500\n",
      "355/355 [==============================] - 0s 101us/step - loss: 0.4275 - accuracy: 0.7915 - val_loss: 0.4930 - val_accuracy: 0.7640\n",
      "Epoch 201/500\n",
      "355/355 [==============================] - 0s 110us/step - loss: 0.4198 - accuracy: 0.7859 - val_loss: 0.4903 - val_accuracy: 0.7640\n",
      "Epoch 202/500\n",
      "355/355 [==============================] - 0s 110us/step - loss: 0.4187 - accuracy: 0.7859 - val_loss: 0.4942 - val_accuracy: 0.7191\n",
      "Epoch 203/500\n",
      "355/355 [==============================] - 0s 104us/step - loss: 0.4252 - accuracy: 0.7887 - val_loss: 0.4937 - val_accuracy: 0.7303\n",
      "Epoch 204/500\n",
      "355/355 [==============================] - 0s 118us/step - loss: 0.4182 - accuracy: 0.7718 - val_loss: 0.4776 - val_accuracy: 0.7640\n",
      "Epoch 205/500\n",
      "355/355 [==============================] - 0s 95us/step - loss: 0.4293 - accuracy: 0.8000 - val_loss: 0.4787 - val_accuracy: 0.7528\n",
      "Epoch 206/500\n",
      "355/355 [==============================] - 0s 93us/step - loss: 0.4482 - accuracy: 0.7803 - val_loss: 0.4817 - val_accuracy: 0.7528\n",
      "Epoch 207/500\n",
      "355/355 [==============================] - 0s 97us/step - loss: 0.4342 - accuracy: 0.8000 - val_loss: 0.4809 - val_accuracy: 0.7528\n",
      "Epoch 208/500\n",
      "355/355 [==============================] - 0s 101us/step - loss: 0.4389 - accuracy: 0.7634 - val_loss: 0.4817 - val_accuracy: 0.7416\n",
      "Epoch 209/500\n",
      "355/355 [==============================] - 0s 81us/step - loss: 0.4322 - accuracy: 0.7859 - val_loss: 0.4904 - val_accuracy: 0.7640\n",
      "Epoch 210/500\n",
      "355/355 [==============================] - 0s 97us/step - loss: 0.4165 - accuracy: 0.8113 - val_loss: 0.4835 - val_accuracy: 0.7753\n",
      "Epoch 211/500\n",
      "355/355 [==============================] - 0s 94us/step - loss: 0.4348 - accuracy: 0.7718 - val_loss: 0.4919 - val_accuracy: 0.7191\n",
      "Epoch 212/500\n",
      "355/355 [==============================] - 0s 96us/step - loss: 0.4324 - accuracy: 0.7718 - val_loss: 0.4964 - val_accuracy: 0.7416\n",
      "Epoch 213/500\n",
      "355/355 [==============================] - 0s 89us/step - loss: 0.4317 - accuracy: 0.7718 - val_loss: 0.4864 - val_accuracy: 0.7416\n",
      "Epoch 214/500\n",
      "355/355 [==============================] - 0s 79us/step - loss: 0.4267 - accuracy: 0.7690 - val_loss: 0.5000 - val_accuracy: 0.7416\n",
      "Epoch 215/500\n",
      "355/355 [==============================] - 0s 75us/step - loss: 0.4115 - accuracy: 0.8085 - val_loss: 0.4895 - val_accuracy: 0.7191\n",
      "Epoch 216/500\n",
      "355/355 [==============================] - 0s 104us/step - loss: 0.4289 - accuracy: 0.7915 - val_loss: 0.4959 - val_accuracy: 0.7416\n",
      "Epoch 217/500\n",
      "355/355 [==============================] - 0s 85us/step - loss: 0.4211 - accuracy: 0.7831 - val_loss: 0.4907 - val_accuracy: 0.7416\n",
      "Epoch 218/500\n",
      "355/355 [==============================] - 0s 74us/step - loss: 0.4218 - accuracy: 0.7746 - val_loss: 0.4866 - val_accuracy: 0.7416\n",
      "Epoch 219/500\n",
      "355/355 [==============================] - 0s 81us/step - loss: 0.4295 - accuracy: 0.7775 - val_loss: 0.4854 - val_accuracy: 0.7416\n",
      "Epoch 220/500\n",
      "355/355 [==============================] - 0s 95us/step - loss: 0.4221 - accuracy: 0.7746 - val_loss: 0.4846 - val_accuracy: 0.7416\n",
      "Epoch 221/500\n",
      "355/355 [==============================] - 0s 72us/step - loss: 0.4212 - accuracy: 0.7859 - val_loss: 0.4824 - val_accuracy: 0.7640\n",
      "Epoch 222/500\n",
      "355/355 [==============================] - 0s 95us/step - loss: 0.4167 - accuracy: 0.7915 - val_loss: 0.4830 - val_accuracy: 0.7528\n",
      "Epoch 223/500\n",
      "355/355 [==============================] - 0s 75us/step - loss: 0.4198 - accuracy: 0.7944 - val_loss: 0.5064 - val_accuracy: 0.7528\n",
      "Epoch 224/500\n",
      "355/355 [==============================] - 0s 87us/step - loss: 0.4319 - accuracy: 0.7718 - val_loss: 0.5116 - val_accuracy: 0.7303\n",
      "Epoch 225/500\n"
     ]
    },
    {
     "name": "stdout",
     "output_type": "stream",
     "text": [
      "355/355 [==============================] - 0s 74us/step - loss: 0.4421 - accuracy: 0.7634 - val_loss: 0.4967 - val_accuracy: 0.7303\n",
      "Epoch 226/500\n",
      "355/355 [==============================] - 0s 87us/step - loss: 0.4384 - accuracy: 0.7634 - val_loss: 0.4893 - val_accuracy: 0.7528\n",
      "Epoch 227/500\n",
      "355/355 [==============================] - 0s 83us/step - loss: 0.4104 - accuracy: 0.7887 - val_loss: 0.4845 - val_accuracy: 0.7416\n",
      "Epoch 228/500\n",
      "355/355 [==============================] - 0s 84us/step - loss: 0.4124 - accuracy: 0.7803 - val_loss: 0.4930 - val_accuracy: 0.7640\n",
      "Epoch 229/500\n",
      "355/355 [==============================] - 0s 87us/step - loss: 0.4172 - accuracy: 0.7859 - val_loss: 0.5014 - val_accuracy: 0.7416\n",
      "Epoch 230/500\n",
      "355/355 [==============================] - 0s 81us/step - loss: 0.4363 - accuracy: 0.7690 - val_loss: 0.5040 - val_accuracy: 0.7416\n",
      "Epoch 231/500\n",
      "355/355 [==============================] - 0s 80us/step - loss: 0.4281 - accuracy: 0.7746 - val_loss: 0.4878 - val_accuracy: 0.7416\n",
      "Epoch 232/500\n",
      "355/355 [==============================] - 0s 107us/step - loss: 0.4242 - accuracy: 0.7746 - val_loss: 0.4907 - val_accuracy: 0.7753\n",
      "Epoch 233/500\n",
      "355/355 [==============================] - 0s 105us/step - loss: 0.4135 - accuracy: 0.7859 - val_loss: 0.4898 - val_accuracy: 0.7416\n",
      "Epoch 234/500\n",
      "355/355 [==============================] - 0s 81us/step - loss: 0.4194 - accuracy: 0.7746 - val_loss: 0.4800 - val_accuracy: 0.7640\n",
      "Epoch 235/500\n",
      "355/355 [==============================] - 0s 94us/step - loss: 0.4256 - accuracy: 0.7831 - val_loss: 0.4800 - val_accuracy: 0.7640\n",
      "Epoch 236/500\n",
      "355/355 [==============================] - 0s 98us/step - loss: 0.4261 - accuracy: 0.7746 - val_loss: 0.4866 - val_accuracy: 0.7640\n",
      "Epoch 237/500\n",
      "355/355 [==============================] - 0s 90us/step - loss: 0.4156 - accuracy: 0.7746 - val_loss: 0.4837 - val_accuracy: 0.7640\n",
      "Epoch 238/500\n",
      "355/355 [==============================] - 0s 80us/step - loss: 0.4179 - accuracy: 0.7775 - val_loss: 0.4869 - val_accuracy: 0.7640\n",
      "Epoch 239/500\n",
      "355/355 [==============================] - 0s 101us/step - loss: 0.4012 - accuracy: 0.7944 - val_loss: 0.4892 - val_accuracy: 0.7528\n",
      "Epoch 240/500\n",
      "355/355 [==============================] - 0s 89us/step - loss: 0.4136 - accuracy: 0.7972 - val_loss: 0.4933 - val_accuracy: 0.7528\n",
      "Epoch 241/500\n",
      "355/355 [==============================] - 0s 76us/step - loss: 0.4186 - accuracy: 0.7972 - val_loss: 0.5088 - val_accuracy: 0.7303\n",
      "Epoch 242/500\n",
      "355/355 [==============================] - 0s 75us/step - loss: 0.4685 - accuracy: 0.7521 - val_loss: 0.4762 - val_accuracy: 0.7753\n",
      "Epoch 243/500\n",
      "355/355 [==============================] - 0s 74us/step - loss: 0.4260 - accuracy: 0.8000 - val_loss: 0.4732 - val_accuracy: 0.7753\n",
      "Epoch 244/500\n",
      "355/355 [==============================] - 0s 99us/step - loss: 0.4193 - accuracy: 0.7803 - val_loss: 0.4824 - val_accuracy: 0.7528\n",
      "Epoch 245/500\n",
      "355/355 [==============================] - 0s 86us/step - loss: 0.4476 - accuracy: 0.7718 - val_loss: 0.4954 - val_accuracy: 0.7640\n",
      "Epoch 246/500\n",
      "355/355 [==============================] - 0s 70us/step - loss: 0.4266 - accuracy: 0.7944 - val_loss: 0.4959 - val_accuracy: 0.7079\n",
      "Epoch 247/500\n",
      "355/355 [==============================] - 0s 70us/step - loss: 0.4060 - accuracy: 0.7972 - val_loss: 0.4926 - val_accuracy: 0.7528\n",
      "Epoch 248/500\n",
      "355/355 [==============================] - 0s 90us/step - loss: 0.4046 - accuracy: 0.7887 - val_loss: 0.4908 - val_accuracy: 0.7640\n",
      "Epoch 249/500\n",
      "355/355 [==============================] - 0s 82us/step - loss: 0.4155 - accuracy: 0.7887 - val_loss: 0.4853 - val_accuracy: 0.7528\n",
      "Epoch 250/500\n",
      "355/355 [==============================] - 0s 76us/step - loss: 0.4367 - accuracy: 0.7549 - val_loss: 0.4912 - val_accuracy: 0.7640\n",
      "Epoch 251/500\n",
      "355/355 [==============================] - 0s 83us/step - loss: 0.4222 - accuracy: 0.7831 - val_loss: 0.4858 - val_accuracy: 0.7640\n",
      "Epoch 252/500\n",
      "355/355 [==============================] - 0s 93us/step - loss: 0.4044 - accuracy: 0.7972 - val_loss: 0.4880 - val_accuracy: 0.7640\n",
      "Epoch 253/500\n",
      "355/355 [==============================] - 0s 79us/step - loss: 0.3954 - accuracy: 0.8000 - val_loss: 0.4904 - val_accuracy: 0.7640\n",
      "Epoch 254/500\n",
      "355/355 [==============================] - 0s 94us/step - loss: 0.4201 - accuracy: 0.7746 - val_loss: 0.4946 - val_accuracy: 0.7528\n",
      "Epoch 255/500\n",
      "355/355 [==============================] - 0s 109us/step - loss: 0.4089 - accuracy: 0.7915 - val_loss: 0.4784 - val_accuracy: 0.7640\n",
      "Epoch 256/500\n",
      "355/355 [==============================] - 0s 141us/step - loss: 0.4102 - accuracy: 0.7972 - val_loss: 0.4755 - val_accuracy: 0.7640\n",
      "Epoch 257/500\n",
      "355/355 [==============================] - 0s 102us/step - loss: 0.4137 - accuracy: 0.7887 - val_loss: 0.4960 - val_accuracy: 0.7416\n",
      "Epoch 258/500\n",
      "355/355 [==============================] - 0s 95us/step - loss: 0.3976 - accuracy: 0.7915 - val_loss: 0.5031 - val_accuracy: 0.7640\n",
      "Epoch 259/500\n",
      "355/355 [==============================] - 0s 98us/step - loss: 0.4304 - accuracy: 0.8000 - val_loss: 0.5060 - val_accuracy: 0.7416\n",
      "Epoch 260/500\n",
      "355/355 [==============================] - 0s 88us/step - loss: 0.4094 - accuracy: 0.7887 - val_loss: 0.4904 - val_accuracy: 0.7640\n",
      "Epoch 261/500\n",
      "355/355 [==============================] - 0s 100us/step - loss: 0.4050 - accuracy: 0.7859 - val_loss: 0.4994 - val_accuracy: 0.7528\n",
      "Epoch 262/500\n",
      "355/355 [==============================] - 0s 109us/step - loss: 0.4061 - accuracy: 0.7859 - val_loss: 0.4960 - val_accuracy: 0.7640\n",
      "Epoch 263/500\n",
      "355/355 [==============================] - 0s 85us/step - loss: 0.4067 - accuracy: 0.8028 - val_loss: 0.4935 - val_accuracy: 0.7640\n",
      "Epoch 264/500\n",
      "355/355 [==============================] - 0s 68us/step - loss: 0.4113 - accuracy: 0.7887 - val_loss: 0.4843 - val_accuracy: 0.7640\n",
      "Epoch 265/500\n",
      "355/355 [==============================] - 0s 95us/step - loss: 0.3960 - accuracy: 0.7944 - val_loss: 0.4963 - val_accuracy: 0.7416\n",
      "Epoch 266/500\n",
      "355/355 [==============================] - 0s 86us/step - loss: 0.4123 - accuracy: 0.7944 - val_loss: 0.4848 - val_accuracy: 0.7640\n",
      "Epoch 267/500\n",
      "355/355 [==============================] - 0s 76us/step - loss: 0.4114 - accuracy: 0.8000 - val_loss: 0.5022 - val_accuracy: 0.7191\n",
      "Epoch 268/500\n",
      "355/355 [==============================] - 0s 84us/step - loss: 0.4214 - accuracy: 0.7944 - val_loss: 0.5158 - val_accuracy: 0.7079\n",
      "Epoch 269/500\n",
      "355/355 [==============================] - 0s 75us/step - loss: 0.4434 - accuracy: 0.7662 - val_loss: 0.5078 - val_accuracy: 0.7416\n",
      "Epoch 270/500\n",
      "355/355 [==============================] - 0s 77us/step - loss: 0.4203 - accuracy: 0.7859 - val_loss: 0.4970 - val_accuracy: 0.7303\n",
      "Epoch 271/500\n",
      "355/355 [==============================] - 0s 80us/step - loss: 0.4045 - accuracy: 0.7718 - val_loss: 0.4948 - val_accuracy: 0.7528\n",
      "Epoch 272/500\n",
      "355/355 [==============================] - 0s 81us/step - loss: 0.4157 - accuracy: 0.7859 - val_loss: 0.5127 - val_accuracy: 0.7416\n",
      "Epoch 273/500\n",
      "355/355 [==============================] - 0s 79us/step - loss: 0.4305 - accuracy: 0.7662 - val_loss: 0.4835 - val_accuracy: 0.7416\n",
      "Epoch 274/500\n",
      "355/355 [==============================] - 0s 86us/step - loss: 0.4534 - accuracy: 0.7549 - val_loss: 0.4868 - val_accuracy: 0.7528\n",
      "Epoch 275/500\n",
      "355/355 [==============================] - 0s 87us/step - loss: 0.4178 - accuracy: 0.7746 - val_loss: 0.4885 - val_accuracy: 0.7528\n",
      "Epoch 276/500\n",
      "355/355 [==============================] - 0s 88us/step - loss: 0.4009 - accuracy: 0.8000 - val_loss: 0.4898 - val_accuracy: 0.7528\n",
      "Epoch 277/500\n",
      "355/355 [==============================] - 0s 74us/step - loss: 0.3854 - accuracy: 0.8000 - val_loss: 0.4963 - val_accuracy: 0.7303\n",
      "Epoch 278/500\n",
      "355/355 [==============================] - 0s 79us/step - loss: 0.4048 - accuracy: 0.7859 - val_loss: 0.5046 - val_accuracy: 0.7416\n",
      "Epoch 279/500\n",
      "355/355 [==============================] - 0s 85us/step - loss: 0.4068 - accuracy: 0.8056 - val_loss: 0.4986 - val_accuracy: 0.7640\n",
      "Epoch 280/500\n",
      "355/355 [==============================] - 0s 99us/step - loss: 0.4026 - accuracy: 0.7972 - val_loss: 0.4977 - val_accuracy: 0.7528\n",
      "Epoch 281/500\n"
     ]
    },
    {
     "name": "stdout",
     "output_type": "stream",
     "text": [
      "355/355 [==============================] - 0s 76us/step - loss: 0.3967 - accuracy: 0.7887 - val_loss: 0.4916 - val_accuracy: 0.7416\n",
      "Epoch 282/500\n",
      "355/355 [==============================] - 0s 89us/step - loss: 0.4174 - accuracy: 0.7746 - val_loss: 0.4833 - val_accuracy: 0.7416\n",
      "Epoch 283/500\n",
      "355/355 [==============================] - 0s 80us/step - loss: 0.4130 - accuracy: 0.7944 - val_loss: 0.4857 - val_accuracy: 0.7528\n",
      "Epoch 284/500\n",
      "355/355 [==============================] - 0s 69us/step - loss: 0.4094 - accuracy: 0.8056 - val_loss: 0.5020 - val_accuracy: 0.7640\n",
      "Epoch 285/500\n",
      "355/355 [==============================] - 0s 70us/step - loss: 0.4194 - accuracy: 0.7803 - val_loss: 0.5075 - val_accuracy: 0.7528\n",
      "Epoch 286/500\n",
      "355/355 [==============================] - 0s 93us/step - loss: 0.4097 - accuracy: 0.7887 - val_loss: 0.4936 - val_accuracy: 0.7528\n",
      "Epoch 287/500\n",
      "355/355 [==============================] - 0s 83us/step - loss: 0.3976 - accuracy: 0.8028 - val_loss: 0.4926 - val_accuracy: 0.7528\n",
      "Epoch 288/500\n",
      "355/355 [==============================] - 0s 85us/step - loss: 0.4088 - accuracy: 0.7887 - val_loss: 0.4918 - val_accuracy: 0.7640\n",
      "Epoch 289/500\n",
      "355/355 [==============================] - 0s 80us/step - loss: 0.4041 - accuracy: 0.8056 - val_loss: 0.4872 - val_accuracy: 0.7528\n",
      "Epoch 290/500\n",
      "355/355 [==============================] - 0s 73us/step - loss: 0.4161 - accuracy: 0.7634 - val_loss: 0.4921 - val_accuracy: 0.7416\n",
      "Epoch 291/500\n",
      "355/355 [==============================] - 0s 84us/step - loss: 0.4174 - accuracy: 0.7831 - val_loss: 0.5074 - val_accuracy: 0.7303\n",
      "Epoch 292/500\n",
      "355/355 [==============================] - 0s 87us/step - loss: 0.4143 - accuracy: 0.7859 - val_loss: 0.5309 - val_accuracy: 0.7079\n",
      "Epoch 293/500\n",
      "355/355 [==============================] - 0s 86us/step - loss: 0.3952 - accuracy: 0.7972 - val_loss: 0.5248 - val_accuracy: 0.7528\n",
      "Epoch 294/500\n",
      "355/355 [==============================] - 0s 78us/step - loss: 0.4205 - accuracy: 0.8000 - val_loss: 0.5055 - val_accuracy: 0.7416\n",
      "Epoch 295/500\n",
      "355/355 [==============================] - 0s 82us/step - loss: 0.4014 - accuracy: 0.7944 - val_loss: 0.5006 - val_accuracy: 0.7191\n",
      "Epoch 296/500\n",
      "355/355 [==============================] - 0s 94us/step - loss: 0.3876 - accuracy: 0.8085 - val_loss: 0.5019 - val_accuracy: 0.7303\n",
      "Epoch 297/500\n",
      "355/355 [==============================] - 0s 83us/step - loss: 0.3973 - accuracy: 0.8085 - val_loss: 0.5113 - val_accuracy: 0.7303\n",
      "Epoch 298/500\n",
      "355/355 [==============================] - 0s 103us/step - loss: 0.4007 - accuracy: 0.7972 - val_loss: 0.4965 - val_accuracy: 0.7640\n",
      "Epoch 299/500\n",
      "355/355 [==============================] - 0s 109us/step - loss: 0.4038 - accuracy: 0.7915 - val_loss: 0.4945 - val_accuracy: 0.7640\n",
      "Epoch 300/500\n",
      "355/355 [==============================] - 0s 90us/step - loss: 0.4105 - accuracy: 0.7944 - val_loss: 0.4890 - val_accuracy: 0.7753\n",
      "Epoch 301/500\n",
      "355/355 [==============================] - 0s 92us/step - loss: 0.3996 - accuracy: 0.8056 - val_loss: 0.4850 - val_accuracy: 0.7865\n",
      "Epoch 302/500\n",
      "355/355 [==============================] - 0s 86us/step - loss: 0.4010 - accuracy: 0.8028 - val_loss: 0.4964 - val_accuracy: 0.7640\n",
      "Epoch 303/500\n",
      "355/355 [==============================] - 0s 100us/step - loss: 0.3926 - accuracy: 0.7887 - val_loss: 0.4948 - val_accuracy: 0.7303\n",
      "Epoch 304/500\n",
      "355/355 [==============================] - 0s 83us/step - loss: 0.3956 - accuracy: 0.8113 - val_loss: 0.4879 - val_accuracy: 0.7416\n",
      "Epoch 305/500\n",
      "355/355 [==============================] - 0s 83us/step - loss: 0.4036 - accuracy: 0.8028 - val_loss: 0.4934 - val_accuracy: 0.7640\n",
      "Epoch 306/500\n",
      "355/355 [==============================] - 0s 90us/step - loss: 0.3990 - accuracy: 0.8085 - val_loss: 0.5000 - val_accuracy: 0.7640\n",
      "Epoch 307/500\n",
      "355/355 [==============================] - 0s 96us/step - loss: 0.3930 - accuracy: 0.7944 - val_loss: 0.4869 - val_accuracy: 0.7640\n",
      "Epoch 308/500\n",
      "355/355 [==============================] - 0s 89us/step - loss: 0.3969 - accuracy: 0.8056 - val_loss: 0.4870 - val_accuracy: 0.7640\n",
      "Epoch 309/500\n",
      "355/355 [==============================] - 0s 86us/step - loss: 0.3886 - accuracy: 0.8000 - val_loss: 0.4949 - val_accuracy: 0.7528\n",
      "Epoch 310/500\n",
      "355/355 [==============================] - 0s 107us/step - loss: 0.3997 - accuracy: 0.7944 - val_loss: 0.5051 - val_accuracy: 0.7640\n",
      "Epoch 311/500\n",
      "355/355 [==============================] - 0s 89us/step - loss: 0.4078 - accuracy: 0.8000 - val_loss: 0.5007 - val_accuracy: 0.7191\n",
      "Epoch 312/500\n",
      "355/355 [==============================] - 0s 72us/step - loss: 0.4112 - accuracy: 0.8028 - val_loss: 0.5017 - val_accuracy: 0.7416\n",
      "Epoch 313/500\n",
      "355/355 [==============================] - 0s 95us/step - loss: 0.4050 - accuracy: 0.7887 - val_loss: 0.4997 - val_accuracy: 0.7753\n",
      "Epoch 314/500\n",
      "355/355 [==============================] - 0s 100us/step - loss: 0.4030 - accuracy: 0.7859 - val_loss: 0.5270 - val_accuracy: 0.7416\n",
      "Epoch 315/500\n",
      "355/355 [==============================] - 0s 80us/step - loss: 0.4262 - accuracy: 0.7746 - val_loss: 0.4887 - val_accuracy: 0.7753\n",
      "Epoch 316/500\n",
      "355/355 [==============================] - 0s 78us/step - loss: 0.4227 - accuracy: 0.7831 - val_loss: 0.4936 - val_accuracy: 0.7640\n",
      "Epoch 317/500\n",
      "355/355 [==============================] - 0s 82us/step - loss: 0.4032 - accuracy: 0.8000 - val_loss: 0.5264 - val_accuracy: 0.7640\n",
      "Epoch 318/500\n",
      "355/355 [==============================] - 0s 87us/step - loss: 0.4403 - accuracy: 0.7690 - val_loss: 0.4933 - val_accuracy: 0.7528\n",
      "Epoch 319/500\n",
      "355/355 [==============================] - 0s 85us/step - loss: 0.4055 - accuracy: 0.7944 - val_loss: 0.4869 - val_accuracy: 0.7753\n",
      "Epoch 320/500\n",
      "355/355 [==============================] - 0s 92us/step - loss: 0.3953 - accuracy: 0.8028 - val_loss: 0.4950 - val_accuracy: 0.7640\n",
      "Epoch 321/500\n",
      "355/355 [==============================] - 0s 80us/step - loss: 0.3989 - accuracy: 0.7831 - val_loss: 0.4947 - val_accuracy: 0.7640\n",
      "Epoch 322/500\n",
      "355/355 [==============================] - 0s 99us/step - loss: 0.4036 - accuracy: 0.7690 - val_loss: 0.5022 - val_accuracy: 0.7640\n",
      "Epoch 323/500\n",
      "355/355 [==============================] - 0s 92us/step - loss: 0.4035 - accuracy: 0.8028 - val_loss: 0.4922 - val_accuracy: 0.7528\n",
      "Epoch 324/500\n",
      "355/355 [==============================] - 0s 75us/step - loss: 0.4074 - accuracy: 0.7831 - val_loss: 0.4887 - val_accuracy: 0.7528\n",
      "Epoch 325/500\n",
      "355/355 [==============================] - 0s 94us/step - loss: 0.4046 - accuracy: 0.7915 - val_loss: 0.5068 - val_accuracy: 0.7640\n",
      "Epoch 326/500\n",
      "355/355 [==============================] - 0s 84us/step - loss: 0.4010 - accuracy: 0.8085 - val_loss: 0.4973 - val_accuracy: 0.7640\n",
      "Epoch 327/500\n",
      "355/355 [==============================] - 0s 79us/step - loss: 0.3990 - accuracy: 0.7972 - val_loss: 0.4780 - val_accuracy: 0.7753\n",
      "Epoch 328/500\n",
      "355/355 [==============================] - 0s 93us/step - loss: 0.4182 - accuracy: 0.7831 - val_loss: 0.4760 - val_accuracy: 0.7865\n",
      "Epoch 329/500\n",
      "355/355 [==============================] - 0s 99us/step - loss: 0.4005 - accuracy: 0.8000 - val_loss: 0.4851 - val_accuracy: 0.7640\n",
      "Epoch 330/500\n",
      "355/355 [==============================] - 0s 112us/step - loss: 0.3932 - accuracy: 0.8197 - val_loss: 0.4968 - val_accuracy: 0.7640\n",
      "Epoch 331/500\n",
      "355/355 [==============================] - 0s 84us/step - loss: 0.3813 - accuracy: 0.8056 - val_loss: 0.4857 - val_accuracy: 0.7528\n",
      "Epoch 332/500\n",
      "355/355 [==============================] - 0s 74us/step - loss: 0.3924 - accuracy: 0.8000 - val_loss: 0.4870 - val_accuracy: 0.7978\n",
      "Epoch 333/500\n",
      "355/355 [==============================] - 0s 85us/step - loss: 0.3967 - accuracy: 0.8000 - val_loss: 0.4874 - val_accuracy: 0.7528\n",
      "Epoch 334/500\n",
      "355/355 [==============================] - 0s 91us/step - loss: 0.4154 - accuracy: 0.8000 - val_loss: 0.4746 - val_accuracy: 0.7753\n",
      "Epoch 335/500\n",
      "355/355 [==============================] - 0s 92us/step - loss: 0.4041 - accuracy: 0.7775 - val_loss: 0.4822 - val_accuracy: 0.7640\n",
      "Epoch 336/500\n",
      "355/355 [==============================] - 0s 88us/step - loss: 0.4212 - accuracy: 0.7972 - val_loss: 0.4843 - val_accuracy: 0.7753\n",
      "Epoch 337/500\n"
     ]
    },
    {
     "name": "stdout",
     "output_type": "stream",
     "text": [
      "355/355 [==============================] - 0s 72us/step - loss: 0.3904 - accuracy: 0.7887 - val_loss: 0.4789 - val_accuracy: 0.7753\n",
      "Epoch 338/500\n",
      "355/355 [==============================] - 0s 94us/step - loss: 0.3949 - accuracy: 0.8000 - val_loss: 0.4843 - val_accuracy: 0.7753\n",
      "Epoch 339/500\n",
      "355/355 [==============================] - 0s 77us/step - loss: 0.3891 - accuracy: 0.8085 - val_loss: 0.4781 - val_accuracy: 0.7753\n",
      "Epoch 340/500\n",
      "355/355 [==============================] - 0s 85us/step - loss: 0.3853 - accuracy: 0.8085 - val_loss: 0.4879 - val_accuracy: 0.7416\n",
      "Epoch 341/500\n",
      "355/355 [==============================] - 0s 86us/step - loss: 0.4061 - accuracy: 0.7746 - val_loss: 0.4846 - val_accuracy: 0.7416\n",
      "Epoch 342/500\n",
      "355/355 [==============================] - 0s 124us/step - loss: 0.3847 - accuracy: 0.8225 - val_loss: 0.5076 - val_accuracy: 0.7640\n",
      "Epoch 343/500\n",
      "355/355 [==============================] - 0s 96us/step - loss: 0.3918 - accuracy: 0.8141 - val_loss: 0.4917 - val_accuracy: 0.7303\n",
      "Epoch 344/500\n",
      "355/355 [==============================] - 0s 81us/step - loss: 0.3975 - accuracy: 0.8113 - val_loss: 0.4901 - val_accuracy: 0.7640\n",
      "Epoch 345/500\n",
      "355/355 [==============================] - 0s 103us/step - loss: 0.3949 - accuracy: 0.7803 - val_loss: 0.4813 - val_accuracy: 0.7416\n",
      "Epoch 346/500\n",
      "355/355 [==============================] - 0s 103us/step - loss: 0.4022 - accuracy: 0.8141 - val_loss: 0.4939 - val_accuracy: 0.7191\n",
      "Epoch 347/500\n",
      "355/355 [==============================] - 0s 104us/step - loss: 0.4007 - accuracy: 0.7746 - val_loss: 0.4986 - val_accuracy: 0.7416\n",
      "Epoch 348/500\n",
      "355/355 [==============================] - 0s 86us/step - loss: 0.3929 - accuracy: 0.7887 - val_loss: 0.5260 - val_accuracy: 0.7528\n",
      "Epoch 349/500\n",
      "355/355 [==============================] - 0s 104us/step - loss: 0.4146 - accuracy: 0.7915 - val_loss: 0.4968 - val_accuracy: 0.7416\n",
      "Epoch 350/500\n",
      "355/355 [==============================] - 0s 92us/step - loss: 0.3755 - accuracy: 0.8141 - val_loss: 0.4964 - val_accuracy: 0.7303\n",
      "Epoch 351/500\n",
      "355/355 [==============================] - 0s 95us/step - loss: 0.3850 - accuracy: 0.8141 - val_loss: 0.5080 - val_accuracy: 0.7191\n",
      "Epoch 352/500\n",
      "355/355 [==============================] - 0s 122us/step - loss: 0.3902 - accuracy: 0.7859 - val_loss: 0.4868 - val_accuracy: 0.7416\n",
      "Epoch 353/500\n",
      "355/355 [==============================] - 0s 120us/step - loss: 0.4088 - accuracy: 0.8085 - val_loss: 0.4993 - val_accuracy: 0.7191\n",
      "Epoch 354/500\n",
      "355/355 [==============================] - 0s 99us/step - loss: 0.3808 - accuracy: 0.8085 - val_loss: 0.5015 - val_accuracy: 0.7640\n",
      "Epoch 355/500\n",
      "355/355 [==============================] - 0s 102us/step - loss: 0.4005 - accuracy: 0.8141 - val_loss: 0.4980 - val_accuracy: 0.7753\n",
      "Epoch 356/500\n",
      "355/355 [==============================] - 0s 82us/step - loss: 0.3784 - accuracy: 0.7944 - val_loss: 0.5017 - val_accuracy: 0.7640\n",
      "Epoch 357/500\n",
      "355/355 [==============================] - 0s 88us/step - loss: 0.3859 - accuracy: 0.7887 - val_loss: 0.5260 - val_accuracy: 0.7303\n",
      "Epoch 358/500\n",
      "355/355 [==============================] - 0s 105us/step - loss: 0.3821 - accuracy: 0.7944 - val_loss: 0.5068 - val_accuracy: 0.7640\n",
      "Epoch 359/500\n",
      "355/355 [==============================] - 0s 108us/step - loss: 0.4045 - accuracy: 0.7972 - val_loss: 0.5109 - val_accuracy: 0.7865\n",
      "Epoch 360/500\n",
      "355/355 [==============================] - 0s 83us/step - loss: 0.3899 - accuracy: 0.7972 - val_loss: 0.4960 - val_accuracy: 0.7528\n",
      "Epoch 361/500\n",
      "355/355 [==============================] - 0s 85us/step - loss: 0.3809 - accuracy: 0.8085 - val_loss: 0.4981 - val_accuracy: 0.7865\n",
      "Epoch 362/500\n",
      "355/355 [==============================] - 0s 91us/step - loss: 0.3704 - accuracy: 0.8085 - val_loss: 0.5084 - val_accuracy: 0.7640\n",
      "Epoch 363/500\n",
      "355/355 [==============================] - 0s 83us/step - loss: 0.3810 - accuracy: 0.8085 - val_loss: 0.5255 - val_accuracy: 0.7753\n",
      "Epoch 364/500\n",
      "355/355 [==============================] - 0s 92us/step - loss: 0.3858 - accuracy: 0.8113 - val_loss: 0.5041 - val_accuracy: 0.7753\n",
      "Epoch 365/500\n",
      "355/355 [==============================] - 0s 84us/step - loss: 0.3821 - accuracy: 0.8197 - val_loss: 0.5054 - val_accuracy: 0.7416\n",
      "Epoch 366/500\n",
      "355/355 [==============================] - 0s 81us/step - loss: 0.3902 - accuracy: 0.8028 - val_loss: 0.5044 - val_accuracy: 0.7416\n",
      "Epoch 367/500\n",
      "355/355 [==============================] - 0s 110us/step - loss: 0.3876 - accuracy: 0.8056 - val_loss: 0.4888 - val_accuracy: 0.7640\n",
      "Epoch 368/500\n",
      "355/355 [==============================] - 0s 86us/step - loss: 0.3817 - accuracy: 0.7944 - val_loss: 0.4912 - val_accuracy: 0.7528\n",
      "Epoch 369/500\n",
      "355/355 [==============================] - 0s 99us/step - loss: 0.3694 - accuracy: 0.8113 - val_loss: 0.5129 - val_accuracy: 0.7416\n",
      "Epoch 370/500\n",
      "355/355 [==============================] - 0s 92us/step - loss: 0.3888 - accuracy: 0.8254 - val_loss: 0.5160 - val_accuracy: 0.7640\n",
      "Epoch 371/500\n",
      "355/355 [==============================] - 0s 109us/step - loss: 0.3887 - accuracy: 0.8028 - val_loss: 0.5112 - val_accuracy: 0.7416\n",
      "Epoch 372/500\n",
      "355/355 [==============================] - 0s 78us/step - loss: 0.4044 - accuracy: 0.7887 - val_loss: 0.5108 - val_accuracy: 0.7640\n",
      "Epoch 373/500\n",
      "355/355 [==============================] - 0s 98us/step - loss: 0.4054 - accuracy: 0.7972 - val_loss: 0.5134 - val_accuracy: 0.7753\n",
      "Epoch 374/500\n",
      "355/355 [==============================] - 0s 88us/step - loss: 0.3843 - accuracy: 0.7859 - val_loss: 0.4994 - val_accuracy: 0.7528\n",
      "Epoch 375/500\n",
      "355/355 [==============================] - 0s 80us/step - loss: 0.3710 - accuracy: 0.8056 - val_loss: 0.5224 - val_accuracy: 0.7640\n",
      "Epoch 376/500\n",
      "355/355 [==============================] - 0s 80us/step - loss: 0.4155 - accuracy: 0.7775 - val_loss: 0.5258 - val_accuracy: 0.7640\n",
      "Epoch 377/500\n",
      "355/355 [==============================] - 0s 77us/step - loss: 0.4312 - accuracy: 0.7887 - val_loss: 0.5025 - val_accuracy: 0.7865\n",
      "Epoch 378/500\n",
      "355/355 [==============================] - 0s 98us/step - loss: 0.4087 - accuracy: 0.7831 - val_loss: 0.4871 - val_accuracy: 0.7865\n",
      "Epoch 379/500\n",
      "355/355 [==============================] - 0s 107us/step - loss: 0.4085 - accuracy: 0.7859 - val_loss: 0.5179 - val_accuracy: 0.7303\n",
      "Epoch 380/500\n",
      "355/355 [==============================] - 0s 77us/step - loss: 0.3884 - accuracy: 0.7944 - val_loss: 0.5036 - val_accuracy: 0.7753\n",
      "Epoch 381/500\n",
      "355/355 [==============================] - 0s 96us/step - loss: 0.3801 - accuracy: 0.8141 - val_loss: 0.5315 - val_accuracy: 0.7416\n",
      "Epoch 382/500\n",
      "355/355 [==============================] - 0s 94us/step - loss: 0.3933 - accuracy: 0.7887 - val_loss: 0.5060 - val_accuracy: 0.7416\n",
      "Epoch 383/500\n",
      "355/355 [==============================] - 0s 79us/step - loss: 0.3794 - accuracy: 0.8197 - val_loss: 0.5021 - val_accuracy: 0.7753\n",
      "Epoch 384/500\n",
      "355/355 [==============================] - 0s 81us/step - loss: 0.3872 - accuracy: 0.8000 - val_loss: 0.5011 - val_accuracy: 0.7640\n",
      "Epoch 385/500\n",
      "355/355 [==============================] - 0s 96us/step - loss: 0.3745 - accuracy: 0.8141 - val_loss: 0.5134 - val_accuracy: 0.7865\n",
      "Epoch 386/500\n",
      "355/355 [==============================] - 0s 92us/step - loss: 0.3925 - accuracy: 0.8056 - val_loss: 0.5130 - val_accuracy: 0.7528\n",
      "Epoch 387/500\n",
      "355/355 [==============================] - 0s 78us/step - loss: 0.4157 - accuracy: 0.7944 - val_loss: 0.5035 - val_accuracy: 0.7416\n",
      "Epoch 388/500\n",
      "355/355 [==============================] - 0s 86us/step - loss: 0.4090 - accuracy: 0.7915 - val_loss: 0.4924 - val_accuracy: 0.7753\n",
      "Epoch 389/500\n",
      "355/355 [==============================] - 0s 92us/step - loss: 0.3913 - accuracy: 0.8113 - val_loss: 0.5130 - val_accuracy: 0.7528\n",
      "Epoch 390/500\n",
      "355/355 [==============================] - 0s 79us/step - loss: 0.3811 - accuracy: 0.8056 - val_loss: 0.5260 - val_accuracy: 0.7416\n",
      "Epoch 391/500\n",
      "355/355 [==============================] - 0s 94us/step - loss: 0.3735 - accuracy: 0.8113 - val_loss: 0.5201 - val_accuracy: 0.7528\n",
      "Epoch 392/500\n",
      "355/355 [==============================] - 0s 79us/step - loss: 0.3859 - accuracy: 0.8056 - val_loss: 0.5260 - val_accuracy: 0.7303\n",
      "Epoch 393/500\n"
     ]
    },
    {
     "name": "stdout",
     "output_type": "stream",
     "text": [
      "355/355 [==============================] - 0s 76us/step - loss: 0.3862 - accuracy: 0.7915 - val_loss: 0.4998 - val_accuracy: 0.7865\n",
      "Epoch 394/500\n",
      "355/355 [==============================] - 0s 83us/step - loss: 0.3831 - accuracy: 0.8197 - val_loss: 0.5079 - val_accuracy: 0.7303\n",
      "Epoch 395/500\n",
      "355/355 [==============================] - 0s 83us/step - loss: 0.3738 - accuracy: 0.8169 - val_loss: 0.5376 - val_accuracy: 0.7753\n",
      "Epoch 396/500\n",
      "355/355 [==============================] - 0s 89us/step - loss: 0.4177 - accuracy: 0.7831 - val_loss: 0.5153 - val_accuracy: 0.7416\n",
      "Epoch 397/500\n",
      "355/355 [==============================] - 0s 103us/step - loss: 0.3770 - accuracy: 0.8254 - val_loss: 0.5069 - val_accuracy: 0.7753\n",
      "Epoch 398/500\n",
      "355/355 [==============================] - 0s 88us/step - loss: 0.3661 - accuracy: 0.8254 - val_loss: 0.5163 - val_accuracy: 0.7640\n",
      "Epoch 399/500\n",
      "355/355 [==============================] - 0s 105us/step - loss: 0.3712 - accuracy: 0.8113 - val_loss: 0.5081 - val_accuracy: 0.7640\n",
      "Epoch 400/500\n",
      "355/355 [==============================] - 0s 80us/step - loss: 0.3825 - accuracy: 0.7944 - val_loss: 0.4913 - val_accuracy: 0.7865\n",
      "Epoch 401/500\n",
      "355/355 [==============================] - 0s 92us/step - loss: 0.4124 - accuracy: 0.8000 - val_loss: 0.4852 - val_accuracy: 0.7753\n",
      "Epoch 402/500\n",
      "355/355 [==============================] - 0s 74us/step - loss: 0.3920 - accuracy: 0.7915 - val_loss: 0.5121 - val_accuracy: 0.7191\n",
      "Epoch 403/500\n",
      "355/355 [==============================] - 0s 92us/step - loss: 0.4098 - accuracy: 0.7944 - val_loss: 0.5319 - val_accuracy: 0.7416\n",
      "Epoch 404/500\n",
      "355/355 [==============================] - 0s 90us/step - loss: 0.4503 - accuracy: 0.7577 - val_loss: 0.5175 - val_accuracy: 0.7528\n",
      "Epoch 405/500\n",
      "355/355 [==============================] - 0s 98us/step - loss: 0.3892 - accuracy: 0.7944 - val_loss: 0.4841 - val_accuracy: 0.7753\n",
      "Epoch 406/500\n",
      "355/355 [==============================] - 0s 86us/step - loss: 0.4034 - accuracy: 0.8141 - val_loss: 0.4907 - val_accuracy: 0.7753\n",
      "Epoch 407/500\n",
      "355/355 [==============================] - 0s 85us/step - loss: 0.3827 - accuracy: 0.8197 - val_loss: 0.4816 - val_accuracy: 0.7640\n",
      "Epoch 408/500\n",
      "355/355 [==============================] - 0s 116us/step - loss: 0.3921 - accuracy: 0.8282 - val_loss: 0.4868 - val_accuracy: 0.7528\n",
      "Epoch 409/500\n",
      "355/355 [==============================] - 0s 139us/step - loss: 0.3774 - accuracy: 0.8141 - val_loss: 0.4902 - val_accuracy: 0.7753\n",
      "Epoch 410/500\n",
      "355/355 [==============================] - 0s 93us/step - loss: 0.4017 - accuracy: 0.7972 - val_loss: 0.4821 - val_accuracy: 0.7753\n",
      "Epoch 411/500\n",
      "355/355 [==============================] - 0s 110us/step - loss: 0.3814 - accuracy: 0.8085 - val_loss: 0.5119 - val_accuracy: 0.7303\n",
      "Epoch 412/500\n",
      "355/355 [==============================] - 0s 98us/step - loss: 0.4001 - accuracy: 0.8028 - val_loss: 0.4725 - val_accuracy: 0.7865\n",
      "Epoch 413/500\n",
      "355/355 [==============================] - 0s 104us/step - loss: 0.3960 - accuracy: 0.8056 - val_loss: 0.4697 - val_accuracy: 0.7753\n",
      "Epoch 414/500\n",
      "355/355 [==============================] - 0s 111us/step - loss: 0.3923 - accuracy: 0.7803 - val_loss: 0.4778 - val_accuracy: 0.7753\n",
      "Epoch 415/500\n",
      "355/355 [==============================] - 0s 114us/step - loss: 0.3688 - accuracy: 0.8113 - val_loss: 0.4767 - val_accuracy: 0.7753\n",
      "Epoch 416/500\n",
      "355/355 [==============================] - 0s 119us/step - loss: 0.3911 - accuracy: 0.8113 - val_loss: 0.4787 - val_accuracy: 0.7640\n",
      "Epoch 417/500\n",
      "355/355 [==============================] - 0s 96us/step - loss: 0.3730 - accuracy: 0.8197 - val_loss: 0.4769 - val_accuracy: 0.7753\n",
      "Epoch 418/500\n",
      "355/355 [==============================] - 0s 118us/step - loss: 0.3690 - accuracy: 0.8141 - val_loss: 0.4911 - val_accuracy: 0.7640\n",
      "Epoch 419/500\n",
      "355/355 [==============================] - 0s 101us/step - loss: 0.3767 - accuracy: 0.8113 - val_loss: 0.4758 - val_accuracy: 0.7978\n",
      "Epoch 420/500\n",
      "355/355 [==============================] - 0s 107us/step - loss: 0.3860 - accuracy: 0.7718 - val_loss: 0.4861 - val_accuracy: 0.7753\n",
      "Epoch 421/500\n",
      "355/355 [==============================] - 0s 144us/step - loss: 0.3883 - accuracy: 0.8000 - val_loss: 0.4863 - val_accuracy: 0.7978\n",
      "Epoch 422/500\n",
      "355/355 [==============================] - 0s 99us/step - loss: 0.3907 - accuracy: 0.8254 - val_loss: 0.4977 - val_accuracy: 0.7640\n",
      "Epoch 423/500\n",
      "355/355 [==============================] - 0s 118us/step - loss: 0.3814 - accuracy: 0.8113 - val_loss: 0.4733 - val_accuracy: 0.7753\n",
      "Epoch 424/500\n",
      "355/355 [==============================] - 0s 104us/step - loss: 0.3776 - accuracy: 0.8282 - val_loss: 0.4778 - val_accuracy: 0.7753\n",
      "Epoch 425/500\n",
      "355/355 [==============================] - 0s 98us/step - loss: 0.3835 - accuracy: 0.8028 - val_loss: 0.4748 - val_accuracy: 0.7640\n",
      "Epoch 426/500\n",
      "355/355 [==============================] - 0s 84us/step - loss: 0.3707 - accuracy: 0.8169 - val_loss: 0.4678 - val_accuracy: 0.7640\n",
      "Epoch 427/500\n",
      "355/355 [==============================] - 0s 99us/step - loss: 0.3501 - accuracy: 0.8366 - val_loss: 0.4788 - val_accuracy: 0.7753\n",
      "Epoch 428/500\n",
      "355/355 [==============================] - 0s 101us/step - loss: 0.3683 - accuracy: 0.8197 - val_loss: 0.4772 - val_accuracy: 0.7865\n",
      "Epoch 429/500\n",
      "355/355 [==============================] - 0s 120us/step - loss: 0.3664 - accuracy: 0.8225 - val_loss: 0.4931 - val_accuracy: 0.7640\n",
      "Epoch 430/500\n",
      "355/355 [==============================] - 0s 98us/step - loss: 0.4025 - accuracy: 0.8028 - val_loss: 0.4750 - val_accuracy: 0.7865\n",
      "Epoch 431/500\n",
      "355/355 [==============================] - 0s 93us/step - loss: 0.3897 - accuracy: 0.8085 - val_loss: 0.4727 - val_accuracy: 0.7528\n",
      "Epoch 432/500\n",
      "355/355 [==============================] - 0s 106us/step - loss: 0.3770 - accuracy: 0.8113 - val_loss: 0.4797 - val_accuracy: 0.7865\n",
      "Epoch 433/500\n",
      "355/355 [==============================] - 0s 130us/step - loss: 0.3796 - accuracy: 0.8169 - val_loss: 0.4725 - val_accuracy: 0.7528\n",
      "Epoch 434/500\n",
      "355/355 [==============================] - 0s 106us/step - loss: 0.3792 - accuracy: 0.8197 - val_loss: 0.4825 - val_accuracy: 0.7640\n",
      "Epoch 435/500\n",
      "355/355 [==============================] - 0s 101us/step - loss: 0.3849 - accuracy: 0.7972 - val_loss: 0.4590 - val_accuracy: 0.7753\n",
      "Epoch 436/500\n",
      "355/355 [==============================] - 0s 81us/step - loss: 0.3772 - accuracy: 0.8282 - val_loss: 0.4713 - val_accuracy: 0.8090\n",
      "Epoch 437/500\n",
      "355/355 [==============================] - 0s 105us/step - loss: 0.3988 - accuracy: 0.8028 - val_loss: 0.4775 - val_accuracy: 0.7865\n",
      "Epoch 438/500\n",
      "355/355 [==============================] - 0s 97us/step - loss: 0.3963 - accuracy: 0.8056 - val_loss: 0.4851 - val_accuracy: 0.7753\n",
      "Epoch 439/500\n",
      "355/355 [==============================] - 0s 93us/step - loss: 0.3892 - accuracy: 0.8028 - val_loss: 0.4988 - val_accuracy: 0.7753\n",
      "Epoch 440/500\n",
      "355/355 [==============================] - 0s 98us/step - loss: 0.3859 - accuracy: 0.8056 - val_loss: 0.4813 - val_accuracy: 0.7640\n",
      "Epoch 441/500\n",
      "355/355 [==============================] - 0s 97us/step - loss: 0.3805 - accuracy: 0.8169 - val_loss: 0.4785 - val_accuracy: 0.7753\n",
      "Epoch 442/500\n",
      "355/355 [==============================] - 0s 116us/step - loss: 0.3918 - accuracy: 0.8254 - val_loss: 0.4722 - val_accuracy: 0.7865\n",
      "Epoch 443/500\n",
      "355/355 [==============================] - 0s 93us/step - loss: 0.3595 - accuracy: 0.8225 - val_loss: 0.4698 - val_accuracy: 0.7753\n",
      "Epoch 444/500\n",
      "355/355 [==============================] - 0s 109us/step - loss: 0.3759 - accuracy: 0.8113 - val_loss: 0.4755 - val_accuracy: 0.7753\n",
      "Epoch 445/500\n",
      "355/355 [==============================] - 0s 100us/step - loss: 0.3830 - accuracy: 0.7944 - val_loss: 0.4818 - val_accuracy: 0.7753\n",
      "Epoch 446/500\n",
      "355/355 [==============================] - 0s 107us/step - loss: 0.3796 - accuracy: 0.8113 - val_loss: 0.4814 - val_accuracy: 0.7753\n",
      "Epoch 447/500\n",
      "355/355 [==============================] - 0s 99us/step - loss: 0.3880 - accuracy: 0.8282 - val_loss: 0.4903 - val_accuracy: 0.7640\n",
      "Epoch 448/500\n",
      "355/355 [==============================] - 0s 103us/step - loss: 0.3755 - accuracy: 0.8507 - val_loss: 0.5000 - val_accuracy: 0.7528\n",
      "Epoch 449/500\n"
     ]
    },
    {
     "name": "stdout",
     "output_type": "stream",
     "text": [
      "355/355 [==============================] - 0s 90us/step - loss: 0.3916 - accuracy: 0.7972 - val_loss: 0.4770 - val_accuracy: 0.7753\n",
      "Epoch 450/500\n",
      "355/355 [==============================] - 0s 97us/step - loss: 0.4156 - accuracy: 0.7887 - val_loss: 0.4772 - val_accuracy: 0.7640\n",
      "Epoch 451/500\n",
      "355/355 [==============================] - 0s 88us/step - loss: 0.3919 - accuracy: 0.7915 - val_loss: 0.5006 - val_accuracy: 0.7753\n",
      "Epoch 452/500\n",
      "355/355 [==============================] - 0s 77us/step - loss: 0.3980 - accuracy: 0.7831 - val_loss: 0.4908 - val_accuracy: 0.7416\n",
      "Epoch 453/500\n",
      "355/355 [==============================] - 0s 85us/step - loss: 0.3731 - accuracy: 0.8197 - val_loss: 0.4891 - val_accuracy: 0.7528\n",
      "Epoch 454/500\n",
      "355/355 [==============================] - 0s 112us/step - loss: 0.3657 - accuracy: 0.8197 - val_loss: 0.4708 - val_accuracy: 0.7753\n",
      "Epoch 455/500\n",
      "355/355 [==============================] - 0s 110us/step - loss: 0.3782 - accuracy: 0.8085 - val_loss: 0.4662 - val_accuracy: 0.8090\n",
      "Epoch 456/500\n",
      "355/355 [==============================] - 0s 91us/step - loss: 0.3750 - accuracy: 0.8085 - val_loss: 0.4841 - val_accuracy: 0.7865\n",
      "Epoch 457/500\n",
      "355/355 [==============================] - 0s 92us/step - loss: 0.3622 - accuracy: 0.8197 - val_loss: 0.5055 - val_accuracy: 0.7528\n",
      "Epoch 458/500\n",
      "355/355 [==============================] - 0s 109us/step - loss: 0.3718 - accuracy: 0.8085 - val_loss: 0.4894 - val_accuracy: 0.7865\n",
      "Epoch 459/500\n",
      "355/355 [==============================] - 0s 110us/step - loss: 0.3842 - accuracy: 0.8000 - val_loss: 0.4772 - val_accuracy: 0.7865\n",
      "Epoch 460/500\n",
      "355/355 [==============================] - 0s 92us/step - loss: 0.3952 - accuracy: 0.8056 - val_loss: 0.4886 - val_accuracy: 0.7528\n",
      "Epoch 461/500\n",
      "355/355 [==============================] - 0s 102us/step - loss: 0.3747 - accuracy: 0.8282 - val_loss: 0.4914 - val_accuracy: 0.7753\n",
      "Epoch 462/500\n",
      "355/355 [==============================] - 0s 91us/step - loss: 0.3844 - accuracy: 0.8000 - val_loss: 0.4826 - val_accuracy: 0.7753\n",
      "Epoch 463/500\n",
      "355/355 [==============================] - 0s 93us/step - loss: 0.3639 - accuracy: 0.8310 - val_loss: 0.4981 - val_accuracy: 0.7753\n",
      "Epoch 464/500\n",
      "355/355 [==============================] - 0s 101us/step - loss: 0.3781 - accuracy: 0.8169 - val_loss: 0.5113 - val_accuracy: 0.7753\n",
      "Epoch 465/500\n",
      "355/355 [==============================] - 0s 97us/step - loss: 0.3773 - accuracy: 0.8197 - val_loss: 0.4934 - val_accuracy: 0.7640\n",
      "Epoch 466/500\n",
      "355/355 [==============================] - 0s 90us/step - loss: 0.3519 - accuracy: 0.8394 - val_loss: 0.4854 - val_accuracy: 0.7865\n",
      "Epoch 467/500\n",
      "355/355 [==============================] - 0s 91us/step - loss: 0.3610 - accuracy: 0.8225 - val_loss: 0.5172 - val_accuracy: 0.7416\n",
      "Epoch 468/500\n",
      "355/355 [==============================] - 0s 95us/step - loss: 0.3698 - accuracy: 0.7972 - val_loss: 0.4896 - val_accuracy: 0.7865\n",
      "Epoch 469/500\n",
      "355/355 [==============================] - 0s 99us/step - loss: 0.3776 - accuracy: 0.8000 - val_loss: 0.4824 - val_accuracy: 0.7865\n",
      "Epoch 470/500\n",
      "355/355 [==============================] - 0s 101us/step - loss: 0.3795 - accuracy: 0.7972 - val_loss: 0.5044 - val_accuracy: 0.7753\n",
      "Epoch 471/500\n",
      "355/355 [==============================] - 0s 93us/step - loss: 0.3851 - accuracy: 0.8028 - val_loss: 0.4953 - val_accuracy: 0.7528\n",
      "Epoch 472/500\n",
      "355/355 [==============================] - 0s 89us/step - loss: 0.3573 - accuracy: 0.8141 - val_loss: 0.5141 - val_accuracy: 0.7640\n",
      "Epoch 473/500\n",
      "355/355 [==============================] - 0s 82us/step - loss: 0.3511 - accuracy: 0.8225 - val_loss: 0.5232 - val_accuracy: 0.7753\n",
      "Epoch 474/500\n",
      "355/355 [==============================] - 0s 91us/step - loss: 0.3648 - accuracy: 0.8028 - val_loss: 0.5086 - val_accuracy: 0.7640\n",
      "Epoch 475/500\n",
      "355/355 [==============================] - 0s 81us/step - loss: 0.3633 - accuracy: 0.8169 - val_loss: 0.4900 - val_accuracy: 0.7753\n",
      "Epoch 476/500\n",
      "355/355 [==============================] - 0s 128us/step - loss: 0.3707 - accuracy: 0.8141 - val_loss: 0.4806 - val_accuracy: 0.7640\n",
      "Epoch 477/500\n",
      "355/355 [==============================] - 0s 99us/step - loss: 0.3731 - accuracy: 0.8169 - val_loss: 0.4880 - val_accuracy: 0.7753\n",
      "Epoch 478/500\n",
      "355/355 [==============================] - 0s 85us/step - loss: 0.3611 - accuracy: 0.8085 - val_loss: 0.4887 - val_accuracy: 0.8090\n",
      "Epoch 479/500\n",
      "355/355 [==============================] - 0s 83us/step - loss: 0.3659 - accuracy: 0.8225 - val_loss: 0.4827 - val_accuracy: 0.7640\n",
      "Epoch 480/500\n",
      "355/355 [==============================] - 0s 89us/step - loss: 0.3821 - accuracy: 0.7915 - val_loss: 0.5191 - val_accuracy: 0.7528\n",
      "Epoch 481/500\n",
      "355/355 [==============================] - 0s 90us/step - loss: 0.3778 - accuracy: 0.8169 - val_loss: 0.4928 - val_accuracy: 0.7978\n",
      "Epoch 482/500\n",
      "355/355 [==============================] - 0s 83us/step - loss: 0.3620 - accuracy: 0.8225 - val_loss: 0.4904 - val_accuracy: 0.7753\n",
      "Epoch 483/500\n",
      "355/355 [==============================] - 0s 91us/step - loss: 0.3548 - accuracy: 0.8113 - val_loss: 0.5037 - val_accuracy: 0.7753\n",
      "Epoch 484/500\n",
      "355/355 [==============================] - 0s 85us/step - loss: 0.3525 - accuracy: 0.8169 - val_loss: 0.4989 - val_accuracy: 0.7753\n",
      "Epoch 485/500\n",
      "355/355 [==============================] - 0s 85us/step - loss: 0.3715 - accuracy: 0.8225 - val_loss: 0.4900 - val_accuracy: 0.7640\n",
      "Epoch 486/500\n",
      "355/355 [==============================] - 0s 97us/step - loss: 0.3529 - accuracy: 0.8169 - val_loss: 0.4957 - val_accuracy: 0.7640\n",
      "Epoch 487/500\n",
      "355/355 [==============================] - 0s 105us/step - loss: 0.3715 - accuracy: 0.8085 - val_loss: 0.4880 - val_accuracy: 0.8090\n",
      "Epoch 488/500\n",
      "355/355 [==============================] - 0s 113us/step - loss: 0.3993 - accuracy: 0.8000 - val_loss: 0.4822 - val_accuracy: 0.7640\n",
      "Epoch 489/500\n",
      "355/355 [==============================] - 0s 91us/step - loss: 0.4151 - accuracy: 0.7972 - val_loss: 0.4817 - val_accuracy: 0.7865\n",
      "Epoch 490/500\n",
      "355/355 [==============================] - 0s 90us/step - loss: 0.3809 - accuracy: 0.8225 - val_loss: 0.4827 - val_accuracy: 0.7865\n",
      "Epoch 491/500\n",
      "355/355 [==============================] - 0s 96us/step - loss: 0.3748 - accuracy: 0.8113 - val_loss: 0.4835 - val_accuracy: 0.7753\n",
      "Epoch 492/500\n",
      "355/355 [==============================] - 0s 85us/step - loss: 0.3701 - accuracy: 0.8225 - val_loss: 0.4970 - val_accuracy: 0.7640\n",
      "Epoch 493/500\n",
      "355/355 [==============================] - 0s 94us/step - loss: 0.3557 - accuracy: 0.8000 - val_loss: 0.4808 - val_accuracy: 0.7753\n",
      "Epoch 494/500\n",
      "355/355 [==============================] - 0s 90us/step - loss: 0.3716 - accuracy: 0.8282 - val_loss: 0.5044 - val_accuracy: 0.7528\n",
      "Epoch 495/500\n",
      "355/355 [==============================] - 0s 84us/step - loss: 0.3654 - accuracy: 0.8028 - val_loss: 0.5010 - val_accuracy: 0.7753\n",
      "Epoch 496/500\n",
      "355/355 [==============================] - 0s 87us/step - loss: 0.3691 - accuracy: 0.8169 - val_loss: 0.5137 - val_accuracy: 0.7753\n",
      "Epoch 497/500\n",
      "355/355 [==============================] - 0s 97us/step - loss: 0.3712 - accuracy: 0.8141 - val_loss: 0.4964 - val_accuracy: 0.7753\n",
      "Epoch 498/500\n",
      "355/355 [==============================] - 0s 111us/step - loss: 0.3623 - accuracy: 0.8282 - val_loss: 0.5002 - val_accuracy: 0.7978\n",
      "Epoch 499/500\n",
      "355/355 [==============================] - 0s 98us/step - loss: 0.3492 - accuracy: 0.8113 - val_loss: 0.5094 - val_accuracy: 0.7865\n",
      "Epoch 500/500\n",
      "355/355 [==============================] - 0s 99us/step - loss: 0.3478 - accuracy: 0.8310 - val_loss: 0.5103 - val_accuracy: 0.7753\n"
     ]
    }
   ],
   "source": [
    "hist=model.fit(X_train1,y_train1,epochs=500,validation_split=0.2,verbose=1)"
   ]
  },
  {
   "cell_type": "code",
   "execution_count": 75,
   "metadata": {},
   "outputs": [
    {
     "data": {
      "image/png": "[encoded data removed]",
      "text/plain": [
       "<Figure size 432x288 with 1 Axes>"
      ]
     },
     "metadata": {
      "needs_background": "light"
     },
     "output_type": "display_data"
    },
    {
     "data": {
      "image/png": "[encoded data removed]",
      "text/plain": [
       "<Figure size 432x288 with 1 Axes>"
      ]
     },
     "metadata": {
      "needs_background": "light"
     },
     "output_type": "display_data"
    }
   ],
   "source": [
    "plt.plot(hist.history[\"accuracy\"])\n",
    "plt.plot(hist.history[\"val_accuracy\"])\n",
    "plt.title(\"model_accuracy\")\n",
    "plt.ylabel(\"accuracy\")\n",
    "plt.xlabel(\"epoch\")\n",
    "plt.legend([\"train\",\"test\"],loc=\"upper left\")\n",
    "plt.show()\n",
    "\n",
    "\n",
    "plt.plot(hist.history[\"loss\"])\n",
    "plt.plot(hist.history[\"val_loss\"])\n",
    "plt.title(\"model_accuracy\")\n",
    "plt.ylabel(\"accuracy\")\n",
    "plt.xlabel(\"epoch\")\n",
    "plt.legend([\"train\",\"test\"],loc=\"upper left\")\n",
    "plt.show()"
   ]
  },
  {
   "cell_type": "code",
   "execution_count": 76,
   "metadata": {},
   "outputs": [
    {
     "name": "stdout",
     "output_type": "stream",
     "text": [
      "112/112 [==============================] - 0s 49us/step\n"
     ]
    }
   ],
   "source": [
    "score=model.evaluate(X_test,y_test,verbose=1)"
   ]
  },
  {
   "cell_type": "code",
   "execution_count": 77,
   "metadata": {},
   "outputs": [
    {
     "data": {
      "text/plain": [
       "[0.5832622476986477, 0.6964285969734192]"
      ]
     },
     "execution_count": 77,
     "metadata": {},
     "output_type": "execute_result"
    }
   ],
   "source": [
    "score"
   ]
  },
  {
   "cell_type": "code",
   "execution_count": 78,
   "metadata": {},
   "outputs": [
    {
     "name": "stdout",
     "output_type": "stream",
     "text": [
      "Test score 0.6964285969734192\n"
     ]
    }
   ],
   "source": [
    "print(\"Test score\",score[1])"
   ]
  },
  {
   "cell_type": "markdown",
   "metadata": {},
   "source": [
    "# New data\n"
   ]
  },
  {
   "cell_type": "code",
   "execution_count": 128,
   "metadata": {},
   "outputs": [],
   "source": [
    "df1=pd.read_csv(\"datasets_180_408_data.csv\")"
   ]
  },
  {
   "cell_type": "code",
   "execution_count": 129,
   "metadata": {},
   "outputs": [
    {
     "data": {
      "text/plain": [
       "Index(['id', 'diagnosis', 'radius_mean', 'texture_mean', 'perimeter_mean',\n",
       "       'area_mean', 'smoothness_mean', 'compactness_mean', 'concavity_mean',\n",
       "       'concave points_mean', 'symmetry_mean', 'fractal_dimension_mean',\n",
       "       'radius_se', 'texture_se', 'perimeter_se', 'area_se', 'smoothness_se',\n",
       "       'compactness_se', 'concavity_se', 'concave points_se', 'symmetry_se',\n",
       "       'fractal_dimension_se', 'radius_worst', 'texture_worst',\n",
       "       'perimeter_worst', 'area_worst', 'smoothness_worst',\n",
       "       'compactness_worst', 'concavity_worst', 'concave points_worst',\n",
       "       'symmetry_worst', 'fractal_dimension_worst', 'Unnamed: 32'],\n",
       "      dtype='object')"
      ]
     },
     "execution_count": 129,
     "metadata": {},
     "output_type": "execute_result"
    }
   ],
   "source": [
    "df1.columns"
   ]
  },
  {
   "cell_type": "code",
   "execution_count": null,
   "metadata": {},
   "outputs": [],
   "source": []
  },
  {
   "cell_type": "markdown",
   "metadata": {},
   "source": [
    "# analysis/visualization"
   ]
  },
  {
   "cell_type": "code",
   "execution_count": 130,
   "metadata": {},
   "outputs": [],
   "source": [
    "df1.drop(['Unnamed: 32',\"id\"],axis=1,inplace=True)"
   ]
  },
  {
   "cell_type": "code",
   "execution_count": 131,
   "metadata": {},
   "outputs": [
    {
     "name": "stdout",
     "output_type": "stream",
     "text": [
      "<class 'pandas.core.frame.DataFrame'>\n",
      "RangeIndex: 569 entries, 0 to 568\n",
      "Data columns (total 31 columns):\n",
      " #   Column                   Non-Null Count  Dtype  \n",
      "---  ------                   --------------  -----  \n",
      " 0   diagnosis                569 non-null    object \n",
      " 1   radius_mean              569 non-null    float64\n",
      " 2   texture_mean             569 non-null    float64\n",
      " 3   perimeter_mean           569 non-null    float64\n",
      " 4   area_mean                569 non-null    float64\n",
      " 5   smoothness_mean          569 non-null    float64\n",
      " 6   compactness_mean         569 non-null    float64\n",
      " 7   concavity_mean           569 non-null    float64\n",
      " 8   concave points_mean      569 non-null    float64\n",
      " 9   symmetry_mean            569 non-null    float64\n",
      " 10  fractal_dimension_mean   569 non-null    float64\n",
      " 11  radius_se                569 non-null    float64\n",
      " 12  texture_se               569 non-null    float64\n",
      " 13  perimeter_se             569 non-null    float64\n",
      " 14  area_se                  569 non-null    float64\n",
      " 15  smoothness_se            569 non-null    float64\n",
      " 16  compactness_se           569 non-null    float64\n",
      " 17  concavity_se             569 non-null    float64\n",
      " 18  concave points_se        569 non-null    float64\n",
      " 19  symmetry_se              569 non-null    float64\n",
      " 20  fractal_dimension_se     569 non-null    float64\n",
      " 21  radius_worst             569 non-null    float64\n",
      " 22  texture_worst            569 non-null    float64\n",
      " 23  perimeter_worst          569 non-null    float64\n",
      " 24  area_worst               569 non-null    float64\n",
      " 25  smoothness_worst         569 non-null    float64\n",
      " 26  compactness_worst        569 non-null    float64\n",
      " 27  concavity_worst          569 non-null    float64\n",
      " 28  concave points_worst     569 non-null    float64\n",
      " 29  symmetry_worst           569 non-null    float64\n",
      " 30  fractal_dimension_worst  569 non-null    float64\n",
      "dtypes: float64(30), object(1)\n",
      "memory usage: 137.9+ KB\n"
     ]
    }
   ],
   "source": [
    "df1.info()"
   ]
  },
  {
   "cell_type": "code",
   "execution_count": 142,
   "metadata": {},
   "outputs": [
    {
     "data": {
      "image/png": "[encoded data removed]",
      "text/plain": [
       "<Figure size 415.5x360 with 6 Axes>"
      ]
     },
     "metadata": {
      "needs_background": "light"
     },
     "output_type": "display_data"
    }
   ],
   "source": [
    "sns.pairplot(df1.iloc[:,0:3],hue=\"diagnosis\");"
   ]
  },
  {
   "cell_type": "markdown",
   "metadata": {},
   "source": [
    "corelation map"
   ]
  },
  {
   "cell_type": "code",
   "execution_count": 145,
   "metadata": {},
   "outputs": [],
   "source": [
    "X=df1.iloc[:,1:31]"
   ]
  },
  {
   "cell_type": "code",
   "execution_count": 148,
   "metadata": {},
   "outputs": [
    {
     "data": {
      "text/plain": [
       "<matplotlib.axes._subplots.AxesSubplot at 0x7f5164541e90>"
      ]
     },
     "execution_count": 148,
     "metadata": {},
     "output_type": "execute_result"
    },
    {
     "data": {
      "image/png": "[encoded data removed]",
      "text/plain": [
       "<Figure size 1440x1440 with 2 Axes>"
      ]
     },
     "metadata": {
      "needs_background": "light"
     },
     "output_type": "display_data"
    }
   ],
   "source": [
    "f,ax=plt.subplots(figsize=(20,20))\n",
    "sns.heatmap(X.corr(),annot=True,linewidths=.5,fmt='.1f',ax=ax)"
   ]
  },
  {
   "cell_type": "code",
   "execution_count": null,
   "metadata": {},
   "outputs": [],
   "source": []
  },
  {
   "cell_type": "code",
   "execution_count": null,
   "metadata": {},
   "outputs": [],
   "source": []
  },
  {
   "cell_type": "code",
   "execution_count": null,
   "metadata": {},
   "outputs": [],
   "source": []
  },
  {
   "cell_type": "code",
   "execution_count": 83,
   "metadata": {},
   "outputs": [],
   "source": []
  },
  {
   "cell_type": "code",
   "execution_count": 84,
   "metadata": {},
   "outputs": [
    {
     "name": "stdout",
     "output_type": "stream",
     "text": [
      "<class 'pandas.core.frame.DataFrame'>\n",
      "RangeIndex: 569 entries, 0 to 568\n",
      "Data columns (total 31 columns):\n",
      " #   Column                   Non-Null Count  Dtype  \n",
      "---  ------                   --------------  -----  \n",
      " 0   diagnosis                569 non-null    object \n",
      " 1   radius_mean              569 non-null    float64\n",
      " 2   texture_mean             569 non-null    float64\n",
      " 3   perimeter_mean           569 non-null    float64\n",
      " 4   area_mean                569 non-null    float64\n",
      " 5   smoothness_mean          569 non-null    float64\n",
      " 6   compactness_mean         569 non-null    float64\n",
      " 7   concavity_mean           569 non-null    float64\n",
      " 8   concave points_mean      569 non-null    float64\n",
      " 9   symmetry_mean            569 non-null    float64\n",
      " 10  fractal_dimension_mean   569 non-null    float64\n",
      " 11  radius_se                569 non-null    float64\n",
      " 12  texture_se               569 non-null    float64\n",
      " 13  perimeter_se             569 non-null    float64\n",
      " 14  area_se                  569 non-null    float64\n",
      " 15  smoothness_se            569 non-null    float64\n",
      " 16  compactness_se           569 non-null    float64\n",
      " 17  concavity_se             569 non-null    float64\n",
      " 18  concave points_se        569 non-null    float64\n",
      " 19  symmetry_se              569 non-null    float64\n",
      " 20  fractal_dimension_se     569 non-null    float64\n",
      " 21  radius_worst             569 non-null    float64\n",
      " 22  texture_worst            569 non-null    float64\n",
      " 23  perimeter_worst          569 non-null    float64\n",
      " 24  area_worst               569 non-null    float64\n",
      " 25  smoothness_worst         569 non-null    float64\n",
      " 26  compactness_worst        569 non-null    float64\n",
      " 27  concavity_worst          569 non-null    float64\n",
      " 28  concave points_worst     569 non-null    float64\n",
      " 29  symmetry_worst           569 non-null    float64\n",
      " 30  fractal_dimension_worst  569 non-null    float64\n",
      "dtypes: float64(30), object(1)\n",
      "memory usage: 137.9+ KB\n"
     ]
    }
   ],
   "source": [
    "df1.info()"
   ]
  },
  {
   "cell_type": "code",
   "execution_count": 91,
   "metadata": {},
   "outputs": [],
   "source": [
    "X=df1.iloc[:,1:31]"
   ]
  },
  {
   "cell_type": "code",
   "execution_count": 93,
   "metadata": {},
   "outputs": [
    {
     "data": {
      "text/plain": [
       "(569, 30)"
      ]
     },
     "execution_count": 93,
     "metadata": {},
     "output_type": "execute_result"
    }
   ],
   "source": [
    "X.shape"
   ]
  },
  {
   "cell_type": "code",
   "execution_count": 152,
   "metadata": {},
   "outputs": [],
   "source": [
    "y=df1.iloc[:,0]"
   ]
  },
  {
   "cell_type": "code",
   "execution_count": 155,
   "metadata": {},
   "outputs": [
    {
     "data": {
      "text/plain": [
       "<matplotlib.axes._subplots.AxesSubplot at 0x7f517cd71090>"
      ]
     },
     "execution_count": 155,
     "metadata": {},
     "output_type": "execute_result"
    },
    {
     "data": {
      "image/png": "[encoded data removed]",
      "text/plain": [
       "<Figure size 432x288 with 1 Axes>"
      ]
     },
     "metadata": {},
     "output_type": "display_data"
    }
   ],
   "source": [
    "y.value_counts().plot(kind=\"pie\")"
   ]
  },
  {
   "cell_type": "code",
   "execution_count": 98,
   "metadata": {},
   "outputs": [],
   "source": [
    "from sklearn.preprocessing import LabelEncoder\n",
    "le=LabelEncoder()"
   ]
  },
  {
   "cell_type": "code",
   "execution_count": 99,
   "metadata": {},
   "outputs": [],
   "source": [
    "y=le.fit_transform(y)"
   ]
  },
  {
   "cell_type": "code",
   "execution_count": 103,
   "metadata": {},
   "outputs": [],
   "source": [
    "y=np.reshape(y,(-1,1))"
   ]
  },
  {
   "cell_type": "code",
   "execution_count": 104,
   "metadata": {},
   "outputs": [],
   "source": [
    "from sklearn.model_selection import train_test_split"
   ]
  },
  {
   "cell_type": "code",
   "execution_count": 105,
   "metadata": {},
   "outputs": [],
   "source": [
    "X_train1,X_test,y_train1,y_test=train_test_split(X,y,test_size=0.20,random_state=111)\n",
    "X_train,X_val,y_train,y_val=train_test_split(X_train1,y_train1,test_size=0.20,random_state=111)"
   ]
  },
  {
   "cell_type": "code",
   "execution_count": 111,
   "metadata": {},
   "outputs": [],
   "source": [
    "from sklearn.svm import SVC\n",
    "from sklearn.neighbors import KNeighborsClassifier\n",
    "from sklearn.linear_model import LogisticRegressionCV"
   ]
  },
  {
   "cell_type": "code",
   "execution_count": 113,
   "metadata": {},
   "outputs": [],
   "source": [
    "svc=SVC()\n",
    "lr=LogisticRegressionCV()\n",
    "knn=KNeighborsClassifier()"
   ]
  },
  {
   "cell_type": "code",
   "execution_count": 114,
   "metadata": {},
   "outputs": [
    {
     "name": "stderr",
     "output_type": "stream",
     "text": [
      "/home/aayushma/anaconda3/lib/python3.7/site-packages/sklearn/utils/validation.py:760: DataConversionWarning: A column-vector y was passed when a 1d array was expected. Please change the shape of y to (n_samples, ), for example using ravel().\n",
      "  y = column_or_1d(y, warn=True)\n",
      "/home/aayushma/anaconda3/lib/python3.7/site-packages/sklearn/utils/validation.py:760: DataConversionWarning: A column-vector y was passed when a 1d array was expected. Please change the shape of y to (n_samples, ), for example using ravel().\n",
      "  y = column_or_1d(y, warn=True)\n",
      "/home/aayushma/anaconda3/lib/python3.7/site-packages/sklearn/linear_model/_logistic.py:940: ConvergenceWarning: lbfgs failed to converge (status=1):\n",
      "STOP: TOTAL NO. of ITERATIONS REACHED LIMIT.\n",
      "\n",
      "Increase the number of iterations (max_iter) or scale the data as shown in:\n",
      "    https://scikit-learn.org/stable/modules/preprocessing.html\n",
      "Please also refer to the documentation for alternative solver options:\n",
      "    https://scikit-learn.org/stable/modules/linear_model.html#logistic-regression\n",
      "  extra_warning_msg=_LOGISTIC_SOLVER_CONVERGENCE_MSG)\n",
      "/home/aayushma/anaconda3/lib/python3.7/site-packages/sklearn/linear_model/_logistic.py:940: ConvergenceWarning: lbfgs failed to converge (status=1):\n",
      "STOP: TOTAL NO. of ITERATIONS REACHED LIMIT.\n",
      "\n",
      "Increase the number of iterations (max_iter) or scale the data as shown in:\n",
      "    https://scikit-learn.org/stable/modules/preprocessing.html\n",
      "Please also refer to the documentation for alternative solver options:\n",
      "    https://scikit-learn.org/stable/modules/linear_model.html#logistic-regression\n",
      "  extra_warning_msg=_LOGISTIC_SOLVER_CONVERGENCE_MSG)\n",
      "/home/aayushma/anaconda3/lib/python3.7/site-packages/sklearn/linear_model/_logistic.py:940: ConvergenceWarning: lbfgs failed to converge (status=1):\n",
      "STOP: TOTAL NO. of ITERATIONS REACHED LIMIT.\n",
      "\n",
      "Increase the number of iterations (max_iter) or scale the data as shown in:\n",
      "    https://scikit-learn.org/stable/modules/preprocessing.html\n",
      "Please also refer to the documentation for alternative solver options:\n",
      "    https://scikit-learn.org/stable/modules/linear_model.html#logistic-regression\n",
      "  extra_warning_msg=_LOGISTIC_SOLVER_CONVERGENCE_MSG)\n",
      "/home/aayushma/anaconda3/lib/python3.7/site-packages/sklearn/linear_model/_logistic.py:940: ConvergenceWarning: lbfgs failed to converge (status=1):\n",
      "STOP: TOTAL NO. of ITERATIONS REACHED LIMIT.\n",
      "\n",
      "Increase the number of iterations (max_iter) or scale the data as shown in:\n",
      "    https://scikit-learn.org/stable/modules/preprocessing.html\n",
      "Please also refer to the documentation for alternative solver options:\n",
      "    https://scikit-learn.org/stable/modules/linear_model.html#logistic-regression\n",
      "  extra_warning_msg=_LOGISTIC_SOLVER_CONVERGENCE_MSG)\n",
      "/home/aayushma/anaconda3/lib/python3.7/site-packages/sklearn/linear_model/_logistic.py:940: ConvergenceWarning: lbfgs failed to converge (status=1):\n",
      "STOP: TOTAL NO. of ITERATIONS REACHED LIMIT.\n",
      "\n",
      "Increase the number of iterations (max_iter) or scale the data as shown in:\n",
      "    https://scikit-learn.org/stable/modules/preprocessing.html\n",
      "Please also refer to the documentation for alternative solver options:\n",
      "    https://scikit-learn.org/stable/modules/linear_model.html#logistic-regression\n",
      "  extra_warning_msg=_LOGISTIC_SOLVER_CONVERGENCE_MSG)\n",
      "/home/aayushma/anaconda3/lib/python3.7/site-packages/sklearn/linear_model/_logistic.py:940: ConvergenceWarning: lbfgs failed to converge (status=1):\n",
      "STOP: TOTAL NO. of ITERATIONS REACHED LIMIT.\n",
      "\n",
      "Increase the number of iterations (max_iter) or scale the data as shown in:\n",
      "    https://scikit-learn.org/stable/modules/preprocessing.html\n",
      "Please also refer to the documentation for alternative solver options:\n",
      "    https://scikit-learn.org/stable/modules/linear_model.html#logistic-regression\n",
      "  extra_warning_msg=_LOGISTIC_SOLVER_CONVERGENCE_MSG)\n",
      "/home/aayushma/anaconda3/lib/python3.7/site-packages/sklearn/linear_model/_logistic.py:940: ConvergenceWarning: lbfgs failed to converge (status=1):\n",
      "STOP: TOTAL NO. of ITERATIONS REACHED LIMIT.\n",
      "\n",
      "Increase the number of iterations (max_iter) or scale the data as shown in:\n",
      "    https://scikit-learn.org/stable/modules/preprocessing.html\n",
      "Please also refer to the documentation for alternative solver options:\n",
      "    https://scikit-learn.org/stable/modules/linear_model.html#logistic-regression\n",
      "  extra_warning_msg=_LOGISTIC_SOLVER_CONVERGENCE_MSG)\n",
      "/home/aayushma/anaconda3/lib/python3.7/site-packages/sklearn/linear_model/_logistic.py:940: ConvergenceWarning: lbfgs failed to converge (status=1):\n",
      "STOP: TOTAL NO. of ITERATIONS REACHED LIMIT.\n",
      "\n",
      "Increase the number of iterations (max_iter) or scale the data as shown in:\n",
      "    https://scikit-learn.org/stable/modules/preprocessing.html\n",
      "Please also refer to the documentation for alternative solver options:\n",
      "    https://scikit-learn.org/stable/modules/linear_model.html#logistic-regression\n",
      "  extra_warning_msg=_LOGISTIC_SOLVER_CONVERGENCE_MSG)\n",
      "/home/aayushma/anaconda3/lib/python3.7/site-packages/sklearn/linear_model/_logistic.py:940: ConvergenceWarning: lbfgs failed to converge (status=1):\n",
      "STOP: TOTAL NO. of ITERATIONS REACHED LIMIT.\n",
      "\n",
      "Increase the number of iterations (max_iter) or scale the data as shown in:\n",
      "    https://scikit-learn.org/stable/modules/preprocessing.html\n",
      "Please also refer to the documentation for alternative solver options:\n",
      "    https://scikit-learn.org/stable/modules/linear_model.html#logistic-regression\n",
      "  extra_warning_msg=_LOGISTIC_SOLVER_CONVERGENCE_MSG)\n",
      "/home/aayushma/anaconda3/lib/python3.7/site-packages/sklearn/linear_model/_logistic.py:940: ConvergenceWarning: lbfgs failed to converge (status=1):\n",
      "STOP: TOTAL NO. of ITERATIONS REACHED LIMIT.\n",
      "\n",
      "Increase the number of iterations (max_iter) or scale the data as shown in:\n",
      "    https://scikit-learn.org/stable/modules/preprocessing.html\n",
      "Please also refer to the documentation for alternative solver options:\n",
      "    https://scikit-learn.org/stable/modules/linear_model.html#logistic-regression\n",
      "  extra_warning_msg=_LOGISTIC_SOLVER_CONVERGENCE_MSG)\n",
      "/home/aayushma/anaconda3/lib/python3.7/site-packages/sklearn/linear_model/_logistic.py:940: ConvergenceWarning: lbfgs failed to converge (status=1):\n",
      "STOP: TOTAL NO. of ITERATIONS REACHED LIMIT.\n",
      "\n",
      "Increase the number of iterations (max_iter) or scale the data as shown in:\n",
      "    https://scikit-learn.org/stable/modules/preprocessing.html\n",
      "Please also refer to the documentation for alternative solver options:\n",
      "    https://scikit-learn.org/stable/modules/linear_model.html#logistic-regression\n",
      "  extra_warning_msg=_LOGISTIC_SOLVER_CONVERGENCE_MSG)\n",
      "/home/aayushma/anaconda3/lib/python3.7/site-packages/sklearn/linear_model/_logistic.py:940: ConvergenceWarning: lbfgs failed to converge (status=1):\n",
      "STOP: TOTAL NO. of ITERATIONS REACHED LIMIT.\n",
      "\n",
      "Increase the number of iterations (max_iter) or scale the data as shown in:\n",
      "    https://scikit-learn.org/stable/modules/preprocessing.html\n",
      "Please also refer to the documentation for alternative solver options:\n",
      "    https://scikit-learn.org/stable/modules/linear_model.html#logistic-regression\n",
      "  extra_warning_msg=_LOGISTIC_SOLVER_CONVERGENCE_MSG)\n",
      "/home/aayushma/anaconda3/lib/python3.7/site-packages/sklearn/linear_model/_logistic.py:940: ConvergenceWarning: lbfgs failed to converge (status=1):\n",
      "STOP: TOTAL NO. of ITERATIONS REACHED LIMIT.\n",
      "\n",
      "Increase the number of iterations (max_iter) or scale the data as shown in:\n",
      "    https://scikit-learn.org/stable/modules/preprocessing.html\n",
      "Please also refer to the documentation for alternative solver options:\n",
      "    https://scikit-learn.org/stable/modules/linear_model.html#logistic-regression\n",
      "  extra_warning_msg=_LOGISTIC_SOLVER_CONVERGENCE_MSG)\n",
      "/home/aayushma/anaconda3/lib/python3.7/site-packages/sklearn/linear_model/_logistic.py:940: ConvergenceWarning: lbfgs failed to converge (status=1):\n",
      "STOP: TOTAL NO. of ITERATIONS REACHED LIMIT.\n",
      "\n",
      "Increase the number of iterations (max_iter) or scale the data as shown in:\n",
      "    https://scikit-learn.org/stable/modules/preprocessing.html\n",
      "Please also refer to the documentation for alternative solver options:\n",
      "    https://scikit-learn.org/stable/modules/linear_model.html#logistic-regression\n",
      "  extra_warning_msg=_LOGISTIC_SOLVER_CONVERGENCE_MSG)\n",
      "/home/aayushma/anaconda3/lib/python3.7/site-packages/sklearn/linear_model/_logistic.py:940: ConvergenceWarning: lbfgs failed to converge (status=1):\n",
      "STOP: TOTAL NO. of ITERATIONS REACHED LIMIT.\n",
      "\n",
      "Increase the number of iterations (max_iter) or scale the data as shown in:\n",
      "    https://scikit-learn.org/stable/modules/preprocessing.html\n",
      "Please also refer to the documentation for alternative solver options:\n",
      "    https://scikit-learn.org/stable/modules/linear_model.html#logistic-regression\n",
      "  extra_warning_msg=_LOGISTIC_SOLVER_CONVERGENCE_MSG)\n",
      "/home/aayushma/anaconda3/lib/python3.7/site-packages/sklearn/linear_model/_logistic.py:940: ConvergenceWarning: lbfgs failed to converge (status=1):\n",
      "STOP: TOTAL NO. of ITERATIONS REACHED LIMIT.\n",
      "\n",
      "Increase the number of iterations (max_iter) or scale the data as shown in:\n",
      "    https://scikit-learn.org/stable/modules/preprocessing.html\n",
      "Please also refer to the documentation for alternative solver options:\n",
      "    https://scikit-learn.org/stable/modules/linear_model.html#logistic-regression\n",
      "  extra_warning_msg=_LOGISTIC_SOLVER_CONVERGENCE_MSG)\n",
      "/home/aayushma/anaconda3/lib/python3.7/site-packages/sklearn/linear_model/_logistic.py:940: ConvergenceWarning: lbfgs failed to converge (status=1):\n",
      "STOP: TOTAL NO. of ITERATIONS REACHED LIMIT.\n",
      "\n",
      "Increase the number of iterations (max_iter) or scale the data as shown in:\n",
      "    https://scikit-learn.org/stable/modules/preprocessing.html\n",
      "Please also refer to the documentation for alternative solver options:\n",
      "    https://scikit-learn.org/stable/modules/linear_model.html#logistic-regression\n",
      "  extra_warning_msg=_LOGISTIC_SOLVER_CONVERGENCE_MSG)\n"
     ]
    },
    {
     "name": "stderr",
     "output_type": "stream",
     "text": [
      "/home/aayushma/anaconda3/lib/python3.7/site-packages/sklearn/linear_model/_logistic.py:940: ConvergenceWarning: lbfgs failed to converge (status=1):\n",
      "STOP: TOTAL NO. of ITERATIONS REACHED LIMIT.\n",
      "\n",
      "Increase the number of iterations (max_iter) or scale the data as shown in:\n",
      "    https://scikit-learn.org/stable/modules/preprocessing.html\n",
      "Please also refer to the documentation for alternative solver options:\n",
      "    https://scikit-learn.org/stable/modules/linear_model.html#logistic-regression\n",
      "  extra_warning_msg=_LOGISTIC_SOLVER_CONVERGENCE_MSG)\n",
      "/home/aayushma/anaconda3/lib/python3.7/site-packages/sklearn/linear_model/_logistic.py:940: ConvergenceWarning: lbfgs failed to converge (status=1):\n",
      "STOP: TOTAL NO. of ITERATIONS REACHED LIMIT.\n",
      "\n",
      "Increase the number of iterations (max_iter) or scale the data as shown in:\n",
      "    https://scikit-learn.org/stable/modules/preprocessing.html\n",
      "Please also refer to the documentation for alternative solver options:\n",
      "    https://scikit-learn.org/stable/modules/linear_model.html#logistic-regression\n",
      "  extra_warning_msg=_LOGISTIC_SOLVER_CONVERGENCE_MSG)\n",
      "/home/aayushma/anaconda3/lib/python3.7/site-packages/sklearn/linear_model/_logistic.py:940: ConvergenceWarning: lbfgs failed to converge (status=1):\n",
      "STOP: TOTAL NO. of ITERATIONS REACHED LIMIT.\n",
      "\n",
      "Increase the number of iterations (max_iter) or scale the data as shown in:\n",
      "    https://scikit-learn.org/stable/modules/preprocessing.html\n",
      "Please also refer to the documentation for alternative solver options:\n",
      "    https://scikit-learn.org/stable/modules/linear_model.html#logistic-regression\n",
      "  extra_warning_msg=_LOGISTIC_SOLVER_CONVERGENCE_MSG)\n",
      "/home/aayushma/anaconda3/lib/python3.7/site-packages/sklearn/linear_model/_logistic.py:940: ConvergenceWarning: lbfgs failed to converge (status=1):\n",
      "STOP: TOTAL NO. of ITERATIONS REACHED LIMIT.\n",
      "\n",
      "Increase the number of iterations (max_iter) or scale the data as shown in:\n",
      "    https://scikit-learn.org/stable/modules/preprocessing.html\n",
      "Please also refer to the documentation for alternative solver options:\n",
      "    https://scikit-learn.org/stable/modules/linear_model.html#logistic-regression\n",
      "  extra_warning_msg=_LOGISTIC_SOLVER_CONVERGENCE_MSG)\n",
      "/home/aayushma/anaconda3/lib/python3.7/site-packages/sklearn/linear_model/_logistic.py:940: ConvergenceWarning: lbfgs failed to converge (status=1):\n",
      "STOP: TOTAL NO. of ITERATIONS REACHED LIMIT.\n",
      "\n",
      "Increase the number of iterations (max_iter) or scale the data as shown in:\n",
      "    https://scikit-learn.org/stable/modules/preprocessing.html\n",
      "Please also refer to the documentation for alternative solver options:\n",
      "    https://scikit-learn.org/stable/modules/linear_model.html#logistic-regression\n",
      "  extra_warning_msg=_LOGISTIC_SOLVER_CONVERGENCE_MSG)\n",
      "/home/aayushma/anaconda3/lib/python3.7/site-packages/sklearn/linear_model/_logistic.py:940: ConvergenceWarning: lbfgs failed to converge (status=1):\n",
      "STOP: TOTAL NO. of ITERATIONS REACHED LIMIT.\n",
      "\n",
      "Increase the number of iterations (max_iter) or scale the data as shown in:\n",
      "    https://scikit-learn.org/stable/modules/preprocessing.html\n",
      "Please also refer to the documentation for alternative solver options:\n",
      "    https://scikit-learn.org/stable/modules/linear_model.html#logistic-regression\n",
      "  extra_warning_msg=_LOGISTIC_SOLVER_CONVERGENCE_MSG)\n",
      "/home/aayushma/anaconda3/lib/python3.7/site-packages/sklearn/linear_model/_logistic.py:940: ConvergenceWarning: lbfgs failed to converge (status=1):\n",
      "STOP: TOTAL NO. of ITERATIONS REACHED LIMIT.\n",
      "\n",
      "Increase the number of iterations (max_iter) or scale the data as shown in:\n",
      "    https://scikit-learn.org/stable/modules/preprocessing.html\n",
      "Please also refer to the documentation for alternative solver options:\n",
      "    https://scikit-learn.org/stable/modules/linear_model.html#logistic-regression\n",
      "  extra_warning_msg=_LOGISTIC_SOLVER_CONVERGENCE_MSG)\n",
      "/home/aayushma/anaconda3/lib/python3.7/site-packages/sklearn/linear_model/_logistic.py:940: ConvergenceWarning: lbfgs failed to converge (status=1):\n",
      "STOP: TOTAL NO. of ITERATIONS REACHED LIMIT.\n",
      "\n",
      "Increase the number of iterations (max_iter) or scale the data as shown in:\n",
      "    https://scikit-learn.org/stable/modules/preprocessing.html\n",
      "Please also refer to the documentation for alternative solver options:\n",
      "    https://scikit-learn.org/stable/modules/linear_model.html#logistic-regression\n",
      "  extra_warning_msg=_LOGISTIC_SOLVER_CONVERGENCE_MSG)\n",
      "/home/aayushma/anaconda3/lib/python3.7/site-packages/sklearn/linear_model/_logistic.py:940: ConvergenceWarning: lbfgs failed to converge (status=1):\n",
      "STOP: TOTAL NO. of ITERATIONS REACHED LIMIT.\n",
      "\n",
      "Increase the number of iterations (max_iter) or scale the data as shown in:\n",
      "    https://scikit-learn.org/stable/modules/preprocessing.html\n",
      "Please also refer to the documentation for alternative solver options:\n",
      "    https://scikit-learn.org/stable/modules/linear_model.html#logistic-regression\n",
      "  extra_warning_msg=_LOGISTIC_SOLVER_CONVERGENCE_MSG)\n",
      "/home/aayushma/anaconda3/lib/python3.7/site-packages/sklearn/linear_model/_logistic.py:940: ConvergenceWarning: lbfgs failed to converge (status=1):\n",
      "STOP: TOTAL NO. of ITERATIONS REACHED LIMIT.\n",
      "\n",
      "Increase the number of iterations (max_iter) or scale the data as shown in:\n",
      "    https://scikit-learn.org/stable/modules/preprocessing.html\n",
      "Please also refer to the documentation for alternative solver options:\n",
      "    https://scikit-learn.org/stable/modules/linear_model.html#logistic-regression\n",
      "  extra_warning_msg=_LOGISTIC_SOLVER_CONVERGENCE_MSG)\n",
      "/home/aayushma/anaconda3/lib/python3.7/site-packages/sklearn/linear_model/_logistic.py:940: ConvergenceWarning: lbfgs failed to converge (status=1):\n",
      "STOP: TOTAL NO. of ITERATIONS REACHED LIMIT.\n",
      "\n",
      "Increase the number of iterations (max_iter) or scale the data as shown in:\n",
      "    https://scikit-learn.org/stable/modules/preprocessing.html\n",
      "Please also refer to the documentation for alternative solver options:\n",
      "    https://scikit-learn.org/stable/modules/linear_model.html#logistic-regression\n",
      "  extra_warning_msg=_LOGISTIC_SOLVER_CONVERGENCE_MSG)\n",
      "/home/aayushma/anaconda3/lib/python3.7/site-packages/sklearn/linear_model/_logistic.py:940: ConvergenceWarning: lbfgs failed to converge (status=1):\n",
      "STOP: TOTAL NO. of ITERATIONS REACHED LIMIT.\n",
      "\n",
      "Increase the number of iterations (max_iter) or scale the data as shown in:\n",
      "    https://scikit-learn.org/stable/modules/preprocessing.html\n",
      "Please also refer to the documentation for alternative solver options:\n",
      "    https://scikit-learn.org/stable/modules/linear_model.html#logistic-regression\n",
      "  extra_warning_msg=_LOGISTIC_SOLVER_CONVERGENCE_MSG)\n",
      "/home/aayushma/anaconda3/lib/python3.7/site-packages/sklearn/linear_model/_logistic.py:940: ConvergenceWarning: lbfgs failed to converge (status=1):\n",
      "STOP: TOTAL NO. of ITERATIONS REACHED LIMIT.\n",
      "\n",
      "Increase the number of iterations (max_iter) or scale the data as shown in:\n",
      "    https://scikit-learn.org/stable/modules/preprocessing.html\n",
      "Please also refer to the documentation for alternative solver options:\n",
      "    https://scikit-learn.org/stable/modules/linear_model.html#logistic-regression\n",
      "  extra_warning_msg=_LOGISTIC_SOLVER_CONVERGENCE_MSG)\n",
      "/home/aayushma/anaconda3/lib/python3.7/site-packages/sklearn/linear_model/_logistic.py:940: ConvergenceWarning: lbfgs failed to converge (status=1):\n",
      "STOP: TOTAL NO. of ITERATIONS REACHED LIMIT.\n",
      "\n",
      "Increase the number of iterations (max_iter) or scale the data as shown in:\n",
      "    https://scikit-learn.org/stable/modules/preprocessing.html\n",
      "Please also refer to the documentation for alternative solver options:\n",
      "    https://scikit-learn.org/stable/modules/linear_model.html#logistic-regression\n",
      "  extra_warning_msg=_LOGISTIC_SOLVER_CONVERGENCE_MSG)\n",
      "/home/aayushma/anaconda3/lib/python3.7/site-packages/sklearn/linear_model/_logistic.py:940: ConvergenceWarning: lbfgs failed to converge (status=1):\n",
      "STOP: TOTAL NO. of ITERATIONS REACHED LIMIT.\n",
      "\n",
      "Increase the number of iterations (max_iter) or scale the data as shown in:\n",
      "    https://scikit-learn.org/stable/modules/preprocessing.html\n",
      "Please also refer to the documentation for alternative solver options:\n",
      "    https://scikit-learn.org/stable/modules/linear_model.html#logistic-regression\n",
      "  extra_warning_msg=_LOGISTIC_SOLVER_CONVERGENCE_MSG)\n",
      "/home/aayushma/anaconda3/lib/python3.7/site-packages/sklearn/linear_model/_logistic.py:940: ConvergenceWarning: lbfgs failed to converge (status=1):\n",
      "STOP: TOTAL NO. of ITERATIONS REACHED LIMIT.\n",
      "\n",
      "Increase the number of iterations (max_iter) or scale the data as shown in:\n",
      "    https://scikit-learn.org/stable/modules/preprocessing.html\n",
      "Please also refer to the documentation for alternative solver options:\n",
      "    https://scikit-learn.org/stable/modules/linear_model.html#logistic-regression\n",
      "  extra_warning_msg=_LOGISTIC_SOLVER_CONVERGENCE_MSG)\n"
     ]
    },
    {
     "name": "stderr",
     "output_type": "stream",
     "text": [
      "/home/aayushma/anaconda3/lib/python3.7/site-packages/sklearn/linear_model/_logistic.py:940: ConvergenceWarning: lbfgs failed to converge (status=1):\n",
      "STOP: TOTAL NO. of ITERATIONS REACHED LIMIT.\n",
      "\n",
      "Increase the number of iterations (max_iter) or scale the data as shown in:\n",
      "    https://scikit-learn.org/stable/modules/preprocessing.html\n",
      "Please also refer to the documentation for alternative solver options:\n",
      "    https://scikit-learn.org/stable/modules/linear_model.html#logistic-regression\n",
      "  extra_warning_msg=_LOGISTIC_SOLVER_CONVERGENCE_MSG)\n",
      "/home/aayushma/anaconda3/lib/python3.7/site-packages/sklearn/linear_model/_logistic.py:940: ConvergenceWarning: lbfgs failed to converge (status=1):\n",
      "STOP: TOTAL NO. of ITERATIONS REACHED LIMIT.\n",
      "\n",
      "Increase the number of iterations (max_iter) or scale the data as shown in:\n",
      "    https://scikit-learn.org/stable/modules/preprocessing.html\n",
      "Please also refer to the documentation for alternative solver options:\n",
      "    https://scikit-learn.org/stable/modules/linear_model.html#logistic-regression\n",
      "  extra_warning_msg=_LOGISTIC_SOLVER_CONVERGENCE_MSG)\n",
      "/home/aayushma/anaconda3/lib/python3.7/site-packages/sklearn/linear_model/_logistic.py:940: ConvergenceWarning: lbfgs failed to converge (status=1):\n",
      "STOP: TOTAL NO. of ITERATIONS REACHED LIMIT.\n",
      "\n",
      "Increase the number of iterations (max_iter) or scale the data as shown in:\n",
      "    https://scikit-learn.org/stable/modules/preprocessing.html\n",
      "Please also refer to the documentation for alternative solver options:\n",
      "    https://scikit-learn.org/stable/modules/linear_model.html#logistic-regression\n",
      "  extra_warning_msg=_LOGISTIC_SOLVER_CONVERGENCE_MSG)\n",
      "/home/aayushma/anaconda3/lib/python3.7/site-packages/sklearn/linear_model/_logistic.py:940: ConvergenceWarning: lbfgs failed to converge (status=1):\n",
      "STOP: TOTAL NO. of ITERATIONS REACHED LIMIT.\n",
      "\n",
      "Increase the number of iterations (max_iter) or scale the data as shown in:\n",
      "    https://scikit-learn.org/stable/modules/preprocessing.html\n",
      "Please also refer to the documentation for alternative solver options:\n",
      "    https://scikit-learn.org/stable/modules/linear_model.html#logistic-regression\n",
      "  extra_warning_msg=_LOGISTIC_SOLVER_CONVERGENCE_MSG)\n",
      "/home/aayushma/anaconda3/lib/python3.7/site-packages/sklearn/linear_model/_logistic.py:940: ConvergenceWarning: lbfgs failed to converge (status=1):\n",
      "STOP: TOTAL NO. of ITERATIONS REACHED LIMIT.\n",
      "\n",
      "Increase the number of iterations (max_iter) or scale the data as shown in:\n",
      "    https://scikit-learn.org/stable/modules/preprocessing.html\n",
      "Please also refer to the documentation for alternative solver options:\n",
      "    https://scikit-learn.org/stable/modules/linear_model.html#logistic-regression\n",
      "  extra_warning_msg=_LOGISTIC_SOLVER_CONVERGENCE_MSG)\n",
      "/home/aayushma/anaconda3/lib/python3.7/site-packages/sklearn/linear_model/_logistic.py:940: ConvergenceWarning: lbfgs failed to converge (status=1):\n",
      "STOP: TOTAL NO. of ITERATIONS REACHED LIMIT.\n",
      "\n",
      "Increase the number of iterations (max_iter) or scale the data as shown in:\n",
      "    https://scikit-learn.org/stable/modules/preprocessing.html\n",
      "Please also refer to the documentation for alternative solver options:\n",
      "    https://scikit-learn.org/stable/modules/linear_model.html#logistic-regression\n",
      "  extra_warning_msg=_LOGISTIC_SOLVER_CONVERGENCE_MSG)\n",
      "/home/aayushma/anaconda3/lib/python3.7/site-packages/sklearn/linear_model/_logistic.py:940: ConvergenceWarning: lbfgs failed to converge (status=1):\n",
      "STOP: TOTAL NO. of ITERATIONS REACHED LIMIT.\n",
      "\n",
      "Increase the number of iterations (max_iter) or scale the data as shown in:\n",
      "    https://scikit-learn.org/stable/modules/preprocessing.html\n",
      "Please also refer to the documentation for alternative solver options:\n",
      "    https://scikit-learn.org/stable/modules/linear_model.html#logistic-regression\n",
      "  extra_warning_msg=_LOGISTIC_SOLVER_CONVERGENCE_MSG)\n",
      "/home/aayushma/anaconda3/lib/python3.7/site-packages/sklearn/linear_model/_logistic.py:940: ConvergenceWarning: lbfgs failed to converge (status=1):\n",
      "STOP: TOTAL NO. of ITERATIONS REACHED LIMIT.\n",
      "\n",
      "Increase the number of iterations (max_iter) or scale the data as shown in:\n",
      "    https://scikit-learn.org/stable/modules/preprocessing.html\n",
      "Please also refer to the documentation for alternative solver options:\n",
      "    https://scikit-learn.org/stable/modules/linear_model.html#logistic-regression\n",
      "  extra_warning_msg=_LOGISTIC_SOLVER_CONVERGENCE_MSG)\n",
      "/home/aayushma/anaconda3/lib/python3.7/site-packages/sklearn/linear_model/_logistic.py:940: ConvergenceWarning: lbfgs failed to converge (status=1):\n",
      "STOP: TOTAL NO. of ITERATIONS REACHED LIMIT.\n",
      "\n",
      "Increase the number of iterations (max_iter) or scale the data as shown in:\n",
      "    https://scikit-learn.org/stable/modules/preprocessing.html\n",
      "Please also refer to the documentation for alternative solver options:\n",
      "    https://scikit-learn.org/stable/modules/linear_model.html#logistic-regression\n",
      "  extra_warning_msg=_LOGISTIC_SOLVER_CONVERGENCE_MSG)\n",
      "/home/aayushma/anaconda3/lib/python3.7/site-packages/ipykernel_launcher.py:3: DataConversionWarning: A column-vector y was passed when a 1d array was expected. Please change the shape of y to (n_samples, ), for example using ravel().\n",
      "  This is separate from the ipykernel package so we can avoid doing imports until\n"
     ]
    },
    {
     "data": {
      "text/plain": [
       "KNeighborsClassifier(algorithm='auto', leaf_size=30, metric='minkowski',\n",
       "                     metric_params=None, n_jobs=None, n_neighbors=5, p=2,\n",
       "                     weights='uniform')"
      ]
     },
     "execution_count": 114,
     "metadata": {},
     "output_type": "execute_result"
    }
   ],
   "source": [
    "svc.fit(X_train,y_train)\n",
    "lr.fit(X_train,y_train)\n",
    "knn.fit(X_train,y_train)"
   ]
  },
  {
   "cell_type": "code",
   "execution_count": 116,
   "metadata": {},
   "outputs": [
    {
     "data": {
      "text/plain": [
       "array([0, 0, 0, 0, 0, 1, 1, 0, 0, 1, 1, 0, 0, 0, 0, 1, 0, 1, 0, 0, 0, 1,\n",
       "       0, 0, 0, 0, 0, 1, 1, 0, 0, 0, 0, 0, 0, 1, 0, 0, 0, 1, 1, 0, 1, 1,\n",
       "       1, 0, 1, 0, 0, 0, 0, 1, 0, 0, 0, 1, 0, 0, 1, 0, 0, 1, 0, 1, 1, 0,\n",
       "       0, 0, 1, 1, 0, 1, 1, 0, 0, 0, 0, 1, 0, 0, 0, 1, 0, 0, 0, 1, 1, 1,\n",
       "       0, 1, 1, 1, 0, 1, 1, 0, 0, 0, 1, 1, 0, 0, 1, 1, 0, 0, 0, 1, 0, 0,\n",
       "       0, 0, 0, 0])"
      ]
     },
     "execution_count": 116,
     "metadata": {},
     "output_type": "execute_result"
    }
   ],
   "source": [
    "svc.predict(X_test)\n",
    "lr.predict(X_test)\n",
    "knn.predict(X_test)"
   ]
  },
  {
   "cell_type": "code",
   "execution_count": 117,
   "metadata": {},
   "outputs": [
    {
     "data": {
      "text/plain": [
       "0.9122807017543859"
      ]
     },
     "execution_count": 117,
     "metadata": {},
     "output_type": "execute_result"
    }
   ],
   "source": [
    "svc.score(X_test,y_test)"
   ]
  },
  {
   "cell_type": "code",
   "execution_count": 118,
   "metadata": {},
   "outputs": [
    {
     "data": {
      "text/plain": [
       "0.9148351648351648"
      ]
     },
     "execution_count": 118,
     "metadata": {},
     "output_type": "execute_result"
    }
   ],
   "source": [
    "svc.score(X_train,y_train)"
   ]
  },
  {
   "cell_type": "code",
   "execution_count": 119,
   "metadata": {},
   "outputs": [
    {
     "data": {
      "text/plain": [
       "0.8571428571428571"
      ]
     },
     "execution_count": 119,
     "metadata": {},
     "output_type": "execute_result"
    }
   ],
   "source": [
    "svc.score(X_val,y_val)"
   ]
  },
  {
   "cell_type": "code",
   "execution_count": 121,
   "metadata": {},
   "outputs": [
    {
     "data": {
      "text/plain": [
       "0.956140350877193"
      ]
     },
     "execution_count": 121,
     "metadata": {},
     "output_type": "execute_result"
    }
   ],
   "source": [
    "lr.score(X_test,y_test)"
   ]
  },
  {
   "cell_type": "code",
   "execution_count": 122,
   "metadata": {},
   "outputs": [
    {
     "data": {
      "text/plain": [
       "0.9725274725274725"
      ]
     },
     "execution_count": 122,
     "metadata": {},
     "output_type": "execute_result"
    }
   ],
   "source": [
    "lr.score(X_train,y_train)"
   ]
  },
  {
   "cell_type": "code",
   "execution_count": 123,
   "metadata": {},
   "outputs": [
    {
     "data": {
      "text/plain": [
       "0.967032967032967"
      ]
     },
     "execution_count": 123,
     "metadata": {},
     "output_type": "execute_result"
    }
   ],
   "source": [
    "lr.score(X_val,y_val)"
   ]
  },
  {
   "cell_type": "code",
   "execution_count": 124,
   "metadata": {},
   "outputs": [
    {
     "data": {
      "text/plain": [
       "0.9385964912280702"
      ]
     },
     "execution_count": 124,
     "metadata": {},
     "output_type": "execute_result"
    }
   ],
   "source": [
    "knn.score(X_test,y_test)"
   ]
  },
  {
   "cell_type": "code",
   "execution_count": 125,
   "metadata": {},
   "outputs": [
    {
     "data": {
      "text/plain": [
       "0.9532967032967034"
      ]
     },
     "execution_count": 125,
     "metadata": {},
     "output_type": "execute_result"
    }
   ],
   "source": [
    "knn.score(X_train,y_train)"
   ]
  },
  {
   "cell_type": "code",
   "execution_count": 126,
   "metadata": {},
   "outputs": [
    {
     "data": {
      "text/plain": [
       "0.8901098901098901"
      ]
     },
     "execution_count": 126,
     "metadata": {},
     "output_type": "execute_result"
    }
   ],
   "source": [
    "knn.score(X_val,y_val)"
   ]
  },
  {
   "cell_type": "code",
   "execution_count": null,
   "metadata": {},
   "outputs": [],
   "source": []
  }
 ],
 "metadata": {
  "kernelspec": {
   "display_name": "Python 3",
   "language": "python",
   "name": "python3"
  },
  "language_info": {
   "codemirror_mode": {
    "name": "ipython",
    "version": 3
   },
   "file_extension": ".py",
   "mimetype": "text/x-python",
   "name": "python",
   "nbconvert_exporter": "python",
   "pygments_lexer": "ipython3",
   "version": "3.7.6"
  }
 },
 "nbformat": 4,
 "nbformat_minor": 4
}
